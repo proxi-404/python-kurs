{
 "cells": [
  {
   "cell_type": "markdown",
   "metadata": {},
   "source": [
    "# Aufgaben zu Input Output:\n",
    "### 1 Pascalsches Dreieck\n",
    "Berechne die ersten $n$ Zeilen des Pascalschen Dreiecks. Dieses enthält in der $n$-ten Zeile und $k$-ten Spalte den Wert von $\\binom{n}{k}$:\n",
    "\n",
    "$$\n",
    "\\begin{array}{rrrrrrrrrr}\n",
    "  1  \\\\\n",
    "  1 & 1 \\\\  \n",
    "  1 & 2 &  1 \\\\  \n",
    "  1 & 3 &  3 &  1 \\\\  \n",
    "  1 & 4 &  6 &  4 &  1 \\\\ \n",
    "  1 & 5 & 10 & 10 &  5 &  1 \\\\ \n",
    "  1 & 6 & 15 & 20 & 15 &  6 & 1 \\\\ \n",
    "  1 & 7 & 21 & 35 & 35 & 21 & 7 & 1 \\\\  \n",
    "  1 & 8 & 28 & 56 & 70 & 56 &28 & 8 & 1 \\\\\n",
    "  1 & 9 & 36 & 84 &126 &126 &84 &36 & 9 & 1 \\\\\n",
    "\\end{array}\n",
    "$$\n",
    "\n",
    "Die Einträge des Pascalschen Dreiecks sind durch die Binomialkoeffizienten gegeben:\n",
    "\n",
    "$$\n",
    "\\binom{n}{k}=\\frac{n\\cdot(n-1)\\cdots (n-k+1)}{1\\cdot 2\\cdots k}\n",
    "$$\n",
    "\n",
    "**Zusatzaufgabe** in einem zweiten Schritt mit Hilfe von `string.center(length, char)` eine \"schöne\" Ausgabe:\n",
    "```\n",
    "                     1                      \n",
    "                   1   1                    \n",
    "                 1   2   1                  \n",
    "               1   3   3   1                \n",
    "             1   4   6   4   1              \n",
    "           1   5   10  10  5   1            \n",
    "         1   6   15  20  15  6   1          \n",
    "       1   7   21  35  35  21  7   1        \n",
    "     1   8   28  56  70  56  28  8   1      \n",
    "   1   9   36  84 126 126  84  36  9   1 \n",
    "```"
   ]
  },
  {
   "cell_type": "code",
   "execution_count": null,
   "metadata": {},
   "outputs": [],
   "source": []
  }
 ],
 "metadata": {
  "language_info": {
   "name": "python"
  },
  "orig_nbformat": 4
 },
 "nbformat": 4,
 "nbformat_minor": 2
}
