{
 "cells": [
  {
   "cell_type": "markdown",
   "metadata": {},
   "source": [
    "# Aufgaben\n",
    "In diesem Kapitel könnt ihr euch selbst Aufgaben stellen und diese versuchen mit Hilfe der Dokumentation von matplotlib zu lösen.\n",
    "\n",
    "mögliche Aufgabenstellungen könnten z.B. sein:\n",
    "- den Beispielfit mit Beschriftungen, einem Titel ... aufhübschen\n",
    "- viele Subplots mit einer Schleife generieren\n",
    "- Heatmaps\n",
    "- 3D-Plots\n",
    "- Vektorfelder\n",
    "- ..."
   ]
  },
  {
   "cell_type": "markdown",
   "metadata": {},
   "source": []
  }
 ],
 "metadata": {
  "language_info": {
   "name": "python"
  }
 },
 "nbformat": 4,
 "nbformat_minor": 2
}
