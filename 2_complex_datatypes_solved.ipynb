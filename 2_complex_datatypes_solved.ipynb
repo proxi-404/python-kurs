{
 "cells": [
  {
   "cell_type": "markdown",
   "metadata": {},
   "source": [
    "### 1 Collatz"
   ]
  },
  {
   "cell_type": "code",
   "execution_count": 9,
   "metadata": {},
   "outputs": [],
   "source": [
    "def collatz(n):\n",
    "    last_0 = 0 # last sequence value\n",
    "    last_1 = 0 # second last sequence value\n",
    "    last_2 = 0 # third last sequence value\n",
    "    res = []\n",
    "    while (last_2 != 4 or last_1 != 2 or last_0 != 1):\n",
    "        res.append(round(n))\n",
    "        if (n % 2 == 0):\n",
    "            n = n/2\n",
    "        else:\n",
    "             n = 3*n +1\n",
    "        last_2 = last_1\n",
    "        last_1 = last_0\n",
    "        last_0 = n\n",
    "    res.append(round(n))\n",
    "    return(res)\n",
    "\n",
    "\n",
    "assert collatz(1) == [1, 4, 2, 1]\n",
    "assert collatz(10) == [10, 5, 16, 8, 4, 2, 1]\n",
    "assert collatz(19) == [19, 58, 29, 88, 44, 22, 11, 34, 17, 52, 26, 13, 40, 20, 10, 5, 16, 8, 4, 2, 1]"
   ]
  },
  {
   "cell_type": "markdown",
   "metadata": {},
   "source": [
    "### 2 Fibonacci"
   ]
  },
  {
   "cell_type": "code",
   "execution_count": 11,
   "metadata": {},
   "outputs": [],
   "source": [
    "def fib(n):\n",
    "    if (n == 0): return [0]\n",
    "    elif (n == 1): return [0, 1]\n",
    "    else:\n",
    "        result = [0, 1]\n",
    "        current = 0\n",
    "        i = 2\n",
    "        last = 1\n",
    "        penultimate = 0\n",
    "        while (i <= n):\n",
    "            current = last + penultimate\n",
    "            penultimate = last\n",
    "            last = current\n",
    "            i += 1\n",
    "            result.append(current)\n",
    "    return result\n",
    "\n",
    "assert fib(0) == [0]\n",
    "assert fib(1) == [0, 1]\n",
    "assert fib(2) == [0, 1, 1]\n",
    "assert fib(10) == [0, 1, 1, 2, 3, 5, 8, 13, 21, 34, 55]"
   ]
  },
  {
   "cell_type": "markdown",
   "metadata": {},
   "source": [
    "### 3 Maximum"
   ]
  },
  {
   "cell_type": "code",
   "execution_count": 14,
   "metadata": {},
   "outputs": [],
   "source": [
    "def maximum(l):\n",
    "    if (len(l) == 0):\n",
    "        return None\n",
    "    max = l[0]\n",
    "    for x in l:\n",
    "        if (x > max):\n",
    "            max = x\n",
    "    return max\n",
    "\n",
    "assert maximum([\"a\", \"n\", \"z\", \"o\"]) == \"z\"\n",
    "assert maximum([-1, 3, -5, 7, -8.1]) == 7"
   ]
  },
  {
   "cell_type": "markdown",
   "metadata": {},
   "source": [
    "### 4 kleinster Abstand"
   ]
  },
  {
   "cell_type": "code",
   "execution_count": 30,
   "metadata": {},
   "outputs": [],
   "source": [
    "def least_dist(l):\n",
    "    if (len(l) < 2):\n",
    "        return None\n",
    "    smallest_dist = abs(l[0] - l[1])\n",
    "    a = l[0]\n",
    "    b = l[1]\n",
    "    for i in l:\n",
    "        for j in l:\n",
    "            if (abs(i-j) < smallest_dist and abs(i-j) > 0):\n",
    "                smallest_dist = abs(i-j)\n",
    "                a = i\n",
    "                b = j\n",
    "    res = [a, b]\n",
    "    res.sort()\n",
    "    return res\n",
    "\n",
    "assert least_dist([1, 4, 7.7, 8, 9, 12, 2, 2.1, 13, 2.04, 3]) == [2, 2.04]\n",
    "assert least_dist([96, 88, 28, 96, 85, 20, 89, 30, 71, 48]) == [88, 89]\n",
    "assert least_dist([39, 69, 5, 1, 23, 15, 52, 45, 67, 95]) == [67, 69]"
   ]
  },
  {
   "cell_type": "code",
   "execution_count": 62,
   "metadata": {},
   "outputs": [
    {
     "name": "stdout",
     "output_type": "stream",
     "text": [
      "[[1, 2, 3, 4, 5, 6], [2, 4, 6, 8, 10, 12], [3, 6, 9, 12, 15, 18], [4, 8, 12, 16, 20, 24]]\n",
      "  *     1    2    3    4    5    6    7 \n",
      "---- ---- ---- ---- ---- ---- ---- ---- \n",
      " 1 |    1    2    3    4    5    6    7 \n",
      " 2 |    2    4    6    8   10   12   14 \n",
      " 3 |    3    6    9   12   15   18   21 \n",
      " 4 |    4    8   12   16   20   24   28 \n",
      " 5 |    5   10   15   20   25   30   35 \n"
     ]
    }
   ],
   "source": [
    "def great_1x1(m, n):\n",
    "    result = []\n",
    "    for i in range(1, m+1):\n",
    "        tmp = []\n",
    "        for j in range(1, n+1):\n",
    "            tmp.append(i*j)\n",
    "        result.append(tmp)\n",
    "    return result\n",
    "\n",
    "def print_tab(table):\n",
    "    # first row\n",
    "    print(\"  *  \", end=\"\")\n",
    "    for i in range(1, len(table[0]) +1):\n",
    "        print(f\"{i:4d}\", end=\" \")\n",
    "    print()\n",
    "    # second row\n",
    "    for i in range(0, len(table[0]) +1):\n",
    "        print(f\"----\", end=\" \")\n",
    "    print()\n",
    "    # content\n",
    "    for i, row in enumerate(table):\n",
    "        print(f\"{i+1:2d}\", end=\" | \")\n",
    "        for entry in row:\n",
    "            print(f\"{entry:4d}\", end=\" \")\n",
    "        print()\n",
    "\n",
    "print(great_1x1(4, 6))\n",
    "print_tab(great_1x1(5, 7))\n",
    "assert great_1x1(4, 6) == [[1, 2, 3, 4, 5, 6], [2, 4, 6, 8, 10, 12], [3, 6, 9, 12, 15, 18], [4, 8, 12, 16, 20, 24]]"
   ]
  },
  {
   "cell_type": "code",
   "execution_count": null,
   "metadata": {},
   "outputs": [],
   "source": []
  }
 ],
 "metadata": {
  "kernelspec": {
   "display_name": "Python 3",
   "language": "python",
   "name": "python3"
  },
  "language_info": {
   "codemirror_mode": {
    "name": "ipython",
    "version": 3
   },
   "file_extension": ".py",
   "mimetype": "text/x-python",
   "name": "python",
   "nbconvert_exporter": "python",
   "pygments_lexer": "ipython3",
   "version": "3.10.12"
  },
  "orig_nbformat": 4
 },
 "nbformat": 4,
 "nbformat_minor": 2
}
