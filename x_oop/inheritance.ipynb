{
 "cells": [
  {
   "cell_type": "markdown",
   "metadata": {},
   "source": [
    "# Vererbung\n",
    "Eine große Stärke der OOP ist Vererbung. Dabei können Unterklassen angelegt werden, die die Funktionalität einer Basisklasse erweitern. Dies soll noch mal am Bankkonto verdeutlicht werden. Die Basisklasse soll nach wie vor *bank_account* bleiben. Neu hinzukommen sollen die Klassen *youth_account* und *savings_account* und *safe*. Zusätzlich wird das Speichern von Kundeninformationen in die Klasse *customers* ausgelagert. Folgende Eigenschaften sollen die neuen Klassen haben (ergänzen).\n",
    "* youth_account: Überweisungslimit, Überziehen nicht möglich\n",
    "* savings_account: kein Auszahlen und keine Überweisung möglich, dafür aber Verzinsung\n",
    "* safe: keine Überweisung möglich, Aus- und Einzahlungen erfordern die Eingabe einer PIN."
   ]
  },
  {
   "cell_type": "code",
   "execution_count": 6,
   "metadata": {},
   "outputs": [
    {
     "name": "stdout",
     "output_type": "stream",
     "text": [
      "name: X, balance: 1000\n",
      "name: Y, balance: 100, max_spending: 50\n",
      "name: X, balance: -1000\n",
      "name: Y, balance: 100, max_spending: 50\n"
     ]
    }
   ],
   "source": [
    "class Bank_account:\n",
    "    def __init__(self, data, initial_balance):\n",
    "        self.personal_data = data\n",
    "        self.balance = initial_balance\n",
    "    \n",
    "    def spending_allowed(self, amount):\n",
    "        return True\n",
    "\n",
    "    def pay_in(self, amount):\n",
    "        if (amount < 0):\n",
    "            return False\n",
    "        else:\n",
    "            self.balance += amount\n",
    "            return True\n",
    "\n",
    "    def pay_out(self, amount):\n",
    "        if self.spending_allowed(amount):\n",
    "            self.balance -= amount\n",
    "            return True\n",
    "        else:\n",
    "            return False\n",
    "        \n",
    "    def transfer(self, other, amount):\n",
    "        if self.spending_allowed(amount):\n",
    "            return False\n",
    "        else:\n",
    "            self.balance -= amount\n",
    "            other.balance += amount\n",
    "            return True\n",
    "\n",
    "    def __str__(self):\n",
    "        return f\"name: {self.personal_data}, balance: {self.balance}\"\n",
    "    \n",
    "class Youth_account(Bank_account):\n",
    "    def __init__(self, data, initial_balance, max_spending):\n",
    "        super().__init__(data, initial_balance)\n",
    "        self.max_spending = max_spending\n",
    "\n",
    "\n",
    "    def spending_allowed(self, amount):\n",
    "        return (self.balance >= amount and amount < self.max_spending)\n",
    "    \n",
    "    def __str__(self):\n",
    "        return super().__str__() + f\", max_spending: {self.max_spending}\"\n",
    "    \n",
    "\n",
    "b = Bank_account(\"X\", 1000)\n",
    "y = Youth_account(\"Y\", 100, 50)\n",
    "\n",
    "print(b)\n",
    "print(y)\n",
    "\n",
    "b.pay_out(2000)\n",
    "y.pay_out(100)\n",
    "\n",
    "print(b)\n",
    "print(y)"
   ]
  },
  {
   "cell_type": "markdown",
   "metadata": {},
   "source": [
    "### Aufgaben:\n",
    "Ergänze die oben erwähnten Klassen. Eränze außerdem Fehlermeldungen für alle scheiternden Transaktionen oder Auszahlungen."
   ]
  },
  {
   "cell_type": "code",
   "execution_count": null,
   "metadata": {},
   "outputs": [],
   "source": []
  }
 ],
 "metadata": {
  "kernelspec": {
   "display_name": "Python 3",
   "language": "python",
   "name": "python3"
  },
  "language_info": {
   "codemirror_mode": {
    "name": "ipython",
    "version": 3
   },
   "file_extension": ".py",
   "mimetype": "text/x-python",
   "name": "python",
   "nbconvert_exporter": "python",
   "pygments_lexer": "ipython3",
   "version": "3.10.12"
  },
  "orig_nbformat": 4
 },
 "nbformat": 4,
 "nbformat_minor": 2
}
