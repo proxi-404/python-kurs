{
 "cells": [
  {
   "cell_type": "markdown",
   "metadata": {},
   "source": [
    "# Input / Output\n",
    "Bisher haben wir mit dem Nutzer lediglich über `print` interagiert. Ein gängiges Konzept in der Informatik ist das *E(eingabe)V(erarbeitung)A(usgabe)-Prinzip*.\n",
    "## Nutzereingaben\n",
    "Nutzereingaben können ganz einfach mit `my_variable = input(\"type in some text\")` abgefragt werden. Wichtig ist, dass Nutzereingaben standardmäßig immer als `string` eingelesen werden und daher ggf. später noch in ein Zahl konvertiert werden müssen: `my_num = float(input(\"type in some float\"))`. Während der Nutzereingabe steht das restliche Programm still."
   ]
  },
  {
   "cell_type": "code",
   "execution_count": null,
   "metadata": {},
   "outputs": [],
   "source": [
    "num = int(input(\"enter an int number\"))\n",
    "num_2 = float(input(\"enter a float\"))\n",
    "text = input(\"enter some text\")\n",
    "print(f\"number 1: {num}, number 2: {num_2}, text: {text}\")"
   ]
  },
  {
   "cell_type": "markdown",
   "metadata": {},
   "source": [
    "## f-strings und formatierte Ausgabe:\n",
    "* `print(f\"{variable:4d}\")` gibt eine die Variable variable als ganze Zahl mit exakt 4 Stellen aus und füllt nicht vorhandene Ziffern mit Leerzeichen auf.\n",
    "* `print(\"something\", end=\"a string\")` gibt *something\" aus und beendet den Befehl nicht mit einem Zeilenumbruch, sondern mit *a string*\n",
    "\n",
    "Weitere Beispiele im Code:"
   ]
  },
  {
   "cell_type": "code",
   "execution_count": null,
   "metadata": {},
   "outputs": [],
   "source": [
    "int_num = 42\n",
    "float_num = 42.4242424242424242\n",
    "small_num = 0.000004242\n",
    "print(f\"a\\tb\\tc\\td\\n\") # \\t: tab, \\n: newline\n",
    "for i in range(10):\n",
    "    print(f\"{i:1d}\", end=\"\")\n",
    "print(\"\\n\"+\"|\"*10)\n",
    "print(int_num)\n",
    "print(f\"{int_num:4d}\")\n",
    "print(f\"{float_num:7.4}\") # four digits, total length of 7 = 4 digits + 2 whitespaces + 1 dot\n",
    "print(f\"small number: {small_num:%}\") # automatic multiplication by 100 and appending % sign\n",
    "print(f\"small number: {small_num:e}\") # exponential notation\n",
    "print(f\"small number: {small_num:.3e}\") # exponential notation with 3 digits\n",
    "print(\"something\", end=\"-\")\n",
    "print(\"more text\")"
   ]
  },
  {
   "cell_type": "markdown",
   "metadata": {},
   "source": [
    "Hier eine umfassende Übersicht bezüglich Positionierung und Darstellung von Inhalten mit `fstrings`:\n",
    "<table>\n",
    "<thead>\n",
    "<tr><th>symbol  </th><th>description                                                                                            </th></tr>\n",
    "</thead>\n",
    "<tbody>\n",
    "<tr><td>:&lt;      </td><td>Left aligns the result (within the available space)                                                    </td></tr>\n",
    "<tr><td>:&gt;      </td><td>Right aligns the result (within the available space)                                                   </td></tr>\n",
    "<tr><td>:^      </td><td>Center aligns the result (within the available space)                                                  </td></tr>\n",
    "<tr><td>:=      </td><td>Places the sign to the left most position                                                              </td></tr>\n",
    "<tr><td>:+      </td><td>Use a plus sign to indicate if the result is positive or negative                                      </td></tr>\n",
    "<tr><td>:-      </td><td>Use a minus sign for negative values only                                                              </td></tr>\n",
    "<tr><td>:       </td><td>Use a space to insert an extra space before positive numbers (and a minus sign before negative numbers)</td></tr>\n",
    "<tr><td>:,      </td><td>Use a comma as a thousand separator                                                                    </td></tr>\n",
    "<tr><td>:_      </td><td>Use a underscore as a thousand separator                                                               </td></tr>\n",
    "<tr><td>:b      </td><td>Binary format                                                                                          </td></tr>\n",
    "<tr><td>:c      </td><td>converts the value into the corresponding unicode character                                            </td></tr>\n",
    "<tr><td>:d      </td><td>Decimal format                                                                                         </td></tr>\n",
    "<tr><td>:e      </td><td>Scientific format, with a lower case e                                                                 </td></tr>\n",
    "<tr><td>:E      </td><td>Scientific format, with an upper case E                                                                </td></tr>\n",
    "<tr><td>:f      </td><td>Fix point number format                                                                                </td></tr>\n",
    "<tr><td>:F      </td><td>Fix point number format, in uppercase format (show inf and nan as INF and NAN)                         </td></tr>\n",
    "<tr><td>:o      </td><td>Octal format                                                                                           </td></tr>\n",
    "<tr><td>:x      </td><td>Hex format, lower case                                                                                 </td></tr>\n",
    "<tr><td>:X      </td><td>Hex format, upper case                                                                                 </td></tr>\n",
    "<tr><td>:%      </td><td>Percentage format                                                                                      </td></tr>\n",
    "</tbody>\n",
    "</table>"
   ]
  },
  {
   "cell_type": "code",
   "execution_count": null,
   "metadata": {},
   "outputs": [],
   "source": [
    "v0 = 1.234\n",
    "for i in range(10): print(f\"{i:1d}\", end=\"\")\n",
    "print(\"\\n\"+\"|\"*10)\n",
    "print(f\"{v0:<10}\")\n",
    "print(f\"{v0:>10}\")\n",
    "print(f\"{v0:^10}\")"
   ]
  },
  {
   "cell_type": "markdown",
   "metadata": {},
   "source": [
    "## Ausgabe von Tabellen\n",
    "Die Bibliothek `tabulate` bietet die Möglichkeit mit minimalem Aufwand Tabellen schön ausgeben zu können. Außerdem können Tabellen direkt in $\\LaTeX$ oder in HTML Syntax ausgegeben werden."
   ]
  },
  {
   "cell_type": "code",
   "execution_count": null,
   "metadata": {},
   "outputs": [],
   "source": [
    "from tabulate import tabulate\n",
    "# plain layout\n",
    "print(\"plain table:\")\n",
    "table = [[1, 2222, 30, 500, 4242424242], [4, 55, 6777, 1, \"\"]]\n",
    "print(tabulate(table), end=\"\\n\\n\")\n",
    "# print table from dictionary\n",
    "print(\"plain table from dict:\")\n",
    "my_dict = {\"Name\": [\"Alice\", \"Bob\"], \"Age\": [24, 19], \"profession\": {\"transmitter\", \"receiver\"}}\n",
    "print(tabulate(my_dict, headers=\"keys\"), end=\"\\n\\n\")"
   ]
  },
  {
   "cell_type": "code",
   "execution_count": null,
   "metadata": {},
   "outputs": [],
   "source": [
    "# fancy layout\n",
    "table_with_head = [['col 1', 'col 2', 'col 3', 'col 4'], [1, 2222, 30, 500, 4242424242], [4, 55, 6777, 1, \"\"]]\n",
    "table_without_head = [[\"\", 22, 55, 2.2, 3], [1, 2222, 30, 500, 4242424242], [4, 55, 6777, 1, \"\"]]\n",
    "# just playing around with table styles\n",
    "for format in [\"fancy_grid\", \"heavy_grid\",\"github\", \"html\", \"latex\"]:\n",
    "    print(format)\n",
    "    print(tabulate(table_without_head, headers=[\"index\", \"col 1\", \"col 2\", \"col 3\", \"col 4\", \"col 5\"], tablefmt=format, showindex=True))\n",
    "    print()"
   ]
  },
  {
   "cell_type": "markdown",
   "metadata": {},
   "source": [
    "## Dateien:\n",
    "Größere Datenmengen direkt einzutippen oder auf die Ausgabe zu printen ist nur mäßig sinnvoll. Daher kann Python auch Dateien einlesen oder Dateien schreiben. Der Umgang mit Dateien erfordert immer das Öffnen zu Beginn mit `open` und Schließen am Ende mit `close`. Dateien können in verschiedenen Modi geöffnet werden: \"r\": read, \"w\": write (überschreiben), \"a\": append (anfügen), \"x\": create sowie Kombinationen daraus wie z.B. \"rw\" für read and write. Außerdem kann angegeben werden, ob die Datei binär ausgelesen werden soll: \"b\" oder als Text: \"t\". Defaultmäßig ist \"rt\" eingestellt.\n",
    "\n",
    "Wichtige Funktionen sind außerdem: `read(num_chars)` und `readline()`"
   ]
  },
  {
   "cell_type": "code",
   "execution_count": null,
   "metadata": {},
   "outputs": [],
   "source": [
    "import random\n",
    "\n",
    "file = open(\"files/output_file.txt\", \"w\")\n",
    "file.write(\"first line \\nsecond line\\nend\\n\")\n",
    "file.write(\"some random numbers\\n\")\n",
    "for i in range(10):\n",
    "    file.write(str(random.random()) + \"\\n\")\n",
    "file.close()\n",
    "\n",
    "file = open(\"files/output_file.txt\")\n",
    "for line in file: # loop over file line by line\n",
    "    print(line, end=\"\")\n",
    "file.close()\n",
    "print(\"------------\")\n",
    "file = open(\"files/output_file.txt\")\n",
    "print(file.read(5))\n",
    "print(file.readline(3))\n",
    "print(file.readline())\n",
    "print(file.readline())\n",
    "file.close()"
   ]
  },
  {
   "cell_type": "markdown",
   "metadata": {},
   "source": []
  },
  {
   "cell_type": "code",
   "execution_count": null,
   "metadata": {},
   "outputs": [],
   "source": []
  }
 ],
 "metadata": {
  "kernelspec": {
   "display_name": "Python 3",
   "language": "python",
   "name": "python3"
  },
  "language_info": {
   "codemirror_mode": {
    "name": "ipython",
    "version": 3
   },
   "file_extension": ".py",
   "mimetype": "text/x-python",
   "name": "python",
   "nbconvert_exporter": "python",
   "pygments_lexer": "ipython3",
   "version": "3.10.12"
  },
  "orig_nbformat": 4
 },
 "nbformat": 4,
 "nbformat_minor": 2
}
