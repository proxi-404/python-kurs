{
 "cells": [
  {
   "cell_type": "markdown",
   "metadata": {},
   "source": [
    "# Übungsaufgaben Einführung in die Objektorientierung\n",
    "### 1 Würfel\n",
    "Schreibe ein Klasse *Würfel*, die das Attribut *number* (Zahl zwischen eins und sechs) speichert und über die Funktion *cast* auf eine neue, zufällige Augenzahl setzt. Verwende dafür die Funktion `random.randint(start, stop)`."
   ]
  },
  {
   "cell_type": "code",
   "execution_count": null,
   "metadata": {},
   "outputs": [],
   "source": []
  },
  {
   "cell_type": "markdown",
   "metadata": {},
   "source": [
    "### 2 Vektoren\n",
    "Schreibe eine Klasse 3D-Vektoren `Vec3D`, denen folgende Operationen zur Verfügung stehen:\n",
    "1. Addition: `__add__` $\\vec{v} + \\vec{w} = \\begin{pmatrix} a \\\\ b \\\\ c \\end{pmatrix} + \\begin{pmatrix} d \\\\ e \\\\ f \\end{pmatrix} = \\begin{pmatrix} a+d \\\\ b+e \\\\ c+f \\end{pmatrix}$\n",
    "2. Subtraktion `__sub__`(analog)\n",
    "3. Skalarmultiplikation `scal_mul`: $\\vec{v} + \\vec{w} = \\begin{pmatrix} a \\\\ b \\\\ c \\end{pmatrix} \\cdot \\begin{pmatrix} d \\\\ e \\\\ f \\end{pmatrix} = ad + be + cf$\n",
    "4. sinnvolle Stringrepräsenation `__str__` \\\n",
    "Funktionen, die mit zwei Unterstrichen beginnen und enden, haben in Python eine besondere Bedeutung. Hier überladen sie die Operatoren für Vektoren, sodass Vektoren mit *+* und *-* addiert und subtrahiert werden können.\n",
    "\n",
    "**Zusatzaufgaben**\n",
    "Ergänze weitere Features wie z.B.\n",
    "* Skalarmultiplikation $k \\cdot \\begin{pmatrix} a \\\\ b \\\\ c \\end{pmatrix} = \\begin{pmatrix} ka \\\\ kb \\\\ kc \\end{pmatrix}$\n",
    "* Betragsfunktion $abs(\\begin{pmatrix} a \\\\ b \\\\ c \\end{pmatrix}) = \\sqrt{a^2+b^2+c^2}$\n",
    "* ..."
   ]
  },
  {
   "cell_type": "code",
   "execution_count": null,
   "metadata": {},
   "outputs": [],
   "source": []
  },
  {
   "cell_type": "markdown",
   "metadata": {},
   "source": [
    "Führe anschließend folgenden Code aus. Entspricht das Ergebnis den Erwartungen???"
   ]
  },
  {
   "cell_type": "code",
   "execution_count": null,
   "metadata": {},
   "outputs": [],
   "source": [
    "v1 = Vec3D(1, 2, 3)\n",
    "v2 = Vec3D(-3, -2, 1)\n",
    "s = {v1, v2}\n",
    "assert(v1 + v2 == Vec3D(-2, 0, 4))\n",
    "assert(v1 - v2 == Vec3D(4, 4, 2))\n",
    "assert(v1 * v2 == -4)"
   ]
  },
  {
   "cell_type": "markdown",
   "metadata": {},
   "source": [
    "### 3 Bank\n",
    "Schreibe eine Klasse Bank, die Bankkonten verwaltet. Die Bank soll dabei Kredite vergeben und Zinsen bezahlen können.\n",
    "* Beim Anlegen einer Bank, wird ein Name und ein Zinssatz übergeben.\n",
    "* Kunden können neu angelegt werden und auch wieder entfernt werden.\n",
    "* Eine Funktion *new_year* zahlt allen Kunden einen Zins von *interest* Prozent aus. \n",
    "* Kredite: Konten können nun überzogen werden, d.h. Überweisungen und Auszahlungen, die den eigenen Kontostand überschreiten können getätigt werden. Ergänze dazu eine neue Funktion `transaction(transmitter, receiver, amount)`.\n",
    "\n",
    "Tipp: Die Klasse `Bank_account` aus dem letzten Notebook kann hier wiederverwendet werden.\n",
    "\n",
    "**Zusatzaufgaben**:\n",
    "* Ergänze alle kritischen Funktionen um Typabfragen. Z.B. sollte ein Vergleich zwischen einer *Bank_account* Instanz und einer Zahl keinen Fehler werfen, sondern *False* ausgeben.\n",
    "* Dokumentiere alle Klassen und Funktionen mit *docstrings*. Das erscheint lästig, sollte man sich aber angewöhnen."
   ]
  },
  {
   "cell_type": "code",
   "execution_count": 30,
   "metadata": {},
   "outputs": [
    {
     "name": "stdout",
     "output_type": "stream",
     "text": [
      "name: x, balance: 1\n"
     ]
    }
   ],
   "source": [
    "import import_ipynb\n",
    "from introduction_to_oop import Bank_account\n",
    "b = Bank_account(\"x\", 1)\n",
    "print(b)\n",
    "\n",
    "# your code"
   ]
  },
  {
   "cell_type": "code",
   "execution_count": 1,
   "metadata": {},
   "outputs": [
    {
     "ename": "NameError",
     "evalue": "name 'Bank' is not defined",
     "output_type": "error",
     "traceback": [
      "\u001b[0;31m---------------------------------------------------------------------------\u001b[0m",
      "\u001b[0;31mNameError\u001b[0m                                 Traceback (most recent call last)",
      "\u001b[1;32m/home/thomas/Documents/Akademien/Winteraka_2023/python-kurs/x_oop/introduction_to_oop_tasks.ipynb Cell 9\u001b[0m line \u001b[0;36m2\n\u001b[1;32m      <a href='vscode-notebook-cell:/home/thomas/Documents/Akademien/Winteraka_2023/python-kurs/x_oop/introduction_to_oop_tasks.ipynb#X11sZmlsZQ%3D%3D?line=0'>1</a>\u001b[0m \u001b[39m# test\u001b[39;00m\n\u001b[0;32m----> <a href='vscode-notebook-cell:/home/thomas/Documents/Akademien/Winteraka_2023/python-kurs/x_oop/introduction_to_oop_tasks.ipynb#X11sZmlsZQ%3D%3D?line=1'>2</a>\u001b[0m b \u001b[39m=\u001b[39m Bank(\u001b[39m\"\u001b[39m\u001b[39mmy_bank\u001b[39m\u001b[39m\"\u001b[39m, \u001b[39m50\u001b[39m)\n\u001b[1;32m      <a href='vscode-notebook-cell:/home/thomas/Documents/Akademien/Winteraka_2023/python-kurs/x_oop/introduction_to_oop_tasks.ipynb#X11sZmlsZQ%3D%3D?line=2'>3</a>\u001b[0m c1 \u001b[39m=\u001b[39m Bank_account(\u001b[39m\"\u001b[39m\u001b[39mx\u001b[39m\u001b[39m\"\u001b[39m, \u001b[39m100\u001b[39m)\n\u001b[1;32m      <a href='vscode-notebook-cell:/home/thomas/Documents/Akademien/Winteraka_2023/python-kurs/x_oop/introduction_to_oop_tasks.ipynb#X11sZmlsZQ%3D%3D?line=3'>4</a>\u001b[0m c2 \u001b[39m=\u001b[39m Bank_account(\u001b[39m\"\u001b[39m\u001b[39my\u001b[39m\u001b[39m\"\u001b[39m, \u001b[39m100\u001b[39m)\n",
      "\u001b[0;31mNameError\u001b[0m: name 'Bank' is not defined"
     ]
    }
   ],
   "source": [
    "# test\n",
    "b = Bank(\"my_bank\", 50)\n",
    "c1 = Bank_account(\"x\", 100)\n",
    "c2 = Bank_account(\"y\", 100)\n",
    "c3 = Bank_account(\"z\", 100)\n",
    "b.add_customer(c1)\n",
    "b.add_customer(c2)\n",
    "b.add_customer(c3)\n",
    "assert b.customers == [c1, c2, c3]\n",
    "b.remove_customer(c3)\n",
    "b.transaction(c1, c2, 200)\n",
    "b.new_year()\n",
    "assert b.customers == [Bank_account(\"x\", -150), Bank_account(\"y\", 450)]"
   ]
  },
  {
   "cell_type": "code",
   "execution_count": null,
   "metadata": {},
   "outputs": [],
   "source": []
  }
 ],
 "metadata": {
  "kernelspec": {
   "display_name": "Python 3",
   "language": "python",
   "name": "python3"
  },
  "language_info": {
   "codemirror_mode": {
    "name": "ipython",
    "version": 3
   },
   "file_extension": ".py",
   "mimetype": "text/x-python",
   "name": "python",
   "nbconvert_exporter": "python",
   "pygments_lexer": "ipython3",
   "version": "3.10.12"
  },
  "orig_nbformat": 4
 },
 "nbformat": 4,
 "nbformat_minor": 2
}
