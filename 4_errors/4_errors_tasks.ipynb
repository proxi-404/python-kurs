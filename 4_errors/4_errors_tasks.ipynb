{
 "cells": [
  {
   "cell_type": "markdown",
   "metadata": {},
   "source": [
    "# Aufgaben zur Fehlerbehandlung\n",
    "### 1 Dateien verwalten\n",
    "Schreibe ein Programm, das die Datei `../files/input.txt` einließt. Falls diese Datei nicht existiert, soll das Programm nicht abstürzen, sondern es soll eine entsprechene Meldung ausgegeben werden. Der Inhalt der Datei soll schließlich in die Datei `../files/output.txt` geschrieben werden. \\\n",
    "Zusatzaufgabe: Der Inhalt soll nun in die Datei `../files/output.txt` abgespeichert werden. Dabei soll er an die Datei angefügt werden, falls sie bereits existiert, sonst soll die Datei neu angelegt werden. Lies dazu die Dokumentation von `open` (https://docs.python.org/3/library/functions.html#open)"
   ]
  },
  {
   "cell_type": "code",
   "execution_count": null,
   "metadata": {},
   "outputs": [],
   "source": []
  },
  {
   "cell_type": "markdown",
   "metadata": {},
   "source": [
    "### Taschenrechner\n",
    "Schreibe einen kleinen Taschenrechner. Dabei soll der Nutzer eine Aufgabe als String eingeben können. Die Eingabe soll dann ausgewertet werden. \n",
    "1. Auswertung mit `eval`: Die build in Funktion `eval(some_string)` kann übergebene strings als Pythonausdrücke auswerten. Fange dabei mögliche Fehler ab.\n",
    "2. Eine zusätzliche Prüfung der Eingabe ist sehr ratsam. Der Nutzer könnte nämlich beliebige (schädliche) Befehle ausführen lassen. Prüfe dazu, ob die Eingabe *valide* (vereinfacht) ist. Orientiere dich an der Funktionsblaupause und den Tests.\n",
    "3. Zusatzaufgabe (ohne Musterlösung): Versuche (für einfache Aufgaben) eine *eval* Funktion selbst zu schreiben. Vielleicht hilfreiche Gedanken sind:\n",
    "    1. Validitätsprüfung\n",
    "    2. suche nach allen Operatoren wie +, -, *, /\n",
    "    3. Einlesen der Zahlenwerte\n",
    "    4. Beginne bei den Operatoren mit höherer Präferenz (Punkt vor Strich) die Ausdrücke auszuwerten. Zunächst genügt es aber nur gleichwertige Operationen wie + und - oder * und / zuzulassen.\n",
    "    5. Ausgabe des Ergebnisses\n",
    "\n",
    "Bei allen Schritten soll auf Fehler geprüft werden, sodass das Programm nie abstürzt.\\\n",
    "Tipps:\n",
    "* Strings verhalten sich in Bezug auf Indexing genau wie Listen\n",
    "* versuche erst mal eine Grundfunktionalität (z.B. nur Plus und Minus) zu erreichen und erweitere danach die erlaubten Operatoren"
   ]
  },
  {
   "cell_type": "code",
   "execution_count": 1,
   "metadata": {},
   "outputs": [
    {
     "name": "stdout",
     "output_type": "stream",
     "text": [
      "**********************************************************************\n",
      "File \"__main__\", line 7, in __main__.check_input\n",
      "Failed example:\n",
      "    check_input(\"1234.0 - 321.234\")\n",
      "Expected:\n",
      "    True\n",
      "Got nothing\n",
      "**********************************************************************\n",
      "File \"__main__\", line 10, in __main__.check_input\n",
      "Failed example:\n",
      "    check_input(\"-1234 + 345 - 123 / 12 * 456-12+23/2/2/2/1\")\n",
      "Expected:\n",
      "    True\n",
      "Got nothing\n",
      "**********************************************************************\n",
      "File \"__main__\", line 13, in __main__.check_input\n",
      "Failed example:\n",
      "    check_input(\"-1234 + 345\")\n",
      "Expected:\n",
      "    True\n",
      "Got nothing\n",
      "**********************************************************************\n",
      "File \"__main__\", line 16, in __main__.check_input\n",
      "Failed example:\n",
      "    check_input(\"+1234 + 345\")\n",
      "Expected:\n",
      "    True\n",
      "Got nothing\n",
      "**********************************************************************\n",
      "File \"__main__\", line 19, in __main__.check_input\n",
      "Failed example:\n",
      "    check_input(\"a\") # doctest: +IGNORE_EXCEPTION_DETAIL\n",
      "Expected:\n",
      "    Traceback (most recent call last):\n",
      "    ValueError\n",
      "Got nothing\n",
      "**********************************************************************\n",
      "File \"__main__\", line 23, in __main__.check_input\n",
      "Failed example:\n",
      "    check_input(\"1..2 - 3\") # doctest: +IGNORE_EXCEPTION_DETAIL\n",
      "Expected:\n",
      "    Traceback (most recent call last):\n",
      "    ValueError\n",
      "Got nothing\n",
      "**********************************************************************\n",
      "File \"__main__\", line 27, in __main__.check_input\n",
      "Failed example:\n",
      "    check_input(\"/2 - 3\") # doctest: +IGNORE_EXCEPTION_DETAIL\n",
      "Expected:\n",
      "    Traceback (most recent call last):\n",
      "    ValueError\n",
      "Got nothing\n",
      "**********************************************************************\n",
      "1 items had failures:\n",
      "   7 of   7 in __main__.check_input\n",
      "***Test Failed*** 7 failures.\n"
     ]
    }
   ],
   "source": [
    "import doctest\n",
    "\n",
    "def check_input(task):\n",
    "    \"\"\"\n",
    "    verifies that input is valid, returns True if so raises Value Error if not\n",
    "\n",
    "    >>> check_input(\"1234.0 - 321.234\")\n",
    "    True\n",
    "\n",
    "    >>> check_input(\"-1234 + 345 - 123 / 12 * 456-12+23/2/2/2/1\")\n",
    "    True\n",
    "\n",
    "    >>> check_input(\"-1234 + 345\")\n",
    "    True\n",
    "\n",
    "    >>> check_input(\"+1234 + 345\")\n",
    "    True\n",
    "\n",
    "    >>> check_input(\"a\") # doctest: +IGNORE_EXCEPTION_DETAIL\n",
    "    Traceback (most recent call last):\n",
    "    ValueError\n",
    "\n",
    "    >>> check_input(\"1..2 - 3\") # doctest: +IGNORE_EXCEPTION_DETAIL\n",
    "    Traceback (most recent call last):\n",
    "    ValueError\n",
    "\n",
    "    >>> check_input(\"/2 - 3\") # doctest: +IGNORE_EXCEPTION_DETAIL\n",
    "    Traceback (most recent call last):\n",
    "    ValueError\n",
    "\n",
    "    \"\"\"\n",
    "\n",
    "    # your code goes here\n",
    "\n",
    "if __name__ == \"__main__\":\n",
    "    doctest.testmod()\n",
    "    # your code goes here"
   ]
  },
  {
   "cell_type": "code",
   "execution_count": null,
   "metadata": {},
   "outputs": [],
   "source": []
  }
 ],
 "metadata": {
  "kernelspec": {
   "display_name": "Python 3",
   "language": "python",
   "name": "python3"
  },
  "language_info": {
   "codemirror_mode": {
    "name": "ipython",
    "version": 3
   },
   "file_extension": ".py",
   "mimetype": "text/x-python",
   "name": "python",
   "nbconvert_exporter": "python",
   "pygments_lexer": "ipython3",
   "version": "3.10.12"
  },
  "orig_nbformat": 4
 },
 "nbformat": 4,
 "nbformat_minor": 2
}
