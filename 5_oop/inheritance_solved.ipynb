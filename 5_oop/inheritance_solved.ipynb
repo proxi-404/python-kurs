{
 "cells": [
  {
   "cell_type": "markdown",
   "metadata": {},
   "source": [
    "# Musterlösung Vererbung"
   ]
  },
  {
   "cell_type": "code",
   "execution_count": 13,
   "metadata": {},
   "outputs": [],
   "source": [
    "import doctest\n",
    "import import_ipynb\n",
    "from inheritance import Bank_account\n",
    "\n",
    "class Savings_account(Bank_account):\n",
    "    \"\"\"\n",
    "    >>> s = Savings_account(\"x\", 1000)\n",
    "    >>> s2 = Bank_account(\"y\", 1000)\n",
    "    >>> s.get_interest(10)\n",
    "    >>> s.balance\n",
    "    1100.0\n",
    "    >>> s.pay_out(100)\n",
    "    False\n",
    "    >>> s.transfer(s2, 100)\n",
    "    False\n",
    "    >>> s.pay_in(100)\n",
    "    True\n",
    "    >>> s.balance\n",
    "    1200.0\n",
    "    \"\"\"\n",
    "    def spending_allowed(self, amount):\n",
    "        return False\n",
    "    \n",
    "    def get_interest(self, interest):\n",
    "        self.balance *= (1 + interest*0.01)\n",
    "    \n",
    "    def __str__(self):\n",
    "        return \"savings_account: \"+super().__str__()\n",
    "    \n",
    "class Safe(Bank_account):\n",
    "    \"\"\"\n",
    "    >>> s = Safe(1234)\n",
    "    >>> s.pay_in(100, 1234)\n",
    "    True\n",
    "    >>> s.pay_in(-10, 1234)\n",
    "    False\n",
    "    >>> s.pay_in(10, 123)\n",
    "    False\n",
    "    >>> s.balance\n",
    "    100\n",
    "    >>> s.transfer(10)\n",
    "    False\n",
    "    >>> s.pay_out(1000, 1234)\n",
    "    False\n",
    "    >>> s.pay_out(10, 1234)\n",
    "    True\n",
    "    >>> s.balance\n",
    "    90\n",
    "    \"\"\"\n",
    "    def __init__(self, password):\n",
    "        self.password = password\n",
    "        self.balance = 0\n",
    "\n",
    "    def spending_allowed(self, amount):\n",
    "        return (self.balance >= amount)\n",
    "    \n",
    "    def transfer(self, *x):\n",
    "        return False\n",
    "    \n",
    "    def pay_out(self, amount, password):\n",
    "        if password == self.password:\n",
    "            return super().pay_out(amount)\n",
    "        else:\n",
    "            return False\n",
    "        \n",
    "    def pay_in(self, amount, password):\n",
    "        if password == self.password:\n",
    "            return super().pay_in(amount)\n",
    "        else:\n",
    "            return False\n",
    "\n",
    "if __name__ == \"__main__\":\n",
    "    doctest.testmod()"
   ]
  },
  {
   "cell_type": "code",
   "execution_count": 6,
   "metadata": {},
   "outputs": [
    {
     "name": "stdout",
     "output_type": "stream",
     "text": [
      "1100.0\n"
     ]
    }
   ],
   "source": [
    "s = Savings_account(\"x\", 1000)\n",
    "s.get_interest(10)\n"
   ]
  },
  {
   "cell_type": "code",
   "execution_count": null,
   "metadata": {},
   "outputs": [],
   "source": []
  }
 ],
 "metadata": {
  "kernelspec": {
   "display_name": "Python 3",
   "language": "python",
   "name": "python3"
  },
  "language_info": {
   "codemirror_mode": {
    "name": "ipython",
    "version": 3
   },
   "file_extension": ".py",
   "mimetype": "text/x-python",
   "name": "python",
   "nbconvert_exporter": "python",
   "pygments_lexer": "ipython3",
   "version": "3.10.12"
  },
  "orig_nbformat": 4
 },
 "nbformat": 4,
 "nbformat_minor": 2
}
