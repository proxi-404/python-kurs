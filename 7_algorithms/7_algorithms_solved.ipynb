{
 "cells": [
  {
   "cell_type": "markdown",
   "metadata": {},
   "source": [
    "### 1. Bubble Sort"
   ]
  },
  {
   "cell_type": "code",
   "execution_count": null,
   "metadata": {},
   "outputs": [],
   "source": [
    "def bubble_sort(l : list) -> list:\n",
    "    for i in reversed(range(len(l))): \n",
    "        for j in range(i):\n",
    "            if l[j] > l[j + 1]:\n",
    "                # swap the both elements if \n",
    "                # the first one is greater then the second one \n",
    "                # e.g. [4, 2] => [2, 4]\n",
    "                l[j], l[j + 1] = l[j + 1], l[j]\n",
    "    return l"
   ]
  },
  {
   "cell_type": "markdown",
   "metadata": {},
   "source": [
    "### 2. Merge Sort"
   ]
  },
  {
   "cell_type": "code",
   "execution_count": null,
   "metadata": {},
   "outputs": [],
   "source": [
    "def merge_sort(l :list) -> list:\n",
    "    # Base case: if the length of the list is equal 1 then the list is sorted\n",
    "    if len(l) <= 1:\n",
    "        return l\n",
    "\n",
    "    # if not divide the list in two equal parts\n",
    "    half = len(l) // 2 # // does floor division\n",
    "\n",
    "    # call the merge_sort function recursively to split the list until you reach the base case\n",
    "    left_half = merge_sort(l[:half])\n",
    "    right_half = merge_sort(l[half:])\n",
    "\n",
    "    # every half has to be merged together\n",
    "    return merge(left_half, right_half)\n",
    "\n",
    "\n",
    "def merge(left: list, right : list):\n",
    "    # setup variables needed for merging\n",
    "    left_idx, right_idx = 0, 0\n",
    "    result = []\n",
    "\n",
    "    # iterate over every list item on both sides and append the result depending on which item is greater or less than the other\n",
    "    while left_idx < len(left) and right_idx < len(right):\n",
    "        if left[left_idx] < right[right_idx]:\n",
    "            result.append(left[left_idx])\n",
    "            left_idx += 1\n",
    "        else: \n",
    "            result.append(right[right_idx])\n",
    "            right_idx += 1\n",
    "\n",
    "    \n",
    "    # the elements wich are greater have to be appended to the end of the list \n",
    "    result.extend(left[left_idx:])\n",
    "    result.extend(right[right_idx:])\n",
    "    return result"
   ]
  },
  {
   "cell_type": "markdown",
   "metadata": {},
   "source": [
    "### 3. BFS "
   ]
  },
  {
   "cell_type": "code",
   "execution_count": null,
   "metadata": {},
   "outputs": [],
   "source": [
    "graph = {\n",
    "    'A' : ['B', 'C', 'D'], \n",
    "    'B' : ['A'],\n",
    "    'C' : ['A', 'D', 'E'],\n",
    "    'D' : ['A', 'C', 'F'],\n",
    "    'E' : ['C', 'F'],\n",
    "    'F' : ['D', 'E']\n",
    "}"
   ]
  },
  {
   "cell_type": "code",
   "execution_count": null,
   "metadata": {},
   "outputs": [],
   "source": [
    "def bfs(graph: dict, node: str) -> None:\n",
    "    queue = [] # init empty list for the queue \n",
    "    visited = set() # init visited\n",
    "\n",
    "    # init start condition\n",
    "    visited.add(node)\n",
    "    queue.append(node) \n",
    "\n",
    "    while queue:\n",
    "        # pop the first element of the queue \n",
    "        curr = queue.pop(0) \n",
    "        print(f\"current node: {curr}\")\n",
    "        for neighbour in graph[curr]:\n",
    "            if neighbour not in visited:\n",
    "                visited.add(neighbour)\n",
    "                queue.append(neighbour)\n"
   ]
  },
  {
   "cell_type": "markdown",
   "metadata": {},
   "source": [
    "### 4. DFS"
   ]
  },
  {
   "cell_type": "code",
   "execution_count": null,
   "metadata": {},
   "outputs": [],
   "source": [
    "\n",
    "\n",
    "def dfs (graph: dict, node: str, visited=None):    \n",
    "    if visited is None:\n",
    "        visited = set()\n",
    "\n",
    "    if node not in visited:\n",
    "        print(f\"current node: {node}\")\n",
    "        visited.add(node)\n",
    "        for neighbour in graph[node]: \n",
    "            dfs(graph, neighbour, visited)\n",
    "\n",
    "dfs(graph, \"A\")"
   ]
  },
  {
   "cell_type": "markdown",
   "metadata": {},
   "source": [
    "### 5. Dijkstra Algorithmus "
   ]
  },
  {
   "cell_type": "code",
   "execution_count": null,
   "metadata": {},
   "outputs": [],
   "source": [
    "def dijkstra(graph: dict, start_node: str):\n",
    "    \n",
    "    distances = {x : float('inf') for x in graph} # initialize an dictionary with all distances set to inf\n",
    "    visited = set() # initialize empty set for visited nodes \n",
    "    previous = {x : 'start' for x in graph} # initialize previous nodes to backtrack the graph\n",
    "\n",
    "\n",
    "    distances[start_node] = 0 # set start node to 0\n",
    "\n",
    "    for i in range(len(graph)):\n",
    "\n",
    "        # search for node which is not visited and has min distance\n",
    "        current_node = min_distance(distances, visited)\n",
    "        # mark it visited\n",
    "        visited.add(current_node)\n",
    "\n",
    "        for j in graph[current_node]:\n",
    "            # update distance, in the simplified version it looks like this, normally you would add the distance from current_node to next node\n",
    "            new_distance = distances[current_node] + 1\n",
    "\n",
    "            if new_distance < distances[j]:\n",
    "                # if distance is shorter, update it, and set previous node\n",
    "                distances[j] = new_distance\n",
    "                previous[j] = current_node\n",
    "\n",
    "    return distances, previous\n",
    "\n",
    "\n",
    "\n",
    "def min_distance(distances: dict, visited: set) -> str:\n",
    "    # set min val\n",
    "    min_val = float('inf')\n",
    "\n",
    "    for i in distances:\n",
    "        # check for not visited and current min_val, if it's smaller update min_val and set the key for the min val \n",
    "        if i not in visited and distances[i] < min_val:\n",
    "            min_val = distances[i]\n",
    "            min_key = i\n",
    "    return min_key"
   ]
  },
  {
   "cell_type": "code",
   "execution_count": null,
   "metadata": {},
   "outputs": [],
   "source": [
    "print(dijkstra(graph, 'F'))"
   ]
  }
 ],
 "metadata": {
  "kernelspec": {
   "display_name": "Python 3",
   "language": "python",
   "name": "python3"
  },
  "language_info": {
   "codemirror_mode": {
    "name": "ipython",
    "version": 3
   },
   "file_extension": ".py",
   "mimetype": "text/x-python",
   "name": "python",
   "nbconvert_exporter": "python",
   "pygments_lexer": "ipython3",
   "version": "3.11.5"
  }
 },
 "nbformat": 4,
 "nbformat_minor": 2
}
