{
 "cells": [
  {
   "cell_type": "markdown",
   "metadata": {},
   "source": [
    "#### 1. Fakultät\n",
    "Die Fakultät ist die Funktion, die alle Zahlen bis zu gegebenen Zahl miteinander multipliziert. Diese wird meist mit \"!\" abgekürzt.\n",
    "\n",
    "Ein Beispiel: $5! = 5\\cdot 4\\cdot 3\\cdot 2\\cdot 1= 120$\n",
    "\n",
    "Auch noch zu beachten ist, dass $0!=1$ ist. \n",
    "\n",
    "Überlegt euch bei den folgenden beiden Aufgaben immer zuerst was der Base Case ist (manchmal werden auch mehrere benötigt) und dann wie die Rekursion auszusehen hat."
   ]
  },
  {
   "cell_type": "code",
   "execution_count": null,
   "metadata": {},
   "outputs": [],
   "source": [
    "def faculty(x: int):\n",
    "    pass"
   ]
  },
  {
   "cell_type": "markdown",
   "metadata": {},
   "source": [
    "#### 2. Revisiting Fibonacci\n",
    "In dieser Aufgabe sollt ihr euch einmal eine rekursive Version der Fibonacci Folge überlegen. Der Lösungsvorschlag für die iterative Variante ist nur für die Zeitmessung, ihr könnt gerne dort auch eure eigenen Lösungen aus den vorherigen Aufgaben gegen die rekursive Lösung testen.  "
   ]
  },
  {
   "cell_type": "code",
   "execution_count": 1,
   "metadata": {},
   "outputs": [],
   "source": [
    "def recursive_fib(x: int):\n",
    "    pass"
   ]
  },
  {
   "cell_type": "markdown",
   "metadata": {},
   "source": [
    "Da wir schon einmal die Fibonacci-Folge hatten, hier nocheinmal eine Iterative-Version:"
   ]
  },
  {
   "cell_type": "code",
   "execution_count": 7,
   "metadata": {},
   "outputs": [],
   "source": [
    "def iterative_fib(x: int):\n",
    "    # set the starting variables\n",
    "    a, b = 0, 1\n",
    "    for i in range(x):\n",
    "        # b is set to a and b will be set to a+b \n",
    "        a, b = b, a+b\n",
    "    return a "
   ]
  },
  {
   "cell_type": "markdown",
   "metadata": {},
   "source": [
    "Hier könnt ihr einmal vergleichen, wie schnell lange die iterative Variante benötigt zur Berechnung im Vergleich zu der Rekursiven: \\\n",
    "Dazu berechnen wir einmal die ersten 40 Fibonacci-Zahlen und messen, wie lange die Berechnung benötigt. Dazu gibt es ein Package, das Timeit heißt. \\\n",
    "Keine Sorge, das kann eine Weile dauern, bis der Code fertig ausgeführt ist"
   ]
  },
  {
   "cell_type": "code",
   "execution_count": 16,
   "metadata": {},
   "outputs": [
    {
     "name": "stdout",
     "output_type": "stream",
     "text": [
      "The iterative fibonacci took: 7.705423999985214 seconds\n",
      "The recursive fibonacci took: 0.8446934999956284 seconds\n"
     ]
    }
   ],
   "source": [
    "import timeit\n",
    "\n",
    "t1 = timeit.Timer(\"for i in range(40): iterative_fib(i)\", \"from __main__ import iterative_fib\")\n",
    "t2 = timeit.Timer(\"for i in range(40): recursive_fib(i)\", \"from __main__ import recursive_fib\")\n",
    "\n",
    "print(f\"The iterative fibonacci took: {t1.timeit(number=1)} seconds\")\n",
    "print(f\"The recursive fibonacci took: {t2.timeit(number=1)} seconds\")\n"
   ]
  },
  {
   "cell_type": "code",
   "execution_count": null,
   "metadata": {},
   "outputs": [],
   "source": []
  }
 ],
 "metadata": {
  "kernelspec": {
   "display_name": "Python 3",
   "language": "python",
   "name": "python3"
  },
  "language_info": {
   "codemirror_mode": {
    "name": "ipython",
    "version": 3
   },
   "file_extension": ".py",
   "mimetype": "text/x-python",
   "name": "python",
   "nbconvert_exporter": "python",
   "pygments_lexer": "ipython3",
   "version": "3.11.5"
  }
 },
 "nbformat": 4,
 "nbformat_minor": 2
}
