{
 "cells": [
  {
   "cell_type": "markdown",
   "metadata": {},
   "source": [
    "# Python als (simpler) Taschenrechner:\n",
    "\n",
    "Neben dem einfachen Summieren zweier Zahlen ermöglicht uns Python natürlich auch das Verwenden weiterer Operatoren. Hierbei haben die Operatoren, ähnlich wie in der Mathematik, gewisse Prioritäten (in dieser Auflistung aufsteigende Priorität)\n",
    "<table border=\"1\">\n",
    "    <thead valign=\"bottom\">\n",
    "        <tr class=\"row-odd\"><th class=\"head\">Operator</th>\n",
    "        <th class=\"head\">Ergebnis</th>\n",
    "        </tr>\n",
    "    </thead>\n",
    "    <tbody valign=\"top\">\n",
    "        <tr class=\"row-even\"><td><tt class=\"docutils literal\"><span class=\"pre\">x</span> <span class=\"pre\">+</span> <span class=\"pre\">y</span></tt></td>\n",
    "        <td>Die Summe von <em>x</em> und <em>y</em></td>\n",
    "        </tr>\n",
    "        <tr class=\"row-odd\"><td><tt class=\"docutils literal\"><span class=\"pre\">x</span> <span class=\"pre\">-</span> <span class=\"pre\">y</span></tt></td>\n",
    "        <td>Differenz von <em>x</em> und <em>y</em></td>\n",
    "        </tr>\n",
    "        <tr class=\"row-even\"><td><tt class=\"docutils literal\"><span class=\"pre\">x</span> <span class=\"pre\">*</span> <span class=\"pre\">y</span></tt></td>\n",
    "        <td>Produkt von <em>x</em> und <em>y</em></td>\n",
    "        </tr>\n",
    "        <tr class=\"row-odd\"><td><tt class=\"docutils literal\"><span class=\"pre\">x</span> <span class=\"pre\">/</span> <span class=\"pre\">y</span></tt></td>\n",
    "        <td>Quotient von <em>x</em> und <em>y</em></td>\n",
    "        </tr>\n",
    "        <tr class=\"row-even\"><td><tt class=\"docutils literal\"><span class=\"pre\">x</span> <span class=\"pre\">//</span> <span class=\"pre\">y</span></tt></td>\n",
    "        <td>ganzzahliger Quotient von <em>x</em> und <em>y</em></td>\n",
    "        </tr>\n",
    "        <tr class=\"row-odd\"><td><tt class=\"docutils literal\"><span class=\"pre\">x</span> <span class=\"pre\">%</span> <span class=\"pre\">y</span></tt></td>\n",
    "        <td>Rest von <tt class=\"docutils literal\"><span class=\"pre\">x</span> <span class=\"pre\">/</span> <span class=\"pre\">y</span></tt></td>\n",
    "        </tr>\n",
    "        <tr class=\"row-even\"><td><tt class=\"docutils literal\"><span class=\"pre\">x</span> <span class=\"pre\">**</span> <span class=\"pre\">y</span></tt></td>\n",
    "        <td><em>x</em> hoch <em>y</em></td>\n",
    "        </tr>\n",
    "    </tbody>\n",
    "</table>\n",
    "\n",
    "## Einige Beispiele (Quizz):"
   ]
  },
  {
   "cell_type": "code",
   "execution_count": null,
   "metadata": {},
   "outputs": [],
   "source": [
    "(1+2)**2 * 3 + 4"
   ]
  },
  {
   "cell_type": "code",
   "execution_count": null,
   "metadata": {},
   "outputs": [],
   "source": [
    "5 / 2"
   ]
  },
  {
   "cell_type": "code",
   "execution_count": null,
   "metadata": {},
   "outputs": [],
   "source": [
    "5 // 2"
   ]
  },
  {
   "cell_type": "code",
   "execution_count": null,
   "metadata": {},
   "outputs": [],
   "source": [
    "5.9 // 2"
   ]
  },
  {
   "cell_type": "code",
   "execution_count": null,
   "metadata": {},
   "outputs": [],
   "source": [
    "5 % 2"
   ]
  },
  {
   "cell_type": "code",
   "execution_count": null,
   "metadata": {},
   "outputs": [],
   "source": [
    "0.1 + 0.2 - 0.3"
   ]
  },
  {
   "cell_type": "markdown",
   "metadata": {},
   "source": [
    "Python rechnet intern mit einer binären Repräsentation von Fließkommazahlen. Diese werden mit endlicher Genauigkeit abgelegt. Nicht alle Brüche lassen sich auf diese Art exakt darstellen."
   ]
  },
  {
   "cell_type": "markdown",
   "metadata": {},
   "source": [
    "## Python als (wissenschaftlicher) Taschenrechner\n",
    "In Python können alle Ergebnisse (und Zwischenergebnisse) als sogenannte **Variablen** gespeichert werden. Die Zuweisung erfolgt immer **von rechts nach links**.\n",
    "(Die Ausgabe mittels `print` wird später thematisiert)\n",
    "### Quizz"
   ]
  },
  {
   "cell_type": "code",
   "execution_count": 10,
   "metadata": {},
   "outputs": [
    {
     "name": "stdout",
     "output_type": "stream",
     "text": [
      "a: 7, b: 7\n"
     ]
    }
   ],
   "source": [
    "a = 5\n",
    "b = 7\n",
    "a = b\n",
    "print(f\"a: {a}, b: {b}\")"
   ]
  },
  {
   "cell_type": "code",
   "execution_count": 12,
   "metadata": {},
   "outputs": [
    {
     "data": {
      "text/plain": [
       "0.5"
      ]
     },
     "execution_count": 12,
     "metadata": {},
     "output_type": "execute_result"
    }
   ],
   "source": [
    "a = 5\n",
    "b = 7\n",
    "a = a - 1\n",
    "b = b + 1\n",
    "c = a / b\n",
    "c"
   ]
  },
  {
   "cell_type": "markdown",
   "metadata": {},
   "source": [
    "## kompliziertere mathematische Funktionen \n",
    "Python selbst beherrscht zunächst nur die Grundrechenarten. Weitere Funktionen können über eine Mathematikpaket importiert werden. Dazu später mehr ...\n",
    "\n",
    "## Bibliotheken\n",
    "Die Tatsache, dass Python selbst keinen Befehl hat, um z.B. einen Sinuswert zu berechnen ist vielleicht zunächst etwas verwunderlich. Grundsätzlich hat Python wie eigentlich jede Programmiersprache zunächst nur einen sehr begrenzten Umfang an möglichen Befehlen und Operationen. Dieser Umfang kann aber durch sogenannte *Bibliotheken* nahezu beliebig erweiter werden. Bibliotheken werden stets mit dem Schlüsselwort `import` importiert. Diese Aufteilung in Kernprogrammiersprache und Erweiterungen hat den Vorteil, dass Befehle thematisch gruppiert sind und der Nutzer auch nur das runterladen muss, was er auch wirklich braucht. Python selbst braucht von der Größenordnung her nur ca. 100 MB. Im Vergleich dazu würden alle gängigen Bibliotheken zusammen etwa 8 GB Platz benötigen (keine Gewähr auf exakte Zahlen). Möchte man einen Befehl `abc` der Bibliothek `xy` benutzen, so importiert man diese mit `import xy` und verwendet dann den Befehl über die Syntax `xy.abc`."
   ]
  },
  {
   "cell_type": "code",
   "execution_count": 3,
   "metadata": {},
   "outputs": [
    {
     "name": "stdout",
     "output_type": "stream",
     "text": [
      "der Sinus von 0.7: 0.644217687237691\n"
     ]
    }
   ],
   "source": [
    "import math \n",
    "print(\"der Sinus von 0.7:\", math.sin(0.7))\n"
   ]
  }
 ],
 "metadata": {
  "kernelspec": {
   "display_name": "Python 3",
   "language": "python",
   "name": "python3"
  },
  "language_info": {
   "codemirror_mode": {
    "name": "ipython",
    "version": 3
   },
   "file_extension": ".py",
   "mimetype": "text/x-python",
   "name": "python",
   "nbconvert_exporter": "python",
   "pygments_lexer": "ipython3",
   "version": "3.10.12"
  },
  "orig_nbformat": 4
 },
 "nbformat": 4,
 "nbformat_minor": 2
}
