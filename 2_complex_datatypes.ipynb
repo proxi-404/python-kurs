{
 "cells": [
  {
   "cell_type": "markdown",
   "metadata": {},
   "source": [
    "# Komplexe Datentypen\n",
    "Wie wir in der letzten Aufgabe gesehen haben, wäre es praktisch, eine Datenstruktur zu haben, in der mehrere Elemente gespeichert werden können. Python bietet vier unterschiedliche Container Typen an, die wir uns nacheinander ansehen.\n",
    "## Listen\n",
    "Listen sind der wahrscheinlich am häufigsten verwendete Container. Listen werden stets mit eckigen Klammern initialisiert. Syntax: \n",
    "```python\n",
    "my_list = [] # empty list\n",
    "my_list = [1, 2, 3]\n",
    "```\n",
    "Alle Einträge erhalten einen **Index** der bei **Null** startet und einen eindeutigen Zugriff auf alle Elemente ermöglicht. Der Zugriff auf einen Index erfolgt wieder mit eckigen Klammern: `my_list[0]` liefert z.B. den Wert 1 zurück.\n",
    "\n",
    "Die wichtigsten Operationen auf Listen sind das Anfügen eines Elementes am Ende mit `append(element)`, das Einfügen an einer beliebigen Stelle mit `insert(index, element)`, das Entfernen (des ersten Eintrages mit dem Wert *value*) mit `remove(value)`, das Entfernen eines Elementes nach Index mit `pop(index)` und das Sortieren mit `sort`.\n",
    "\n",
    "## Tupel\n",
    "Tupel funktionieren völlig analog zu Listen, sind aber unveränderlich und bieten daher einen geringeren Umfang an Operationen. Tupel werden mit runden Klammern initialisiert.\n",
    "\n",
    "## Aufgaben zu Listen (und Tupeln)\n",
    "### 1. Collatz II\n",
    "Speichere die Ergebnisse von 1_basics, Aufgabe 5 (Collatz Folge) in eine Liste, anstelle sie nur auszugeben. Ergänze außerdem einen Test mit `assert`.\n",
    "### 2. Fibonacci II\n",
    "Schreibe eine Funktion die die ersten $n$ Fibonacci Zahlen in eine Liste speichert und zurückgibt.\n",
    "### 3. Maximum:\n",
    "Schreibe selbst eine Funktion die das größte Listenelement zurückgibt. Schreibe zusätzlich mit Hilfe der build in Funktion `max()` und `assert` Tests.\n",
    "### 4. kleinste Abstände: \n",
    "Schreibe eine Funktion, die die beiden Listenelemente zurückgibt, deren Abstand (immer positiv) am kleinsten ist. Gibt es mehrere Möglichkeiten, so ist egal, welche der Möglichkeiten zurückgegeben wird.\n",
    "### 5. verschachtelte Listen:\n",
    "Schreibe eine Funktion, die das große Einmaleins, d.h. die Ergebnisse aller >400 Multiplikationen von $1 \\cdot 1$ bis $20\\cdot 20$ in einer Tabelle ausgibt.\n",
    "## Zusatzaufgaben (ohne Musterlösung)\n",
    "### Risiko\n",
    "Beim Risikospielen würfelt ein Angreifer mit drei Würfeln geben zwei Würfel des Verteidigers. Da fünf faire Würfel zum Einsatz kommen, gibt es $6^5=7776$ gleich wahrscheinliche Würfelereignisse. Laut Wikipedia führen $2890$ davon zu dem Ergebnis $2:0$, $2611$ zu dem Ergebnis $1:1$ und $2275$ zu dem Ergebnis $0:2$.\n",
    "\n",
    "Schreibe ein Python-Programm, das diese Statistik bestätigt.\n",
    "\n",
    "(Beim Risiko werden die Würfel beider Spieler sortiert und jeweils die größten, die zweitgrößten und ggf. die drittgrößten miteinander verglichen. Für jeden der bis zu drei Vergleiche holt derjenige mit der größeren Augenzahl den Punkt. Bei gleicher Augenzahl gewinnt der Verteidiger.)\n",
    "### Levi-Civita-Symbol\n",
    "Schreibe eine Funktion die das Ergebnis von $\\epsilon_{ijk}$ zurückgibt. Hinterlege die 27 Kombinationen dabei in einer $3 \\times 3 \\times 3 Tabelle$. "
   ]
  },
  {
   "cell_type": "markdown",
   "metadata": {},
   "source": [
    "## Dictionaries\n",
    "Dictionaries funktionieren analog zu Wörter oder Telefonbüchern. Anstelle von ganzzahligen Indizes wie bei Listen, gibt es bei Dicts beliebige **keys**, denen ein **value** zugeordnet wird. Syntax:\n",
    "```python\n",
    "mobile = {\"Fabian\": 123456789, \"Thomas\": 987654321}\n",
    "```"
   ]
  },
  {
   "cell_type": "markdown",
   "metadata": {},
   "source": [
    "## Sets\n",
    "Sets sind Datenstrukturen mit ähnlichen Eigenschaften wie Mengen in der Mathematik. Sie sind Ansammlungen von Elementen ohne Reihenfolge und jedes Element kann nur ein mal vorkommen. Die häufigsten Anwendungen sind das Herausfiltern von Duplikaten aus Listen oder das Bilden von Schnitt oder Vereinigung."
   ]
  },
  {
   "cell_type": "markdown",
   "metadata": {},
   "source": []
  }
 ],
 "metadata": {
  "language_info": {
   "name": "python"
  },
  "orig_nbformat": 4
 },
 "nbformat": 4,
 "nbformat_minor": 2
}
