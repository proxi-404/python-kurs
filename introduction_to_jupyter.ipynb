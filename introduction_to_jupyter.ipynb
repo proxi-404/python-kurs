{
 "cells": [
  {
   "cell_type": "markdown",
   "metadata": {},
   "source": [
    "# Grundlage von Jupyter Notebooks\n",
    "\n",
    "## Aufbau eines Notebook-Dokuments\n",
    "\n",
    "Das Notebook besteht aus einer Folge von Zellen. Eine Zelle ist ein mehrzeiliges Texteingabefeld, dessen Inhalt mit **Shift + Enter** oder durch Anklicken der Schaltfläche \"Play\" in der Symbolleiste oder Cell, Run in der Menüleiste ausgeführt werden kann. Das Ausführungsverhalten einer Zelle wird durch den Zellentyp bestimmt. Es gibt drei Arten von Zellen: Codezellen, Abschriftenzellen und Rohzellen. Jede Zelle beginnt damit, eine Codezelle zu sein, aber ihr Typ kann über ein Dropdown-Menü in der Symbolleiste (das zunächst \"Code\" sein wird) oder über Tastenkombinationen geändert werden.\n",
    "\n",
    "### Code-Zellen\n",
    "\n",
    "Eine Codezelle ermöglicht es, neuen Code zu bearbeiten und zu schreiben, mit voller Syntaxhervorhebung und Vervollständigung der Registerkarte. \n",
    "Wenn eine Codezelle ausgeführt wird, wird der darin enthaltene Code an den dem Notebook zugeordneten Kernel gesendet. Die Ergebnisse, die von dieser Berechnung zurückgegeben werden, werden dann im Notebook als Ausgabe der Zelle angezeigt. Zum Beispiel beim Berechnen von: "
   ]
  },
  {
   "cell_type": "code",
   "execution_count": 2,
   "metadata": {},
   "outputs": [
    {
     "data": {
      "text/plain": [
       "2"
      ]
     },
     "execution_count": 2,
     "metadata": {},
     "output_type": "execute_result"
    }
   ],
   "source": [
    "1+1"
   ]
  },
  {
   "cell_type": "markdown",
   "metadata": {
    "vscode": {
     "languageId": "python"
    }
   },
   "source": [
    "(Zum Ausführen die jeweilige Zelle anwählen und die Tastenkombination: **STRG + ENTER** oder **SHIFT + ENTER** verwenden. Das Ergebnis wird direkt unterhalb der Zelle angezeigt.)"
   ]
  },
  {
   "cell_type": "markdown",
   "metadata": {},
   "source": [
    "Die Ausgabe beschränkt sich nicht nur auf Text, sondern es sind auch viele andere mögliche Ausgabeformen möglich, darunter matplotlib-Figuren und HTML-Tabellen. \n",
    "\n",
    "### Markdown-Zellen\n",
    "\n",
    "Dokumentationen und Anmerkungen zum Code können in sogenannte Markdown Zellen geschrieben werden. In IPython wird dies durch die Markierung von Text mit der Markdown-Sprache erreicht. Die entsprechenden Zellen werden als Markdown-Zellen bezeichnet. Die Markdown-Sprache bietet eine einfache Möglichkeit, dieses Textmarkup durchzuführen, d.h. festzulegen, welche Teile des Textes hervorgehoben werden sollen (Kursivschrift), Fett, Formularlisten usw.\n",
    "\n",
    "Markdown-Zellen können mittels Doppelklick oder einfach Klick und Enter editiert und analog zu Code-Zellen mit **STRG + ENTER** oder **SHIFT + ENTER** formatiert angezeigt werden.\n",
    "\n",
    "#### Formeln\n",
    "Innerhalb von Markdown-Zellen können auch mathematische Ausdrücke auch auf einfache Weise mit der Standard-LaTeX-Notation einbinden: `$...$` für Inline-Mathematik und `$$...$$` für angezeigte Mathematik. Wenn die Markdown-Zelle ausgeführt wird, werden die LaTeX-Abschnitte automatisch in der HTML-Ausgabe als Gleichungen mit hochwertiger Typografie dargestellt.\n",
    "\n",
    "## Beispiele für Markdown\n",
    "\n",
    "Es existiert also eine ganze Bandbreite an Formatierungsmöglichkeiten. Hier einige Beispiele:\n",
    "\n",
    "**Überschriften:**\n",
    "\n",
    "# Level 1.\n",
    "## Level 2.\n",
    "### Level 3.\n",
    "\n",
    "**Aufzählungen: **\n",
    "\n",
    "* Mit normalen\n",
    "* Aufzählungspunkten\n",
    "    1. oder \n",
    "    2. Numerierungen\n",
    "        * Auf unterschiedlichen\n",
    "            1. Ebenen\n",
    "\n",
    "**Schriftarten:**\n",
    "\n",
    "**Fett**\n",
    "\n",
    "*Italic (Kursive)*\n",
    "\n",
    "`True type`\n",
    "\n",
    "bzw. Syntax highlighting\n",
    "\n",
    "```python \n",
    "def EasyFunc(x):\n",
    "    return 2 * x\n",
    "```\n",
    "\n",
    "**Formeln mithilfe des LaTeX-Syntax:**\n",
    "\n",
    "$ f(x) = \\int\\limits_0^x e^{-x} \\, dx $\n",
    "\n",
    "\n",
    "\n",
    "**Bilder:**\n",
    "Für diesen Kurs sind externe Medien nicht wichtig. Der Vollständigkeit halber sei erwähnt, dass auch Bilder und sogar Videos eingebunden werden können.\n",
    "\n",
    "![The Python logo](https://www.python.org/static/community_logos/python-powered-w-200x80.png \"Das Python Logo\")"
   ]
  },
  {
   "cell_type": "markdown",
   "metadata": {},
   "source": [
    "## konkrete Bedienung und praktische Shortcuts\n",
    "\n",
    "Im Folgenden wollen wir erst einmal mit den Grundlagen des Notebooks vertraut machen. Insbesondere wollen wir lernen, wie wir eine Markdown- und eine Code-Zelle erstellen, bearbeiten und ausführen.  \n",
    "\n",
    "* Erstellung einer Code Zelle\n",
    "    1. Diese Zelle anklicken, sodass die Zelle eine blaue Umrandung bekommt (je nach Bildschirmauflösung könnten Sie nur links einen blauen Balken erkennen) $\\rightarrow$ \"Command Modus\". In diesem Modus kann mit Hilfe der Pfeiltasten durch das Notebook navigiert oder die Struktur des Notebooks bzw. seiner Zellen mit Hilfe von Tasten/Tastenkombinationen modifiziert werden.\n",
    "    2. Taste **B** drücken, um eine Code-Zelle unterhalb (**B**elow) dieser Zelle zu erstellen. \n",
    "    3. Um nun diese neu erstellte Code-Zelle zu editieren, einfach anklicken. Die Zellenumrandung sollte von Blau auf Grün wechseln $\\rightarrow$ Editiermodus\n",
    "    4. beliebigen Code eintippen, z.B.\n",
    "    ```python\n",
    "    3 + 5\n",
    "    ```\n",
    "    berechnen.\n",
    "    5. Um diese Code-Zelle auszuführen, anschließend die Tastenkombination: **STRG + ENTER** oder **SHIFT + ENTER** benutzen. Das Ergebnis wird direkt unterhalb der Zelle angezeigt.\n",
    "   \n",
    "   \n",
    "* Erstellung einer Markdown Zelle:\n",
    "    1. Zuvor erstellte Code-Zelle anklicken. Die Zelle sollte eine grüne Umrandung anzeigen (Editiermodus)\n",
    "    2. **ESC**-Taste drücken, um vom Editier- in den Command-Modus zu wechseln (blaue Umrandung).\n",
    "    3. Taste **A** drücken, um eine neue Code-Zelle oberhalb (**A**bove) Ihrer angewählten Zelle zu erstellen. Der Navigator wird wieder automatisch zu der neu erstellten Zelle springen.\n",
    "    4. Taste **M** drücken, um die Code-Zelle in eine Markdown-Zelle zu verwandeln (Markdown-Zelle hat im Vergleich zu einer Code-Zelle kein \"In []:\"-Anzeige links der Zelle).\n",
    "    5. Durch Anklicken in den Editiermodus (grüne Umrandung) wechseln."
   ]
  },
  {
   "cell_type": "markdown",
   "metadata": {},
   "source": [
    "Neben diesen nützlichen Befehlen gibt es noch weitere praktische Kürzel wie zum Beispiel:\n",
    "* **D + D**, um eine Zelle zu **löschen** \n",
    "* **Y** verwandelt eine aktuelle **Markdown**-Zelle in eine **Code**-Zelle\n",
    "* **Strg** + **Shift** + **Minus** splittet eine Zelle an der Position des Cursors\n",
    "* **F** für \"Find and Replace\" (nützlich wenn Sie zum Beispiel einen Variablennamen austauschen wollen)\n",
    "* **I** + **I**, um den *\"Kernel\"* zu stoppen (wichtig falls Sie mal eine unendliche LOOP gebaut haben)\n",
    "\n",
    "Auflistung weiterer Befehle: [hier](https://www.cheatography.com/weidadeyue/cheat-sheets/jupyter-notebook/)"
   ]
  }
 ],
 "metadata": {
  "kernelspec": {
   "display_name": "Python 3",
   "language": "python",
   "name": "python3"
  },
  "language_info": {
   "codemirror_mode": {
    "name": "ipython",
    "version": 3
   },
   "file_extension": ".py",
   "mimetype": "text/x-python",
   "name": "python",
   "nbconvert_exporter": "python",
   "pygments_lexer": "ipython3",
   "version": "3.10.12"
  },
  "orig_nbformat": 4
 },
 "nbformat": 4,
 "nbformat_minor": 2
}
