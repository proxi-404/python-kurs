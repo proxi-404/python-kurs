{
 "cells": [
  {
   "cell_type": "markdown",
   "metadata": {},
   "source": [
    "# Ausgabe mit print\n",
    "Nahezu alle Programme liefern Ergebnisse, die in irgendeiner Form ausgegeben werden müssen. Der einfachste Weg ist eine Ausgabe auf die *Konsole* mittels `print`. Hierfür gibt es zwei (gängige) Varianten:\n",
    "\n",
    "alt: `print(\"Text immer in Anführungszeichen und Variablen mit Komma getrennt\", variable1, \"mehr text wieder in Anführungszeichen\", variable2)`\n",
    "\n",
    "neu (Formatstrings): `print(f\"Text {variable1} noch mehr Text {variable 2}\")`\n",
    "\n",
    "Formatstrings sind sehr vielsseitig und können auch leichter formatiert werden. Daher sind sie eher zu empfehlen."
   ]
  },
  {
   "cell_type": "code",
   "execution_count": 2,
   "metadata": {},
   "outputs": [
    {
     "name": "stdout",
     "output_type": "stream",
     "text": [
      "a: 5 , b: asdf\n",
      "a: 5, b: asdf\n"
     ]
    }
   ],
   "source": [
    "a = 5\n",
    "b = \"asdf\"\n",
    "print(\"a:\", a, \", b:\", b)\n",
    "print(f\"a: {a}, b: {b}\")"
   ]
  },
  {
   "cell_type": "markdown",
   "metadata": {},
   "source": [
    "# Datentypen\n",
    "Python ist eine sogenannte *schwach typisierte Sprache*, d.h. der *Interpreter* legt den Datentyp automatisch fest, ohne, dass dieser angegeben werden muss. Eine Variable kann außerdem zur Laufzeit den Typ ändern. Es gibt die numerischen Datentypen `int`(Ganzzahl), `float` (Kommazahl) und der Vollständigkeit halber `complex` (komplexe Zahl)."
   ]
  },
  {
   "cell_type": "code",
   "execution_count": 8,
   "metadata": {},
   "outputs": [
    {
     "name": "stdout",
     "output_type": "stream",
     "text": [
      "a: (1+2j), a*j: (-2+1j)\n"
     ]
    }
   ],
   "source": [
    "a = 5 # int\n",
    "a = 5.0 # float\n",
    "a = 1 + 1j # complex number, watch out: a = 1 + j -> error j is not defined\n",
    "a += 1j\n",
    "print(f\"a: {a}, a*j: {a*1j}\")"
   ]
  },
  {
   "cell_type": "markdown",
   "metadata": {},
   "source": [
    "Ein weiterer wichtiger Datentyp ist `string` (Zeichenkette). Dieser wird mit einfachen oder doppelten Anführungszeichen angegeben. In der jeweiligen Umgebung können nur die entsprechend anderen Anführungszeichen benutzt werden."
   ]
  },
  {
   "cell_type": "code",
   "execution_count": 9,
   "metadata": {},
   "outputs": [
    {
     "name": "stdout",
     "output_type": "stream",
     "text": [
      "'have a nice day', said the man\n",
      "\"have a nice day\", said the man\n"
     ]
    }
   ],
   "source": [
    "a = \"'have a nice day', said the man\"\n",
    "b = '\"have a nice day\", said the man'\n",
    "print(a)\n",
    "print(b)"
   ]
  },
  {
   "cell_type": "markdown",
   "metadata": {},
   "source": [
    "![table of datatypes](images/Datentypen.svg)"
   ]
  },
  {
   "cell_type": "markdown",
   "metadata": {},
   "source": [
    "# Kontrollstrukturen\n",
    "Widmen wir uns nun einer (etwas künstlichen) Aufgabe, die nicht mehr jeder Taschenrechner einfach so für einen erledigen kann:\n",
    "\n",
    "*Bestimme die Summe aller natürlichen Zahlen zwischen 100 und 1000, die durch 7 teilbar sind.*\n",
    "\n",
    "Lösungsansatz (Pseudocode):\n",
    "* setzte *Ergebnis* auf 0 \n",
    "* Starte einen Zähler *i* bei 100 \n",
    "* Prüfe ob *i* durch 7 teilbar ist JA: erhöhre *Ergebnis* um *i* NEIN: tue nichts\n",
    "* erhöhre *i* falls *i* kleiner als 999 ist und gehe zu Schritt 3\n",
    "* gib Ergebnis aus"
   ]
  },
  {
   "cell_type": "markdown",
   "metadata": {},
   "source": [
    "**Selektion:** \n",
    "```python\n",
    "if (condition):\n",
    "    action # indented \n",
    "else:\n",
    "    action # indented\n",
    "```\n",
    "**Schleife**\n",
    "```python\n",
    "while(condition):\n",
    "    action # indented\n",
    "```"
   ]
  },
  {
   "cell_type": "code",
   "execution_count": 2,
   "metadata": {},
   "outputs": [
    {
     "name": "stdout",
     "output_type": "stream",
     "text": [
      "896\n"
     ]
    }
   ],
   "source": [
    "i = 100\n",
    "result = 0\n",
    "while (i < 1000):\n",
    "    if (i % 7 == 0): # two equal signs for condition\n",
    "        result += 7\n",
    "    i += 1\n",
    "print(result)\n"
   ]
  },
  {
   "cell_type": "markdown",
   "metadata": {},
   "source": [
    "# Funktionen\n",
    "Funktionen sind Konstrukte, die analog zu Funktionen in der Mathematik Argumente entgegennehmen und einen Funktionswert zurückgeben.\n",
    "\n",
    "Bsp: $f(x) = x^2+2x+1 \\Rightarrow f(3) = 3^2+2 \\cdot 3 + 1 = 16$\n",
    "\n",
    "Pythonsyntax:\n",
    "```python\n",
    "def funktionsname(parameter_1, parameter_2):\n",
    "    funktions\n",
    "    rumpf\n",
    "    bestehend\n",
    "    aus vielen\n",
    "    Zeilen, die\n",
    "    alle eingerückt\n",
    "    sind\n",
    "    return rückgabewert\n",
    "```"
   ]
  },
  {
   "cell_type": "code",
   "execution_count": 5,
   "metadata": {},
   "outputs": [
    {
     "name": "stdout",
     "output_type": "stream",
     "text": [
      "16\n",
      "16\n",
      "289\n"
     ]
    }
   ],
   "source": [
    "def f(x):\n",
    "    return x**2 + 2*x + 1\n",
    "print(f(3))\n",
    "a = f(3)\n",
    "print(a)\n",
    "b = f(a)\n",
    "print(b)"
   ]
  },
  {
   "cell_type": "markdown",
   "metadata": {},
   "source": [
    "# Übungsaufgaben\n",
    "Die folgenden Übungsaufgaben sind in aufsteigender Schwierigkeit angeordnet. Auch wenn es hier zunächst vielleicht trivial erscheint, so wurden Tests mit angegeben, anhand derer die Richtigkeit der Lösung überprüft werden kann. Der `assert` Befehl prüft, ob die gegebene Bedingung wahr ist. Wenn ja, gibt es keinerlei Ausgaben, wenn nein, wird ein Fehler geworfen. Die Tests dienen vor allem der selbstständigen Korrektur.\n",
    "### 1 Schreibe eine Funktion, die eine (reelle) Zahl entgegennimmt und deren Betrag zurückgibt.\n",
    "\n",
    "Tests:\n",
    "\n",
    "```python\n",
    "assert abs(-3.4) == 3.4\n",
    "assert abs(0) == 0\n",
    "assert abs(2.2) == 2.2\n",
    "```\n",
    "### 2 Schreibe eine Funktion, die zwei (reelle) Zahlen entgegennimmt und deren Maximum zurückgibt.\n",
    "\n",
    "Tests:\n",
    "```python\n",
    "assert (maximum(2, 4) == 4)\n",
    "assert (maximum(-3.1, -4.2) == -3.1)\n",
    "assert (maximum(0, 0) == 0)\n",
    "```\n",
    "### 3 Schreibe eine Funktion, die als Argumente eine Untergrenze $u$ und eine Obergrenze $o$ entgegennimmt und die Summe aller durch 7 teilbaren natürlichen Zahlen im Intervall $[u, o]$ zurückgibt.\n",
    "\n",
    "Tests:\n",
    "```python\n",
    "assert (sum_seven(1, 10) == 7)\n",
    "assert (sum_seven(-10, 10) == 21)\n",
    "assert (sum_seven(7, 14) == 14)\n",
    "assert (sum_seven(100, 1000) == 896)\n",
    "\n",
    "```\n",
    "### 4 Schreibe eine Funktion, die nach dem Euklidischen Algorithmus (siehe Pseudocode) den größten gemeinsamen Teiler zweier übergebener Zahlen zurückgibt.\n",
    "\n",
    "Pseudocode:\n",
    "```\n",
    "ggt(a, b):\n",
    "solange b ungleich 0 ist:\n",
    "    h = a modulo b\n",
    "    a = b\n",
    "    b = h\n",
    "ergebnis = a\n",
    "```\n",
    "\n",
    "Tests:\n",
    "```python\n",
    "assert (sum_seven(1, 10) == 7)\n",
    "assert (sum_seven(-10, 10) == 21)\n",
    "assert (sum_seven(7, 14) == 14)\n",
    "assert (sum_seven(100, 1000) == 896)\n",
    "```\n",
    "\n",
    "### 5 Collatz-Problem: Berechne die Collatz Folge (siehe Pseudocode) bis die Folgenglieder 4, 2, 1 (in dieser Reihenfolge direkt hintereinander) auftreten.\n",
    "\n",
    "Folgenvorschrift:\n",
    "* Beginne mit irgendeiner natürlichen Zahl $n > 0$\n",
    "* Ist $n$ gerade, so nimm als nächstes $n / 2$.\n",
    "* Ist $n$ ungerade, so nimm als nächstes $3 n + 1$\n",
    "* Wiederhole die Vorgehensweise mit der erhaltenen Zahl.\n",
    "Tipps:\n",
    "* Da wir noch keine Zahlenfolge abspeichern können, genügt es, die einzelnen Folgenglieder mit `print` auszugeben.\n",
    "* Überlege, wie die Abbruchbedingung sinnvoll umgesetzt werden kann. Wie gelingt es, die letzten drei Folgenglieder zu speichern und nach jeder Iteration zu aktualisieren?\n",
    "Tests (hier noch manueller Vergleich):\n",
    "19\n",
    "58\n",
    "29.0\n",
    "88.0\n",
    "44.0\n",
    "22.0\n",
    "11.0\n",
    "34.0\n",
    "17.0\n",
    "52.0\n",
    "26.0\n",
    "13.0\n",
    "40.0\n",
    "20.0\n",
    "10.0\n",
    "5.0\n",
    "16.0\n",
    "8.0\n",
    "4.0\n",
    "2.0\n",
    "1.0\n",
    "\n",
    "### 6 Fibonacci Folge: Schreibe eine Funktion die die ersten $n$ Fibonacci Zahlen ausgibt.\n",
    "Die Fibonacci-Zahlen sind wie folgt rekursiv definiert:\n",
    "\n",
    "$$f_n = \\left\\{\\begin{array}{ll} 0 & \\text{ für } n = 0 \\\\ 1 & \\text{ für } n = 1 \\\\ f_{n-1}+f_{n-2} & \\text{ für } n\\geq 2\\end{array} \\right.$$\n",
    "\n",
    "In Worten: Eine Fibonacci Zahl ist immer die Summe der beiden Vorgänger Zahlen.\n",
    "\n",
    "Tests:\n",
    "```python\n",
    "assert(fib(0) == 0)\n",
    "assert(fib(1) == 1)\n",
    "assert(fib(10) == 55)\n",
    "assert(fib(30) == 832040)\n",
    "```\n",
    "### 7 Schreibe eine Funktion, die als Paramter eine weitere Funktion erhält und mit Hilfe des Intervallhalbierungsverfahrens (siehe Wikipedia) in einem vorgegebenen Intervall mit einer vorgegebenen Präzision nach einer Nullstelle sucht. Da dies recht aufwändig zu implementieren ist, genügt es den folgenden Spezialfall zu implementieren: Funktion: $f(x) = -x^2 + e^x$ (streng monoton steigend), Intervall $[-1, 0]$.\n",
    "Tests:\n",
    "```python\n",
    "assert find_zero(my_func, -1, 0, 0.01) < -0.69\n",
    "assert find_zero(my_func, -1, 0, 0.01) > -0.713\n",
    "```\n",
    "![Alt text](images/Bisektion.svg)![Alt text](images/BinaereSuche1.svg) ![Alt text](images/BinaereSuche2.svg) ![Alt text](images/BinaereSuche3.svg) ![Alt text](images/BinaereSuche4.svg) ![Alt text](images/BinaereSuche5.svg) ![Alt text](images/BinaereSuche6.svg)\n",
    "### Zusatzaufgabe: Schreibe eine Verallgemeinerung von Aufgabe 7\n"
   ]
  },
  {
   "cell_type": "code",
   "execution_count": 1,
   "metadata": {},
   "outputs": [],
   "source": [
    "# blueprint for task 7\n",
    "import math\n",
    "def my_func(x):\n",
    "    return -x**2 + math.exp(x)\n",
    "\n",
    "def find_zero(func, lower, upper, tolerance):\n",
    "    pass"
   ]
  }
 ],
 "metadata": {
  "kernelspec": {
   "display_name": "Python 3",
   "language": "python",
   "name": "python3"
  },
  "language_info": {
   "codemirror_mode": {
    "name": "ipython",
    "version": 3
   },
   "file_extension": ".py",
   "mimetype": "text/x-python",
   "name": "python",
   "nbconvert_exporter": "python",
   "pygments_lexer": "ipython3",
   "version": "3.10.12"
  },
  "orig_nbformat": 4
 },
 "nbformat": 4,
 "nbformat_minor": 2
}
