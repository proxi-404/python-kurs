{
 "cells": [
  {
   "cell_type": "markdown",
   "metadata": {},
   "source": [
    "# Übungsaufgaben Einführung in die Objektorientierung\n",
    "### 1 Würfel\n",
    "Schreibe ein Klasse *Würfel*, die das Attribut *number* (Zahl zwischen eins und sechs) speichert und über die Funktion *throw* auf eine neue, zufällige Augenzahl setzt. Verwende dafür die Funktion `random.randint(start, stop)`."
   ]
  },
  {
   "cell_type": "code",
   "execution_count": null,
   "metadata": {},
   "outputs": [],
   "source": []
  },
  {
   "cell_type": "markdown",
   "metadata": {},
   "source": [
    "### 2 Vektoren\n",
    "Schreibe eine Klasse 3D-Vektoren, denen folgende Operationen zur Verfügung stehen:\n",
    "1. Addition: $\\vec{v} + \\vec{w} = \\begin{pmatrix} a \\\\ b \\\\ c \\end{pmatrix} + \\begin{pmatrix} d \\\\ e \\\\ f \\end{pmatrix} = \\begin{pmatrix} a+d \\\\ b+e \\\\ c+f \\end{pmatrix}$\n",
    "2. Subtraktion (analog)\n",
    "3. Skalarmultiplikation: $\\vec{v} + \\vec{w} = \\begin{pmatrix} a \\\\ b \\\\ c \\end{pmatrix} \\cdot \\begin{pmatrix} d \\\\ e \\\\ f \\end{pmatrix} = ad + be + cf$\n",
    "4. sinnvolle Stringrepräsenation\n",
    "\n",
    "**Zusatzaufgaben**\n",
    "Ergänze weitere Features wie z.B.\n",
    "* Skalarmultiplikation $k \\cdot \\begin{pmatrix} a \\\\ b \\\\ c \\end{pmatrix} = \\begin{pmatrix} ka \\\\ kb \\\\ kc \\end{pmatrix}$\n",
    "* Betragsfunktion $abs(\\begin{pmatrix} a \\\\ b \\\\ c \\end{pmatrix}) = \\sqrt{a^2+b^2+c^2}$\n",
    "* ..."
   ]
  },
  {
   "cell_type": "code",
   "execution_count": null,
   "metadata": {},
   "outputs": [],
   "source": []
  },
  {
   "cell_type": "markdown",
   "metadata": {},
   "source": [
    "### 3 Bank\n",
    "Schreibe eine Klasse Bank, die Bankkonten verwaltet. Die Bank soll dabei Kredite vergeben und Zinsen bezahlen können.\n",
    "1. Eine Funktion *new_year(interest)* zahlt allen Kunden einen Zins von *interest* Prozent aus. \n",
    "2. Kredite: Konten können nun überzogen werden, d.h. Überweisungen und Auszahlungen, die den eigenen Kontostand überschreiten können getätigt werden. Ergänze dazu eine neue Funktion `transaction(transmitter, receiver, amount)`."
   ]
  },
  {
   "cell_type": "code",
   "execution_count": null,
   "metadata": {},
   "outputs": [],
   "source": []
  }
 ],
 "metadata": {
  "language_info": {
   "name": "python"
  },
  "orig_nbformat": 4
 },
 "nbformat": 4,
 "nbformat_minor": 2
}
