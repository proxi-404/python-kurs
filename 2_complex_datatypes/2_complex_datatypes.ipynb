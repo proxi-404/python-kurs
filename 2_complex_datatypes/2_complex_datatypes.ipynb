{
 "cells": [
  {
   "cell_type": "markdown",
   "metadata": {},
   "source": [
    "# Komplexe Datentypen\n",
    "Wie wir in der letzten Aufgabe gesehen haben, wäre es praktisch, eine Datenstruktur zu haben, in der mehrere Elemente gespeichert werden können. Python bietet vier unterschiedliche Container Typen an, die wir uns nacheinander ansehen.\n",
    "## Listen\n",
    "Listen sind der wahrscheinlich am häufigsten verwendete Container. Listen werden stets mit eckigen Klammern initialisiert. Syntax: \n",
    "```python\n",
    "my_list = [] # empty list\n",
    "my_list = [1, 2, 3]\n",
    "```\n",
    "Alle Einträge erhalten einen **Index** der bei **Null** startet und einen eindeutigen Zugriff auf alle Elemente ermöglicht. Der Zugriff auf einen Index erfolgt wieder mit eckigen Klammern: `my_list[0]` liefert z.B. den Wert 1 zurück.\n",
    "\n",
    "Die wichtigsten Operationen auf Listen sind das Anfügen eines Elementes am Ende mit `append(element)`, das Einfügen an einer beliebigen Stelle mit `insert(index, element)`, das Entfernen (des ersten Eintrages mit dem Wert *value*) mit `remove(value)`, das Entfernen eines Elementes nach Index mit `pop(index)` und das Sortieren mit `sort`.\n",
    "\n",
    "Listen weisen an einigen Stellen ein Verhalten auf, das für die meisten zunächst sehr unintuitiv ist. Kenn man dieses Verhalten nicht, sucht man oft stundenlang nach Fehlern. Daher schauen wir uns folgende Code Beispiele etwas genauer an:\n",
    "### advanced indexing\n",
    "Oftmals möchte man bestimmte Bereiche aus Listen und nicht nur einzelne Werte erhalten. Dies funktioniert über folgende Syntax: `L[start:stop:step]` wie das folgende Beispiel zeigt. Wie so oft ist der erste Werte immer inclusive und der zweite exclusive:"
   ]
  },
  {
   "cell_type": "code",
   "execution_count": 15,
   "metadata": {},
   "outputs": [
    {
     "name": "stdout",
     "output_type": "stream",
     "text": [
      "[0, 1]\n",
      "[3, 4]\n",
      "[0, 2, 4]\n",
      "[7, 8]\n",
      "[0, 1, 2, 3, 4]\n",
      "[5, 6, 7, 8, 9]\n"
     ]
    }
   ],
   "source": [
    "L = [0, 1, 2, 3, 4, 5, 6, 7, 8, 9] # index and value are identical\n",
    "print(L[0:2]) # only start and stop\n",
    "print(L[3:5]) # only start and stop\n",
    "print(L[0:5:2]) # stepwidth 2\n",
    "print(L[-3: -1]) # indexing from last to first with -\n",
    "print(L[:5]) # first five\n",
    "print(L[5:]) # everything from five onwards"
   ]
  },
  {
   "cell_type": "markdown",
   "metadata": {},
   "source": [
    "### deep and shallow copy\n"
   ]
  },
  {
   "cell_type": "code",
   "execution_count": 14,
   "metadata": {},
   "outputs": [
    {
     "name": "stdout",
     "output_type": "stream",
     "text": [
      "list 1: [0, 1, 2, 3, 4, 5, 6, 7, 8, 9]\n",
      "list 2: [0, 1, 2, 3, 4, 5, 6, 7, 8, 9]\n",
      "list 2: [0, 1, 2, 3, 4, 5, 6, 7, 8, 9, 10]\n"
     ]
    }
   ],
   "source": [
    "list_1 = [i for i in range(10)]\n",
    "print(\"list 1:\", list_1)\n",
    "list_2 = list_1\n",
    "print(\"list 2:\", list_2)\n",
    "list_2.append(10)\n",
    "print(\"list 2:\", list_2)"
   ]
  },
  {
   "cell_type": "markdown",
   "metadata": {},
   "source": [
    "Welche Ausgabe ist bei der nächsten Ausgabe zu erwarten?"
   ]
  },
  {
   "cell_type": "code",
   "execution_count": 15,
   "metadata": {},
   "outputs": [
    {
     "name": "stdout",
     "output_type": "stream",
     "text": [
      "list 1: [0, 1, 2, 3, 4, 5, 6, 7, 8, 9, 10]\n",
      "list 2: [1, 2, 3, 4, 5, 6, 7, 8, 9, 10]\n"
     ]
    }
   ],
   "source": [
    "print(\"list 1:\", list_1)\n",
    "list_1.pop(0)\n",
    "print(\"list 2:\", list_2)"
   ]
  },
  {
   "cell_type": "markdown",
   "metadata": {},
   "source": [
    "Ein anderes Verhalten ergibt sich durch den Befehl `deepcopy`"
   ]
  },
  {
   "cell_type": "code",
   "execution_count": 16,
   "metadata": {},
   "outputs": [
    {
     "name": "stdout",
     "output_type": "stream",
     "text": [
      "list 3: [1, 2, 3, 4, 5, 6, 7, 8, 9, 10]\n",
      "list 1: []\n",
      "list 3 [1, 2, 3, 4, 5, 6, 7, 8, 9, 10]\n"
     ]
    }
   ],
   "source": [
    "import copy\n",
    "list_3 = copy.deepcopy(list_1)\n",
    "print(\"list 3:\", list_3)\n",
    "list_1.clear()\n",
    "print(\"list 1:\", list_1)\n",
    "print(\"list 3\", list_3)"
   ]
  },
  {
   "cell_type": "markdown",
   "metadata": {},
   "source": [
    "### kleine Laufzeitmessung:\n",
    "An eine leere Liste sollen eine Millionen Elemente hinten oder vorne angefügt werden. Welches Laufzeitverhalten ist zu erwarten?"
   ]
  },
  {
   "cell_type": "code",
   "execution_count": 8,
   "metadata": {},
   "outputs": [
    {
     "data": {
      "image/png": "[encoded data removed]",
      "text/plain": [
       "<Figure size 432x288 with 1 Axes>"
      ]
     },
     "metadata": {
      "needs_background": "light"
     },
     "output_type": "display_data"
    }
   ],
   "source": [
    "import time\n",
    "import matplotlib.pyplot as plt\n",
    "append_times = []\n",
    "insert_times = []\n",
    "\n",
    "x = [i for i in range(0, 5*10**4, 10**3)]\n",
    "for n in x:\n",
    "    # print(n, end=\",\")\n",
    "    L = []\n",
    "    start = time.process_time()\n",
    "    for i in range(n):\n",
    "        L.append(4242)\n",
    "    stop = time.process_time()\n",
    "    #print(f\"append {stop-start:.4f} s\")\n",
    "    append_times.append(stop-start)\n",
    "\n",
    "    L = []\n",
    "    start = time.process_time()\n",
    "    for i in range(n):\n",
    "        L.insert(0, 4242)\n",
    "    stop = time.process_time()\n",
    "    # print(f\"insert at beginning {stop-start:.4f} s\")\n",
    "    insert_times.append(stop-start)\n",
    "\n",
    "plt.title(\"time comparison of append and prepend\")\n",
    "plt.plot(x, append_times, label=\"append\")\n",
    "plt.plot(x, insert_times, label=\"prepend\")\n",
    "plt.xlabel(\"number of list elements\")\n",
    "plt.ylabel(\"time in s\")\n",
    "plt.legend()\n",
    "plt.savefig(\"plots/append_prepend_1.png\")\n",
    "plt.show()"
   ]
  },
  {
   "cell_type": "markdown",
   "metadata": {},
   "source": [
    "\n",
    "## Tupel\n",
    "Tupel funktionieren völlig analog zu Listen, sind aber unveränderlich und bieten daher einen geringeren Umfang an Operationen. Tupel werden mit runden Klammern initialisiert."
   ]
  },
  {
   "cell_type": "markdown",
   "metadata": {},
   "source": [
    "## Dictionaries\n",
    "Dictionaries funktionieren analog zu Wörter oder Telefonbüchern. Anstelle von ganzzahligen Indizes wie bei Listen, gibt es bei Dicts beliebige **keys**, denen ein **value** zugeordnet wird. Syntax:\n",
    "```python\n",
    "mobile = {\"Fabian\": 123456789, \"Thomas\": 987654321}\n",
    "```\n",
    "Der Zugriff erfolgt wie gewohnt über eckige Klammern, in denen nun aber Strings und keine ganzzahligen Werte als Key bzw. Index stehen. Neue Elemente können ganz einfach über die Syntax `my_dict[\"new key\"] = new_value` hinzugefügt werden."
   ]
  },
  {
   "cell_type": "markdown",
   "metadata": {},
   "source": [
    "## Sets\n",
    "Sets sind Datenstrukturen mit ähnlichen Eigenschaften wie Mengen in der Mathematik. Sie sind Ansammlungen von Elementen ohne Reihenfolge und jedes Element kann nur ein mal vorkommen. Die häufigsten Anwendungen sind das Herausfiltern von Duplikaten aus Listen oder das Bilden von Schnitt (difference) oder Vereinigung (union). Sets werden ähnlich wie Dictionaries mit Mengenklammern initialisiert:\n",
    "`my_set = {1, 3, 6, 7, 7, 3}`"
   ]
  },
  {
   "cell_type": "markdown",
   "metadata": {},
   "source": [
    "# for-Schleife und range-Befehl\n",
    "Eine wichtige Kontrollstruktur im Umgang mit komplexen Datentypen ist die for-Schleife. Diese wendet einen Anweisungsblock auf alle Elemente einer komplexen Datenstruktur an. For Schleifen haben also eine ähnliche Funktionalität wie while-Schleifen, haben aber oft eine kürzere Syntax. \n",
    "```python\n",
    "for element in complex_datatype:\n",
    "    do_something\n",
    "```\n",
    "*element* trägt dabei wirklich die einzelnen Werte und ist nicht bloß ein Index, wie die folgenden Beispiele erläutern:"
   ]
  },
  {
   "cell_type": "code",
   "execution_count": 4,
   "metadata": {},
   "outputs": [
    {
     "name": "stdout",
     "output_type": "stream",
     "text": [
      "result: 1\n",
      "result: 4\n",
      "result: 9\n",
      "result: 16\n",
      "result: 25\n"
     ]
    }
   ],
   "source": [
    "L = [1, 2, 3, 4, 5]\n",
    "new_list = []\n",
    "for element in L:\n",
    "    new_list.append(element**2)\n",
    "    \n",
    "for i in new_list:\n",
    "    print(\"result:\", i)\n"
   ]
  },
  {
   "cell_type": "markdown",
   "metadata": {},
   "source": [
    "Eine noch kürzere Syntax (an die man sich oft erst einmal gewöhnen muss) ist die sogenannte *list comprehension*:"
   ]
  },
  {
   "cell_type": "code",
   "execution_count": 6,
   "metadata": {},
   "outputs": [
    {
     "name": "stdout",
     "output_type": "stream",
     "text": [
      "[0, 1, 2, 3, 4, 5, 6, 7, 8, 9]\n",
      "[0, 1, 4, 9, 16, 25, 36, 49, 64, 81]\n"
     ]
    }
   ],
   "source": [
    "numbers = [i for i in range(10)]\n",
    "square_numbers = [i**2 for i in numbers]\n",
    "print(numbers)\n",
    "print(square_numbers)"
   ]
  },
  {
   "cell_type": "markdown",
   "metadata": {},
   "source": [
    "Eine der häufigsten Aufgaben ist es, alle natürlichen Zahlen zwischen einem Startwert und einem Endwert, ggf. mit einer bestimmten Schrittweite zu generieren. Dafür ist der Befehl `range(start, stop, step)` hervorragend geeignet. Dabei sind die Parameter *start* (default: 0) und step (default: 1) optional."
   ]
  },
  {
   "cell_type": "code",
   "execution_count": 21,
   "metadata": {},
   "outputs": [
    {
     "name": "stdout",
     "output_type": "stream",
     "text": [
      "range(1, 24, 3)\n",
      "[range(1, 24, 3)]\n",
      "[1, 4, 7, 10, 13, 16, 19, 22]\n",
      "[1, 2, 3, 4, 5, 6, 7, 8, 9, 10, 11, 12, 13, 14, 15, 16, 17, 18, 19, 20, 21, 22, 23]\n",
      "[0, 1, 2, 3, 4, 5, 6, 7, 8, 9, 10, 11, 12, 13, 14, 15, 16, 17, 18, 19, 20, 21, 22, 23]\n"
     ]
    }
   ],
   "source": [
    "print(range(1, 24, 3)) # does not yield the intended result\n",
    "print([range(1, 24, 3)]) # still not what we want\n",
    "print([i for i in range(1, 24, 3)]) # works with list comprehension\n",
    "print([i for i in range(1, 24)])\n",
    "print([i for i in range(24)])"
   ]
  },
  {
   "cell_type": "code",
   "execution_count": null,
   "metadata": {},
   "outputs": [],
   "source": []
  }
 ],
 "metadata": {
  "kernelspec": {
   "display_name": "Python 3",
   "language": "python",
   "name": "python3"
  },
  "language_info": {
   "codemirror_mode": {
    "name": "ipython",
    "version": 3
   },
   "file_extension": ".py",
   "mimetype": "text/x-python",
   "name": "python",
   "nbconvert_exporter": "python",
   "pygments_lexer": "ipython3",
   "version": "3.10.12"
  },
  "orig_nbformat": 4
 },
 "nbformat": 4,
 "nbformat_minor": 2
}
