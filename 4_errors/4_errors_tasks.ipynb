{
 "cells": [
  {
   "cell_type": "markdown",
   "metadata": {},
   "source": [
    "# Aufgaben zur Fehlerbehandlung\n",
    "### 1 Dateien verwalten\n",
    "Schreibe ein Programm, das die Datei `../files/input.txt` einließt. Falls diese Datei nicht existiert, soll das Programm nicht abstürzen, sondern es soll eine entsprechene Meldung ausgegeben werden. Der Inhalt der Datei soll schließlich in die Datei `../files/output.txt` geschrieben werden. \\\n",
    "Zusatzaufgabe: Der Inhalt soll nun in die Datei `../files/output.txt` abgespeichert werden. Dabei soll er an die Datei angefügt werden, falls sie bereits existiert, sonst soll die Datei neu angelegt werden. Lies dazu die Dokumentation von `open` (https://docs.python.org/3/library/functions.html#open)"
   ]
  },
  {
   "cell_type": "code",
   "execution_count": null,
   "metadata": {},
   "outputs": [],
   "source": []
  },
  {
   "cell_type": "markdown",
   "metadata": {},
   "source": [
    "### Zusatzaufgabe (schwer und ohne Musterlösung)\n",
    "Schreibe einen kleinen Taschenrechner. Dabei soll der Nutzer eine Aufgabe als String eingeben können. Die Eingabe wird dabei wie folgt ausgewertet:\n",
    "1. unerlaubte Zeichen oder Zeichenfolgen (ein Punkt ist als Trennzeichen erlaubt, zwei Punkte in einer Zahl allerdings nicht) enthalten?\n",
    "2. suche nach allen Operatoren wie +, -, *, /\n",
    "3. Einlesen der Zahlenwerte\n",
    "4. Beginne bei den Operatoren mit höherer Präferenz (Punkt vor Strich) die Ausdrücke auszuwerten\n",
    "5. Ausgabe des Ergebnisses\n",
    "\n",
    "Bei allen Schritten soll auf Fehler geprüft werden, sodass das Programm nie abstürzt.\\\n",
    "Tipps:\n",
    "* Strings verhalten sich in Bezug auf Indexing genau wie Listen\n",
    "* versuche erst mal eine Grundfunktionalität (z.B. nur Plus und Minus) zu erreichen und erweitere danach die erlaubten Operatoren"
   ]
  },
  {
   "cell_type": "markdown",
   "metadata": {},
   "source": []
  }
 ],
 "metadata": {
  "language_info": {
   "name": "python"
  },
  "orig_nbformat": 4
 },
 "nbformat": 4,
 "nbformat_minor": 2
}
