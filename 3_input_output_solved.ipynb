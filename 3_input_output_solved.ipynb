{
 "cells": [
  {
   "cell_type": "code",
   "execution_count": 10,
   "metadata": {},
   "outputs": [
    {
     "name": "stdout",
     "output_type": "stream",
     "text": [
      "                     1                      \n",
      "                   1   1                    \n",
      "                 1   2   1                  \n",
      "               1   3   3   1                \n",
      "             1   4   6   4   1              \n",
      "           1   5   10  10  5   1            \n",
      "         1   6   15  20  15  6   1          \n",
      "       1   7   21  35  35  21  7   1        \n",
      "     1   8   28  56  70  56  28  8   1      \n",
      "   1   9   36  84 126 126  84  36  9   1    \n"
     ]
    }
   ],
   "source": [
    "def pascal2(max_num):\n",
    "    result = []\n",
    "    for n in range(max_num):\n",
    "        row = []\n",
    "        for k in range(n+1):\n",
    "            i = 0\n",
    "            tmp = 1\n",
    "            for i in range(k):\n",
    "                tmp = tmp * (n-i)\n",
    "                tmp = tmp // (i+1)\n",
    "            row.append(tmp)\n",
    "        string = \"\"\n",
    "        for i in row:\n",
    "            string = string + str(i).center(4,\" \")\n",
    "        string = string.center((max_num+1)*4, \" \")\n",
    "        print(string)  \n",
    "\n",
    "pascal2(10)"
   ]
  },
  {
   "cell_type": "code",
   "execution_count": 8,
   "metadata": {},
   "outputs": [
    {
     "name": "stdout",
     "output_type": "stream",
     "text": [
      "      1 \n",
      "     1 1 \n",
      "    1 2 1 \n",
      "   1 3 3 1 \n",
      "  1 4 6 4 1 \n"
     ]
    }
   ],
   "source": [
    "# Print Pascal's Triangle in Python\n",
    "from math import factorial\n",
    " \n",
    "# input n\n",
    "n = 5\n",
    "for i in range(n):\n",
    "    for j in range(n-i+1):\n",
    " \n",
    "        # for left spacing\n",
    "        print(end=\" \")\n",
    " \n",
    "    for j in range(i+1):\n",
    " \n",
    "        # nCr = n!/((n-r)!*r!)\n",
    "        print(factorial(i)//(factorial(j)*factorial(i-j)), end=\" \")\n",
    " \n",
    "    # for new line\n",
    "    print()"
   ]
  },
  {
   "cell_type": "code",
   "execution_count": null,
   "metadata": {},
   "outputs": [],
   "source": []
  }
 ],
 "metadata": {
  "kernelspec": {
   "display_name": "Python 3",
   "language": "python",
   "name": "python3"
  },
  "language_info": {
   "codemirror_mode": {
    "name": "ipython",
    "version": 3
   },
   "file_extension": ".py",
   "mimetype": "text/x-python",
   "name": "python",
   "nbconvert_exporter": "python",
   "pygments_lexer": "ipython3",
   "version": "3.10.12"
  },
  "orig_nbformat": 4
 },
 "nbformat": 4,
 "nbformat_minor": 2
}
