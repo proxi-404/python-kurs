{
 "cells": [
  {
   "cell_type": "markdown",
   "metadata": {},
   "source": [
    "## Aufgaben zu Listen (und Tupeln)\n",
    "### 0. Warmwerden mit for-Schleife und indexing\n",
    "Schreibe mit einer for-Schleife (sowohl in Langnotation als auch in list comprehension Form) eine Liste mit allen *geraden* Zahlen von 0 bis einschließlich 100. Benutze anschließend advanced indexing, um eine neue Liste aller durch 4 teilbaren Zahlen zwischen 10 und 90 zu erstellen."
   ]
  },
  {
   "cell_type": "code",
   "execution_count": null,
   "metadata": {},
   "outputs": [],
   "source": []
  },
  {
   "cell_type": "markdown",
   "metadata": {},
   "source": [
    "### 1. Collatz II\n",
    "Speichere die Ergebnisse von 1_basics, Aufgabe 5 (Collatz Folge) in eine Liste, anstelle sie nur auszugeben. "
   ]
  },
  {
   "cell_type": "code",
   "execution_count": 1,
   "metadata": {},
   "outputs": [],
   "source": [
    "# assert collatz(1) == [1, 4, 2, 1]\n",
    "# assert collatz(10) == [10, 5, 16, 8, 4, 2, 1]\n",
    "# assert collatz(19) == [19, 58, 29, 88, 44, 22, 11, 34, 17, 52, 26, 13, 40, 20, 10, 5, 16, 8, 4, 2, 1]"
   ]
  },
  {
   "cell_type": "markdown",
   "metadata": {},
   "source": [
    "### 2. Fibonacci II\n",
    "Schreibe eine Funktion die die ersten $n$ Fibonacci Zahlen in eine Liste speichert und zurückgibt."
   ]
  },
  {
   "cell_type": "code",
   "execution_count": 2,
   "metadata": {},
   "outputs": [],
   "source": [
    "# assert fib(0) == [0]\n",
    "# assert fib(1) == [0, 1]\n",
    "# assert fib(2) == [0, 1, 1]\n",
    "# assert fib(10) == [0, 1, 1, 2, 3, 5, 8, 13, 21, 34, 55]"
   ]
  },
  {
   "cell_type": "markdown",
   "metadata": {},
   "source": [
    "### 3. Maximum:\n",
    "Schreibe selbst eine Funktion die das größte Listenelement zurückgibt."
   ]
  },
  {
   "cell_type": "code",
   "execution_count": 3,
   "metadata": {},
   "outputs": [],
   "source": [
    "# assert maximum([\"a\", \"n\", \"z\", \"o\"]) == \"z\"\n",
    "# assert maximum([-1, 3, -5, 7, -8.1]) == 7"
   ]
  },
  {
   "cell_type": "markdown",
   "metadata": {},
   "source": [
    "### 4. kleinste Abstände: \n",
    "Schreibe eine Funktion, die die beiden Listenelemente zurückgibt, deren Abstand (immer positiv) am kleinsten ist. Gibt es mehrere Möglichkeiten, so sollen die ersten beiden zutreffenden Elemente zurückgegeben werden. Die Rückgabe soll als aufsteigend sortierte Liste der beiden Werte erfolgen."
   ]
  },
  {
   "cell_type": "code",
   "execution_count": 4,
   "metadata": {},
   "outputs": [],
   "source": [
    "# assert least_dist([1, 4, 7.7, 8, 9, 12, 2, 2.1, 13, 2.04, 3]) == [2, 2.04]\n",
    "# assert least_dist([96, 88, 28, 96, 85, 20, 89, 30, 71, 48]) == [88, 89]\n",
    "# assert least_dist([39, 69, 5, 1, 23, 15, 52, 45, 67, 95]) == [67, 69]"
   ]
  },
  {
   "cell_type": "markdown",
   "metadata": {},
   "source": [
    "### 5. verschachtelte Listen:\n",
    "Schreibe eine Funktion, die das große Einmaleins, d.h. die Ergebnisse aller Multiplikationen von $1 \\cdot 1$ bis $m \\cdot n$ in einer Tabelle ausgibt und diese Tabelle als zweidimensionale Liste zurückgibt."
   ]
  },
  {
   "cell_type": "code",
   "execution_count": 1,
   "metadata": {},
   "outputs": [],
   "source": [
    "# assert great_1x1(4, 6) == [[1, 2, 3, 4, 5, 6], [2, 4, 6, 8, 10, 12], [3, 6, 9, 12, 15, 18], [4, 8, 12, 16, 20, 24]]"
   ]
  },
  {
   "cell_type": "markdown",
   "metadata": {},
   "source": [
    "## Zusatzaufgaben zu Listen\n",
    "### Tabellen schön ausgeben\n",
    "Schreibe eine Funktion, die die Tabelle aus der letzten Ausgabe als Parameter entgegennimmt und \"schön\" ausgibt.\n",
    "**Tipps:** \n",
    "* `print(f\"{variable:4d}\")` gibt eine die Variable variable als ganze Zahl mit exakt 4 Stellen aus und füllt nicht vorhandene Ziffern mit Leerzeichen auf.\n",
    "* `print(\"something\", end=\"a string\")` gibt *something\" aus und beendet den Befehl nicht mit einem Zeilenumbruch, sondern mit *a string*\n",
    "* Versuche erst, die Zahlen formatiert auszugeben und kümmere dich dann um eine Umrandung / Kopfzeile\n",
    "\n",
    "**Beispiel für schöne Ausgabe**\n",
    "```python\n",
    "  *     1    2    3    4    5    6    7 \n",
    "---- ---- ---- ---- ---- ---- ---- ---- \n",
    " 1 |    1    2    3    4    5    6    7 \n",
    " 2 |    2    4    6    8   10   12   14 \n",
    " 3 |    3    6    9   12   15   18   21 \n",
    " 4 |    4    8   12   16   20   24   28 \n",
    " 5 |    5   10   15   20   25   30   35 \n",
    "```\n",
    "\n",
    "***Ab hier keine Angst vor 5 ineinander verschachtelten for-Schleifen!!!***\n",
    "\n",
    "\n",
    "### Risiko\n",
    "Beim Risikospielen würfelt ein Angreifer mit drei Würfeln geben zwei Würfel des Verteidigers. Da fünf faire Würfel zum Einsatz kommen, gibt es $6^5=7776$ gleich wahrscheinliche Würfelereignisse. Laut Wikipedia führen $2890$ davon zu dem Ergebnis $2:0$, $2611$ zu dem Ergebnis $1:1$ und $2275$ zu dem Ergebnis $0:2$.\n",
    "\n",
    "Schreibe ein Python-Programm, das diese Statistik bestätigt.\n",
    "\n",
    "(Beim Risiko werden die Würfel beider Spieler sortiert und jeweils die größten, die zweitgrößten und ggf. die drittgrößten miteinander verglichen. Für jeden der bis zu drei Vergleiche holt derjenige mit der größeren Augenzahl den Punkt. Bei gleicher Augenzahl gewinnt der Verteidiger.)\n",
    "\n",
    "Tipp: Zur \"schönen\" Verwaltung der Ergebnisse bietet sich ein Dictionary der Art `{\"2:0\":0, \"1:1\":0, \"0:2\":0}` an.\n"
   ]
  },
  {
   "cell_type": "code",
   "execution_count": 1,
   "metadata": {},
   "outputs": [],
   "source": [
    "# your code"
   ]
  },
  {
   "cell_type": "markdown",
   "metadata": {},
   "source": [
    "### Levi-Civita-Symbol\n",
    "Schreibe eine Funktion die den Wert des Levi-Civita-Symbols $\\epsilon_{ijk}$ zurückgibt. $\\epsilon_{ijk}$ hat dabei den Wert 1, falls i, j, k eine gerade Permutation der Zahlen 1, 2, 3 darstellt, den Wert -1, falls i, j, k eine ungerade Permutation der Zahlen 1, 2, 3 darstellt und den Wert 0, falls ein Index mindestens zwei mal auftritt. Eine Permutation $\\pi$ heißt gerade, wenn sie aus einer geraden Anzahl an paarweisen Elementvertauschungen hervorgeht. Der Wert 1 oder -1 ergibt sich bei Permutationen aber auch einfach mit Hilfe dieser Formel: $sgn(\\pi) = \\prod_{1 \\le a < b \\le 3} \\frac{\\pi(b)-pi(a)}{b-a}$ \\\n",
    "Hinterlege die 27 Kombinationen dabei in einer $3 \\times 3 \\times 3$ Tabelle. \\\n",
    "**Tipp** Verwende intern die Inzides 0 bis 2 und dekrementiere die vom Nutzer an die Funktion übergebenen Indizes um 1.\n",
    "```\n",
    "[[0, 0, 0], [0, 0, 1], [0, -1, 0]]\n",
    "[[0, 0, -1], [0, 0, 0], [1, 0, 0]]\n",
    "[[0, 1, 0], [-1, 0, 0], [0, 0, 0]]\n",
    "```\n"
   ]
  },
  {
   "cell_type": "code",
   "execution_count": 2,
   "metadata": {},
   "outputs": [],
   "source": [
    "# assert levi_civita(1,1,1) == 0\n",
    "# assert levi_civita(1,1,2) == 0\n",
    "# assert levi_civita(1,1,3) == 0\n",
    "# assert levi_civita(1,2,1) == 0\n",
    "# assert levi_civita(1,2,2) == 0\n",
    "# assert levi_civita(1,2,3) == 1\n",
    "# assert levi_civita(1,3,1) == 0\n",
    "# assert levi_civita(1,3,2) == -1\n",
    "# assert levi_civita(1,3,3) == 0\n",
    "# assert levi_civita(2,1,1) == 0\n",
    "# assert levi_civita(2,1,2) == 0\n",
    "# assert levi_civita(2,1,3) == -1\n",
    "# assert levi_civita(2,2,1) == 0\n",
    "# assert levi_civita(2,2,2) == 0\n",
    "# assert levi_civita(2,2,3) == 0\n",
    "# assert levi_civita(2,3,1) == 1\n",
    "# assert levi_civita(2,3,2) == 0\n",
    "# assert levi_civita(2,3,3) == 0\n",
    "# assert levi_civita(3,1,1) == 0\n",
    "# assert levi_civita(3,1,2) == 1\n",
    "# assert levi_civita(3,1,3) == 0\n",
    "# assert levi_civita(3,2,1) == -1\n",
    "# assert levi_civita(3,2,2) == 0\n",
    "# assert levi_civita(3,2,3) == 0\n",
    "# assert levi_civita(3,3,1) == 0\n",
    "# assert levi_civita(3,3,2) == 0\n",
    "# assert levi_civita(3,3,3) == 0"
   ]
  },
  {
   "cell_type": "markdown",
   "metadata": {},
   "source": [
    "## Aufgaben zu Dictionaries\n",
    "### 1 Counter\n",
    "Schreibe eine Counter Funktion. Diese soll eine Liste entgegennehmen und die Häufigkeit der Einträge zählen. Jeder in der Liste vorhandene Wert soll ein *key* in einem *dictionary* sein. Der entsprechende *value* speicher dann die Häufigkeit des Wertes in der Liste.\n",
    "\n",
    "Bsp.: [1, 1, 2, 3, 3] -> {1:2, 2:1, 3:2}"
   ]
  },
  {
   "cell_type": "code",
   "execution_count": 2,
   "metadata": {},
   "outputs": [],
   "source": [
    "# assert counter([7, 7, 9, 8, 2, 6, 3, 7, 8, 2, 1, 1, 6, 6, 6, 1, 1, 7, 6, 7]) == {7: 5, 9: 1, 8: 2, 2: 2, 6: 5, 3: 1, 1: 4}"
   ]
  },
  {
   "cell_type": "markdown",
   "metadata": {},
   "source": [
    "## Aufgaben zu Sets\n",
    "### 1 Mengenoperationen\n",
    "Berechne die folgende Menge: $E = (A \\cup B) \\cap (C\\backslash D)$. Dabei ist A die Menge aller natürlichen Zahlen von 1 bis 10, B die Menge aller geraden Zahlen von zwischen 5 und 25, C die Menge aller durch vier teilbaren Zahlen zwischen 0 und 100 und D={3,4,5}. Erzeuge zunächst die Mengen A,B,C,D und berechne dann die Menge E."
   ]
  },
  {
   "cell_type": "code",
   "execution_count": 6,
   "metadata": {},
   "outputs": [
    {
     "name": "stdout",
     "output_type": "stream",
     "text": [
      "{1, 2, 3, 4, 5, 6, 7, 8, 9}\n",
      "{6, 8, 10, 12, 14, 16, 18, 20, 22, 24}\n",
      "{0, 4, 8, 12, 16, 20, 24, 28, 32, 36, 40, 44, 48, 52, 56, 60, 64, 68, 72, 76, 80, 84, 88, 92, 96, 100}\n",
      "{3, 4, 5}\n",
      "{8, 12, 16, 20, 24}\n"
     ]
    }
   ],
   "source": [
    "# assert A == {1, 2, 3, 4, 5, 6, 7, 8, 9}\n",
    "# assert B == {6, 8, 10, 12, 14, 16, 18, 20, 22, 24}\n",
    "# assert C == {0, 4, 8, 12, 16, 20, 24, 28, 32, 36, 40, 44, 48, 52, 56, 60, 64, 68, 72, 76, 80, 84, 88, 92, 96, 100}\n",
    "# assert D == {3, 4, 5}\n",
    "# assert E == {8, 12, 16, 20, 24}"
   ]
  },
  {
   "cell_type": "code",
   "execution_count": null,
   "metadata": {},
   "outputs": [],
   "source": []
  }
 ],
 "metadata": {
  "kernelspec": {
   "display_name": "Python 3",
   "language": "python",
   "name": "python3"
  },
  "language_info": {
   "codemirror_mode": {
    "name": "ipython",
    "version": 3
   },
   "file_extension": ".py",
   "mimetype": "text/x-python",
   "name": "python",
   "nbconvert_exporter": "python",
   "pygments_lexer": "ipython3",
   "version": "3.10.12"
  },
  "orig_nbformat": 4
 },
 "nbformat": 4,
 "nbformat_minor": 2
}
