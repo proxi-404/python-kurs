{
 "cells": [
  {
   "cell_type": "markdown",
   "metadata": {},
   "source": [
    "## 6. Rekursion\n",
    "#### Was ist Rekursion?\n",
    "In unserem Programmierkontext ist eine rekursive Definition, eine Definiton, die in sich selbst wieder vorkommt. Das kann zum Beispiel eine Funktion oder eine Methode einer Klasse sein, die in sich selbst wieder aufgerufen wird. \n",
    "Bisher haben wir iterativ programmiert, das bedeutet, dass wir als Kontrollstrukturen wie ```if-else, while``` und ``` for``` verwendet haben. \n",
    "\n",
    "Ein anderer Ansatz ist rekursive Programmierung zu verwenden.  \n",
    "#### Warum benötigt man rekursive Programmierung?\n",
    "Vorweg, die meisten Probleme lassen sich auch ohne Rekursion lösen. Das heißt Rekursion ist nicht unbedingt nötig. \n",
    "\n",
    "Hier einige Punkte warum man Rekursion dennoch manchmal benötigt:  \n",
    "- In manchen Fällen kann eine rekursive Programmierung aber eleganter sein und auch einfacher zu finden sein. \n",
    "- Der Umgang mit verschachtelten Datenstrukturen ist durch Rekursion meistens einfacher zu handhaben. \n",
    "- Einige Algorithmen verwenden und benötigen Rekursion, um dadurch Teilprobleme zu generieren, die einfacher zu lösen sind (dazu im Kapitel zu Algorithmen mehr)\n",
    "\n",
    "Aber bei Rekursion auch zu beachten ist: \n",
    "- Rekursive Lösungen benötigen oft mehr Speicher als nicht rekursive\n",
    "- Die Berechnungszeit mit Rekursion kann langsamer sein. \n",
    "\n",
    "#### Wie Funktioniert nun Rekursion?\n",
    "Als Beispiel wollen wir eine Funktion haben, die von einer gegebenen Zahl runterzählen kann"
   ]
  },
  {
   "cell_type": "code",
   "execution_count": null,
   "metadata": {},
   "outputs": [],
   "source": [
    "def countdown(x: int):\n",
    "    print(x)\n",
    "    return countdown(x -1)\n",
    "\n",
    "countdown(5)"
   ]
  },
  {
   "cell_type": "markdown",
   "metadata": {},
   "source": [
    "Der obige Code wirft einen RecursionError und zwar maximum recursion depth exceeded. \\\n",
    "Das bedeutet, dass wir das von Python festgelegte maximum für Rekursionsaufrufe erreicht haben. \\\n",
    "Um das zu verhindern brauchen wir eine Abbruchbedingung oder einen base case. Der Base Case sollte immer näher erreicht werden in jedem rekursiven aufruf. Es gibt nicht immer einen Base Case, sondern es können auch verschiedene Funktionieren. \n",
    "\n",
    "Hier unser countdown mit dem base case"
   ]
  },
  {
   "cell_type": "code",
   "execution_count": null,
   "metadata": {},
   "outputs": [],
   "source": [
    "def countdown(x: int):\n",
    "    print(x)\n",
    "    # Base Case\n",
    "    if (x==1):\n",
    "        return\n",
    "    else:\n",
    "        return countdown(x-1)\n",
    "\n",
    "countdown(5)"
   ]
  },
  {
   "cell_type": "code",
   "execution_count": null,
   "metadata": {},
   "outputs": [],
   "source": [
    "\n"
   ]
  }
 ],
 "metadata": {
  "kernelspec": {
   "display_name": "Python 3",
   "language": "python",
   "name": "python3"
  },
  "language_info": {
   "codemirror_mode": {
    "name": "ipython",
    "version": 3
   },
   "file_extension": ".py",
   "mimetype": "text/x-python",
   "name": "python",
   "nbconvert_exporter": "python",
   "pygments_lexer": "ipython3",
   "version": "3.11.5"
  }
 },
 "nbformat": 4,
 "nbformat_minor": 2
}
