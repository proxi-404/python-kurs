{
 "cells": [
  {
   "cell_type": "markdown",
   "metadata": {},
   "source": [
    "#### 1. Fakultät"
   ]
  },
  {
   "cell_type": "code",
   "execution_count": null,
   "metadata": {},
   "outputs": [],
   "source": [
    "def faculty(x: int):\n",
    "    # Base Case\n",
    "    if x <=1: \n",
    "        return 1\n",
    "    else:\n",
    "        return faculty(x-1) * x  "
   ]
  },
  {
   "cell_type": "markdown",
   "metadata": {},
   "source": [
    "#### 2. Revisiting Fibonacci"
   ]
  },
  {
   "cell_type": "code",
   "execution_count": null,
   "metadata": {},
   "outputs": [],
   "source": [
    "def recursive_fib(x: int):\n",
    "    if x <=1 :\n",
    "        return x\n",
    "    else: \n",
    "        return recursive_fib(x-1) + recursive_fib(x-2)"
   ]
  },
  {
   "cell_type": "markdown",
   "metadata": {},
   "source": [
    "Da wir schon einmal die Fibonacci-Folge hatten, hier nocheinmal eine Iterative-Version:"
   ]
  },
  {
   "cell_type": "code",
   "execution_count": null,
   "metadata": {},
   "outputs": [],
   "source": [
    "def iterative_fib(x: int):\n",
    "    # set the starting variables\n",
    "    a, b = 0, 1\n",
    "    for i in range(x):\n",
    "        # b is set to a and b will be set to a+b \n",
    "        a, b = b, a+b\n",
    "    return a "
   ]
  },
  {
   "cell_type": "markdown",
   "metadata": {},
   "source": [
    "Hier könnt ihr einmal vergleichen, wie schnell lange die Iterative-Variante benötigt zur Berechnung im Vergleich zu der Rekursiven: \\\n",
    "Dazu berechnen wir einmal die ersten 30 Fibonacci-Zahlen und messen, wie lange die Berechnung benötigt. Dazu gibt es ein Package, das Timeit heißt. \\\n",
    "Keine Sorge, das kann eine Weile dauern, bis der Code fertig ausgeführt ist"
   ]
  },
  {
   "cell_type": "code",
   "execution_count": null,
   "metadata": {},
   "outputs": [],
   "source": [
    "import timeit\n",
    "\n",
    "t1 = timeit.Timer(\"for i in range(40): iterative_fib(i)\", \"from __main__ import iterative_fib\")\n",
    "t2 = timeit.Timer(\"for i in range(40): recursive_fib(i)\", \"from __main__ import recursive_fib\")\n",
    "\n",
    "print(f\"The iterative fibonacci took: {t1.timeit(number=1)} seconds\")\n",
    "print(f\"The recursive fibonacci took: {t2.timeit(number=1)} seconds\")\n"
   ]
  },
  {
   "cell_type": "code",
   "execution_count": null,
   "metadata": {},
   "outputs": [],
   "source": []
  }
 ],
 "metadata": {
  "kernelspec": {
   "display_name": "Python 3",
   "language": "python",
   "name": "python3"
  },
  "language_info": {
   "codemirror_mode": {
    "name": "ipython",
    "version": 3
   },
   "file_extension": ".py",
   "mimetype": "text/x-python",
   "name": "python",
   "nbconvert_exporter": "python",
   "pygments_lexer": "ipython3",
   "version": "3.11.5"
  }
 },
 "nbformat": 4,
 "nbformat_minor": 2
}
