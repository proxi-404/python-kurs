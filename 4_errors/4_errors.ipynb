{
 "cells": [
  {
   "cell_type": "markdown",
   "metadata": {},
   "source": [
    "# Fehler\n",
    "Jeder Programmierer macht beim Programmieren Fehler. Dabei unterscheidet man mehrere Klassen von Fehlern:\n",
    "### Syntaxfehler\n",
    "Eine für Python-Code vorgeschriebene formale Regel wurde nicht eingehalten. Meist fehlt z.B. einfach nur ein Doppelpunkt oder eine Klammer. Diese Fehler führen dazu, dass das Programm gar nicht erst ausgeführt wird. In der Regel zeigt ein Präcompiler an, wo ein Fehler liegt oder liegen könnte."
   ]
  },
  {
   "cell_type": "code",
   "execution_count": null,
   "metadata": {},
   "outputs": [],
   "source": [
    "a = 5\n",
    "while a<10\n",
    "    a += 1\n",
    "print(a)"
   ]
  },
  {
   "cell_type": "markdown",
   "metadata": {},
   "source": [
    "### Laufzeitfehler\n",
    "Laufzeitfehler führen während der Programmausführung zu einem Absturz. Die häufigsten Fehlertypen sind:\n",
    "* Verwendung von Objektverweisen oder Variablen, die noch gar nicht zugewiesen wurden\n",
    "* fehlende Dateien, aus denen das Programm Daten beziehen soll.\n",
    "* Versuch, Datensätze über das Ende (einer Liste oder einer Datei) hinaus zu lesen.\n",
    "* mathematisch nicht definierte Operationen wie Division durch Null oder Logarithmen aus negativen Zahlen\n",
    "* Stack Overflow, dieser tritt typischerweise ein, wenn eine rekursive Funktion zu oft verschachtelt aufgerufen wird; meist liegt eine endlose Rekursion vor, zu der es aufgrund eines Logikfehlers kommt."
   ]
  },
  {
   "cell_type": "code",
   "execution_count": null,
   "metadata": {},
   "outputs": [],
   "source": [
    "1/0"
   ]
  },
  {
   "cell_type": "markdown",
   "metadata": {},
   "source": [
    "## logische Fehler\n",
    "Logische Fehler sind Fehler in der logischen Struktur des Programms, die zwar zu einem lauffähigen Programm führen, das aber ein falsches Ergebnis produziert. Sie sind oft deutlich schwerer zu beheben und müssen auch erst einmal erkannt werden."
   ]
  },
  {
   "cell_type": "markdown",
   "metadata": {},
   "source": [
    "## die häufigsten (Python spezifischen) Fehler (Zusammenfassung bisheriger Erkenntnisse)\n",
    "* *deep* und *shallow* Kopien bei Listen\n",
    "* Indexfehler (Indizes starten bei 0 und nicht 1, letzter Index exclusive)\n",
    "* Prüfen auf exakte Werte bei (rundungsfehlerbehafteten) Fließkommaoperationen\n",
    "* Gültigkeitsbereiche lokaler und globaler Variablen\n",
    "## Ergänzungen: Quizz - was läuft hier falsch?\n",
    "Es sollen alle natürlichen Zahlen zwischen 0 und 10 ausgegeben werden:"
   ]
  },
  {
   "cell_type": "code",
   "execution_count": null,
   "metadata": {},
   "outputs": [],
   "source": [
    "l = range(10)\n",
    "print(l)"
   ]
  },
  {
   "cell_type": "markdown",
   "metadata": {},
   "source": [
    "Eine Funktion gibt eine Konstante zurück. Diese soll ausgegeben werden:"
   ]
  },
  {
   "cell_type": "code",
   "execution_count": null,
   "metadata": {},
   "outputs": [],
   "source": [
    "def const():\n",
    "    return 42\n",
    "\n",
    "x = const\n",
    "print(x)"
   ]
  },
  {
   "cell_type": "markdown",
   "metadata": {},
   "source": [
    "Funktion foo soll eine Zahl mit 42 multiplizieren und Funktion bar soll das Ergebnis quadrieren:"
   ]
  },
  {
   "cell_type": "code",
   "execution_count": null,
   "metadata": {},
   "outputs": [],
   "source": [
    "def foo(x):\n",
    "    return x*42\n",
    "\n",
    "def bar(x):\n",
    "    return x**2\n",
    "\n",
    "bar(foo(\"5\"))"
   ]
  },
  {
   "cell_type": "markdown",
   "metadata": {},
   "source": [
    "**Preisfrage:** Welches Ergebnis wird hier erscheinen???"
   ]
  },
  {
   "cell_type": "code",
   "execution_count": null,
   "metadata": {},
   "outputs": [],
   "source": [
    "def foo(x=[1,2,3]):\n",
    "    x.append(x[-1]+1)\n",
    "    print(x)\n",
    "\n",
    "foo([0, 0, 0])\n",
    "foo([0, 0, 0])\n",
    "foo([0, 0, 0])\n",
    "foo()\n",
    "foo()\n",
    "foo()\n",
    "foo([0, 0, 0])"
   ]
  },
  {
   "cell_type": "code",
   "execution_count": null,
   "metadata": {},
   "outputs": [],
   "source": [
    "def foo(x=[1,2,3]):\n",
    "    x.append(x[-1]+1)\n",
    "    print(\"printing x from function\", x)\n",
    "\n",
    "print(\"printing x from main\", x)\n",
    "foo([0, 0, 0])\n",
    "foo([0, 0, 0])\n",
    "foo([0, 0, 0])\n",
    "print(\"printing x from main\", x)\n",
    "foo()\n",
    "foo()\n",
    "foo()\n",
    "foo([0, 0, 0])\n",
    "print(\"printing x from main\", x)"
   ]
  },
  {
   "cell_type": "markdown",
   "metadata": {},
   "source": [
    "\n",
    "## Fehlerbehandlung\n",
    "Am einfachsten wäre es, keine Fehler zu machen. Allerdings ist dies spätestens dann nicht mehr möglich, wenn Dateien eingelesen werden sollen, die vielleicht nicht existieren oder Nutzereingaben weiterverarbeitet werden sollen, die nicht im korrekten Stil oder nach den vereinbarten Konventionen verfasst sind. Um unnötig viele Programmabstürze zu vermeiden, bietet Python Möglichkeiten mit Fehlern \"zu leben\".\n",
    "\n",
    "Ein einfaches Beispiel wäre ein Programm, das den Logarithmus aus einer übergebenen Zahl zurückgibt."
   ]
  },
  {
   "cell_type": "code",
   "execution_count": null,
   "metadata": {},
   "outputs": [],
   "source": [
    "from math import log\n",
    "\n",
    "a = float(input(\"type in your number\"))\n",
    "print(log(a))"
   ]
  },
  {
   "cell_type": "markdown",
   "metadata": {},
   "source": [
    "Zwei Dinge können hierbei schieflaufen: Der Nutzer gibt eine negative Zahl ein. Dies ließe sich noch leicht mit einer Selektion abfangen. Schlimmer wäre es, wenn der Nutzer keine Zahl, sondern z.B. eine Buchstabenfolge eingibt. Damit würde er das Programm zum Absturz bringen.\n",
    "\n",
    "Python bietet folgende Befehle zur Fehlerbehandlung an: \\\n",
    "`try` versucht eine Block auszuführen \\\n",
    "`except` wertet den Fehlerfall aus \\\n",
    "`else` wird ausgeführt, falls kein Fehler auftritt \\\n",
    "`finally` wird immer ausgeführt \n",
    "Das folgende Beispiel soll dies demonstrieren:"
   ]
  },
  {
   "cell_type": "code",
   "execution_count": null,
   "metadata": {},
   "outputs": [],
   "source": [
    "from math import log\n",
    "again = True\n",
    "while (again):\n",
    "    a = input(\"type in your number\")\n",
    "    try:\n",
    "        a = log(float(a))\n",
    "    except:\n",
    "        print(\"only positive numbers allowed, use a dot for float numbers (no comma)\")\n",
    "    else:\n",
    "        print(a)\n",
    "    finally:\n",
    "        tmp = input(\"do you want to enter a number again (y) or terminate (n)?\")\n",
    "        again = tmp == \"y\"\n"
   ]
  },
  {
   "cell_type": "markdown",
   "metadata": {},
   "source": [
    "Man kann auch spezifischer auf bestimmte Fehlerklassen abfragen. Eine vollständige Liste gibt es hier: [vollständige Liste](https://docs.python.org/3/library/exceptions.html)"
   ]
  },
  {
   "cell_type": "code",
   "execution_count": null,
   "metadata": {},
   "outputs": [],
   "source": [
    "from math import log\n",
    "again = True\n",
    "while (again):\n",
    "    a = input(\"type in your number\")\n",
    "    try:\n",
    "        a = log(float(a))\n",
    "    except ArithmeticError:\n",
    "        print(\"only positive numbers allowed\")\n",
    "    except ValueError:\n",
    "        print(\"input must be a valid number, use a dot for float numbers (no comma)\")\n",
    "    else:\n",
    "        print(a)\n",
    "    finally:\n",
    "        tmp = input(\"do you want to enter a number again (y) or terminate (n)?\")\n",
    "        again = tmp == \"y\""
   ]
  },
  {
   "cell_type": "markdown",
   "metadata": {},
   "source": [
    "Es ist auch möglich selbst Fehler zu werfen:"
   ]
  },
  {
   "cell_type": "code",
   "execution_count": null,
   "metadata": {},
   "outputs": [],
   "source": [
    "tmp = input(\"your favourite number\")\n",
    "try:\n",
    "    tmp = float(tmp)\n",
    "except:\n",
    "    raise ValueError(\"number required\")\n",
    "if (tmp != 42):\n",
    "    raise Exception(\"your favourite number should be 42!\")"
   ]
  }
 ],
 "metadata": {
  "kernelspec": {
   "display_name": "Python 3",
   "language": "python",
   "name": "python3"
  },
  "language_info": {
   "codemirror_mode": {
    "name": "ipython",
    "version": 3
   },
   "file_extension": ".py",
   "mimetype": "text/x-python",
   "name": "python",
   "nbconvert_exporter": "python",
   "pygments_lexer": "ipython3",
   "version": "3.10.12"
  },
  "orig_nbformat": 4
 },
 "nbformat": 4,
 "nbformat_minor": 2
}
