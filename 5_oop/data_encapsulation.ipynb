{
 "cells": [
  {
   "cell_type": "markdown",
   "metadata": {},
   "source": [
    "# Datenkapselung\n",
    "Ein weiteres starkes Konzept der OOP ist die Datenkapselung. Diese gewährleistet, dass Programme nur so ablaufen, wie sie gedacht sind. Als einfaches Beispiel dient die Würfel Klasse aus den Übungsaufgaben. Ein einfaches Spiel soll wie folgt lauten: Zwei Spieler würfeln abwechselnd. Wer als erstes eine 6 hat, hat gewonnen."
   ]
  },
  {
   "cell_type": "code",
   "execution_count": 2,
   "metadata": {},
   "outputs": [],
   "source": [
    "from random import randint\n",
    "\n",
    "class Dice:\n",
    "    def __init__(self):\n",
    "        self.number = randint(1, 6)\n",
    "    \n",
    "    def cast(self):\n",
    "        self.number = randint(1, 6)"
   ]
  },
  {
   "cell_type": "code",
   "execution_count": 6,
   "metadata": {},
   "outputs": [
    {
     "name": "stdout",
     "output_type": "stream",
     "text": [
      "1 won\n"
     ]
    }
   ],
   "source": [
    "w1 = Dice()\n",
    "w2 = Dice()\n",
    "while True:\n",
    "    w1.cast()\n",
    "    if w1.number == 6:\n",
    "        print(\"1 won\")\n",
    "        break\n",
    "    w2.number = 6\n",
    "    if w2.number == 6:\n",
    "        print(\"2 won\")\n",
    "        break\n"
   ]
  },
  {
   "cell_type": "markdown",
   "metadata": {},
   "source": [
    "Wo liegt das Problem? Offensichtlich sollte man die Augenzahl eines Würfels nicht beliebig setzen können. Daher kennzeichnet man Variablen, die nur innerhalb der Klasse verwendet werden sollen mit einem Unterstrich als erstem Zeichen (protected). Dies ist eine allerdings nur eine Konvention, an die sich nicht zwangsläufig jeder halten muss. Zwei Unterstriche (private) sind schon etwas restriktiver, allerdings auch nicht ganz sicher:"
   ]
  },
  {
   "cell_type": "code",
   "execution_count": 10,
   "metadata": {},
   "outputs": [
    {
     "name": "stdout",
     "output_type": "stream",
     "text": [
      "{'_number1': 6, '_Two_dices__number2': 6}\n"
     ]
    }
   ],
   "source": [
    "from random import randint\n",
    "\n",
    "class Two_dices:\n",
    "    def __init__(self):\n",
    "        self._number1 = randint(1, 6)\n",
    "        self.__number2 = randint(1, 6)\n",
    "    \n",
    "    def cast(self):\n",
    "        self._number1 = randint(1, 6)\n",
    "        self.__number2 = randint(1, 6)\n",
    "\n",
    "    def get_number1(self):\n",
    "        return self._number1\n",
    "    \n",
    "    def get_number2(self):\n",
    "        return self.__number2\n",
    "    \n",
    "w = Two_dices()\n",
    "print(w.__dict__)"
   ]
  },
  {
   "cell_type": "markdown",
   "metadata": {},
   "source": [
    "Wie man sieht taucht die mit zwei Unterstrichen geschütze Variable nun unter einem neuen Namen auf, um sie schwieriger zugänglich zu machen. Echte Sicherheit liefert dies aber trotzdem nicht.\n",
    "\n",
    "## Aufgabe\n",
    "Gehe alle (oder einige) der bisherigen Klassen durch und ändere dabei so viele Variablen wie möglich auf *private*. Natürlich müssen dann sogenannte *getter* und ggf. auch *setter* Funktionen ergänzt werden. (Gewissermaßen sind die Funktionen einzahlen und auszahlen auch nichts anderes als getter und setter.)"
   ]
  },
  {
   "cell_type": "markdown",
   "metadata": {},
   "source": []
  }
 ],
 "metadata": {
  "kernelspec": {
   "display_name": "Python 3",
   "language": "python",
   "name": "python3"
  },
  "language_info": {
   "codemirror_mode": {
    "name": "ipython",
    "version": 3
   },
   "file_extension": ".py",
   "mimetype": "text/x-python",
   "name": "python",
   "nbconvert_exporter": "python",
   "pygments_lexer": "ipython3",
   "version": "3.10.12"
  }
 },
 "nbformat": 4,
 "nbformat_minor": 2
}
