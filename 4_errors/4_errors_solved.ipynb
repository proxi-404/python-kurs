{
 "cells": [
  {
   "cell_type": "markdown",
   "metadata": {},
   "source": [
    "# Fehlerbehandlung Lösungen"
   ]
  },
  {
   "cell_type": "markdown",
   "metadata": {},
   "source": [
    "### 1 Dateien verwalten"
   ]
  },
  {
   "cell_type": "code",
   "execution_count": 6,
   "metadata": {},
   "outputs": [
    {
     "name": "stdout",
     "output_type": "stream",
     "text": [
      "file not found\n"
     ]
    }
   ],
   "source": [
    "try:\n",
    "    file = open(\"../files/input.txt\")\n",
    "    content = file.read()\n",
    "    file.close()\n",
    "except FileNotFoundError:\n",
    "    print(\"file not found\")\n",
    "else:\n",
    "    print(\"something unexpected happened while opening the file\")\n",
    "\n",
    "file = open(\"../files/output.txt\", \"a\")\n",
    "file.write(\"asdf\")\n",
    "file.close()\n",
    "\n"
   ]
  },
  {
   "cell_type": "markdown",
   "metadata": {},
   "source": [
    "### Taschenrechner"
   ]
  },
  {
   "cell_type": "code",
   "execution_count": 53,
   "metadata": {},
   "outputs": [
    {
     "name": "stdout",
     "output_type": "stream",
     "text": [
      "123.23 = 123.23\n"
     ]
    }
   ],
   "source": [
    "import doctest\n",
    "\n",
    "def check_input(task):\n",
    "    \"\"\"\n",
    "    verifies that input is valid, returns True if so raises Value Error if not\n",
    "\n",
    "    >>> check_input(\"1234.0 - 321.234\")\n",
    "    True\n",
    "\n",
    "    >>> check_input(\"-1234 + 345 - 123 / 12 * 456-12+23/2/2/2/1\")\n",
    "    True\n",
    "\n",
    "    >>> check_input(\"-1234 + 345\")\n",
    "    True\n",
    "\n",
    "    >>> check_input(\"+1234 + 345\")\n",
    "    True\n",
    "\n",
    "    >>> check_input(\"a\") # doctest: +IGNORE_EXCEPTION_DETAIL\n",
    "    Traceback (most recent call last):\n",
    "    ValueError\n",
    "\n",
    "    >>> check_input(\"1..2 - 3\") # doctest: +IGNORE_EXCEPTION_DETAIL\n",
    "    Traceback (most recent call last):\n",
    "    ValueError\n",
    "\n",
    "    >>> check_input(\"/2 - 3\") # doctest: +IGNORE_EXCEPTION_DETAIL\n",
    "    Traceback (most recent call last):\n",
    "    ValueError\n",
    "\n",
    "    \"\"\"\n",
    "    operators = [\".\", \"/\", \"*\", \"(\", \")\", \"+\", \"-\"]\n",
    "    numbers = [str(i) for i in range(10)]\n",
    "    allowed_symbols = operators + numbers + [\" \"]\n",
    "    if task[0] in operators[:-2]:\n",
    "        raise ValueError(f\"formula must not start with an operator\")\n",
    "    last = None\n",
    "    for char in task:\n",
    "        if char not in allowed_symbols:\n",
    "            raise ValueError(f\"found illegal character: {char}\") \n",
    "        if char in operators and last in operators:\n",
    "            raise ValueError(f\"two operators cannot follow on each other\")\n",
    "        last = char\n",
    "    if last in operators:\n",
    "        raise ValueError(f\"formula must not end with an operator\")\n",
    "    return True\n",
    "\n",
    "if __name__ == \"__main__\":\n",
    "    doctest.testmod()\n",
    "    formula = input(\"type in your formula\")\n",
    "    try:\n",
    "        # check_input(formula)\n",
    "        print(formula + \" = \" + str(eval(formula)))\n",
    "    except Exception as e:\n",
    "        print(e)"
   ]
  },
  {
   "cell_type": "code",
   "execution_count": null,
   "metadata": {},
   "outputs": [],
   "source": []
  }
 ],
 "metadata": {
  "kernelspec": {
   "display_name": "Python 3",
   "language": "python",
   "name": "python3"
  },
  "language_info": {
   "codemirror_mode": {
    "name": "ipython",
    "version": 3
   },
   "file_extension": ".py",
   "mimetype": "text/x-python",
   "name": "python",
   "nbconvert_exporter": "python",
   "pygments_lexer": "ipython3",
   "version": "3.10.12"
  },
  "orig_nbformat": 4
 },
 "nbformat": 4,
 "nbformat_minor": 2
}
