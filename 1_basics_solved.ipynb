{
 "cells": [
  {
   "cell_type": "markdown",
   "metadata": {},
   "source": [
    "# Lösungen zu 1_basics"
   ]
  },
  {
   "cell_type": "markdown",
   "metadata": {},
   "source": [
    "1. Betrag"
   ]
  },
  {
   "cell_type": "code",
   "execution_count": 1,
   "metadata": {},
   "outputs": [
    {
     "name": "stdout",
     "output_type": "stream",
     "text": [
      "1\n",
      "0\n",
      "1\n"
     ]
    }
   ],
   "source": [
    "def abs(x):\n",
    "    if (x >= 0):\n",
    "        return x\n",
    "    else:\n",
    "        return -x\n",
    "\n",
    "print(abs(-1))\n",
    "print(abs(0))\n",
    "print(abs(1))"
   ]
  },
  {
   "cell_type": "markdown",
   "metadata": {},
   "source": [
    "2. Maximum"
   ]
  },
  {
   "cell_type": "code",
   "execution_count": 2,
   "metadata": {},
   "outputs": [
    {
     "name": "stdout",
     "output_type": "stream",
     "text": [
      "4\n",
      "-3.1\n"
     ]
    }
   ],
   "source": [
    "def maximum(x, y):\n",
    "    if (x > y):\n",
    "        return x\n",
    "    else:\n",
    "         return y\n",
    "\n",
    "print(maximum(2, 4))\n",
    "print(maximum(-3.1, -4.2))"
   ]
  },
  {
   "cell_type": "markdown",
   "metadata": {},
   "source": [
    "3."
   ]
  },
  {
   "cell_type": "code",
   "execution_count": 3,
   "metadata": {},
   "outputs": [],
   "source": [
    "def sum_seven(lower, upper):    \n",
    "    i = lower\n",
    "    result = 0\n",
    "    while (i <= upper):\n",
    "        if (i % 7 == 0):\n",
    "            result += 7\n",
    "        i += 1\n",
    "    return result"
   ]
  },
  {
   "cell_type": "markdown",
   "metadata": {},
   "source": [
    "4. Euklid"
   ]
  },
  {
   "cell_type": "code",
   "execution_count": 4,
   "metadata": {},
   "outputs": [],
   "source": [
    "def gcd(a, b):\n",
    "    while (b != 0):\n",
    "        h = a % b\n",
    "        a = b\n",
    "        b = h\n",
    "    return a"
   ]
  },
  {
   "cell_type": "markdown",
   "metadata": {},
   "source": [
    "5. Collatz"
   ]
  },
  {
   "cell_type": "code",
   "execution_count": 7,
   "metadata": {},
   "outputs": [
    {
     "name": "stdout",
     "output_type": "stream",
     "text": [
      "19\n",
      "58\n",
      "29.0\n",
      "88.0\n",
      "44.0\n",
      "22.0\n",
      "11.0\n",
      "34.0\n",
      "17.0\n",
      "52.0\n",
      "26.0\n",
      "13.0\n",
      "40.0\n",
      "20.0\n",
      "10.0\n",
      "5.0\n",
      "16.0\n",
      "8.0\n",
      "4.0\n",
      "2.0\n",
      "1.0\n"
     ]
    }
   ],
   "source": [
    "def collatz(n):\n",
    "    last_0 = 0 # last sequence value\n",
    "    last_1 = 0 # second last sequence value\n",
    "    last_2 = 0 # third last sequence value\n",
    "    while (last_2 != 4 or last_1 != 2 or last_0 != 1):\n",
    "        print(n)\n",
    "        if (n % 2 == 0):\n",
    "            n = n/2\n",
    "        else:\n",
    "             n = 3*n +1\n",
    "        last_2 = last_1\n",
    "        last_1 = last_0\n",
    "        last_0 = n\n",
    "    print(n)\n",
    "collatz(19)"
   ]
  },
  {
   "cell_type": "code",
   "execution_count": null,
   "metadata": {},
   "outputs": [],
   "source": []
  }
 ],
 "metadata": {
  "kernelspec": {
   "display_name": "Python 3",
   "language": "python",
   "name": "python3"
  },
  "language_info": {
   "codemirror_mode": {
    "name": "ipython",
    "version": 3
   },
   "file_extension": ".py",
   "mimetype": "text/x-python",
   "name": "python",
   "nbconvert_exporter": "python",
   "pygments_lexer": "ipython3",
   "version": "3.10.12"
  },
  "orig_nbformat": 4
 },
 "nbformat": 4,
 "nbformat_minor": 2
}
