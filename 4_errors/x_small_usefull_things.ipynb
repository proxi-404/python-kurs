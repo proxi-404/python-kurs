{
 "cells": [
  {
   "cell_type": "markdown",
   "metadata": {},
   "source": [
    "# Kleine nützliche Dinge\n",
    "### enumerate\n",
    "Benötigt man sowohl alle Elemente eines iterables einzeln und auch deren Position, so bietet sich ein enumerate an."
   ]
  },
  {
   "cell_type": "code",
   "execution_count": 5,
   "metadata": {},
   "outputs": [
    {
     "name": "stdout",
     "output_type": "stream",
     "text": [
      "7 z\n",
      "8 y\n",
      "9 x\n",
      "10 a\n",
      "11 b\n",
      "12 c\n",
      "13 d\n",
      "\n",
      "3\n"
     ]
    }
   ],
   "source": [
    "l = [\"z\", \"y\", \"x\", \"a\", \"b\", \"c\", \"d\"]\n",
    "for index, element in enumerate(l, start=7):\n",
    "    print(index, element)\n",
    "\n",
    "def minimum_index(L):\n",
    "    minimum_index = 0\n",
    "    minimum = L[0]\n",
    "    for index, element in enumerate(L):\n",
    "        if element < minimum:\n",
    "            minimum = element\n",
    "            minimum_index = index\n",
    "    return minimum_index\n",
    "\n",
    "print()\n",
    "print(minimum_index(l))"
   ]
  },
  {
   "cell_type": "markdown",
   "metadata": {},
   "source": [
    "### Zahleneingabe\n",
    "Python kann Zahlen zu beliebigen Basen und auch als wissenschaftliche Notation einlesen:"
   ]
  },
  {
   "cell_type": "code",
   "execution_count": 10,
   "metadata": {},
   "outputs": [
    {
     "name": "stdout",
     "output_type": "stream",
     "text": [
      "12300000000.0\n",
      "171\n",
      "27\n"
     ]
    }
   ],
   "source": [
    "a = 1.23e10\n",
    "print(a)\n",
    "b = 0xAB # hex\n",
    "print(b)\n",
    "c = int(\"1A\", 17) # base 17\n",
    "print(c)"
   ]
  },
  {
   "cell_type": "markdown",
   "metadata": {},
   "source": [
    "### selbstdokumentierende Ausdrücke in f-strings\n",
    "Zum Debuggen möchte man manchmal immer paarweise den Variablennamen und den dazugehörigen Wert ausgeben. Dies geht mit Hilfe von folgender Syntax sehr bequem:"
   ]
  },
  {
   "cell_type": "code",
   "execution_count": 28,
   "metadata": {},
   "outputs": [
    {
     "name": "stdout",
     "output_type": "stream",
     "text": [
      "var1=42, var2='monty', var3='python'\n"
     ]
    }
   ],
   "source": [
    "var1 = 42\n",
    "var2 = \"monty\"\n",
    "var3 = \"python\"\n",
    "print(f\"{var1=}, {var2=}, {var3=}\")"
   ]
  },
  {
   "cell_type": "markdown",
   "metadata": {},
   "source": [
    "### Sep und File Argument von print\n",
    "Bei print-Befehlen können zusätzlich ein Trennzeichen (sep) und ein Dateiobjekt (file) angegeben werden."
   ]
  },
  {
   "cell_type": "code",
   "execution_count": 34,
   "metadata": {},
   "outputs": [
    {
     "name": "stdout",
     "output_type": "stream",
     "text": [
      "asdf|jklö\n",
      "0-1-2-3-4-5-6-7-8-9\n"
     ]
    }
   ],
   "source": [
    "print(\"asdf\", \"jklö\", sep=\"|\")\n",
    "l = [i for i in range(10)]\n",
    "print(*l, sep=\"-\")\n",
    "print(*l,sep=\"-\", file=open(\"../files/print_file.txt\", \"w\"))"
   ]
  },
  {
   "cell_type": "markdown",
   "metadata": {},
   "source": [
    "### anonyme Funktionen und Funktionen höherer Ordnung \n",
    "Mit der Syntax `lambda parameter1, parameter2: return value` können Funktionen ohne Namen für eine einmalige Verwendung definiert werden. Außerdem existieren Funktionen, die selbst wieder eine Funktion als Argument erwarten, die sie dann auf alle Argumente anwenden.\\\n",
    "`filter(func, iterable)` gibt alle Elemente des *iterable* zurück, für den die Funktion *func* *True* zurückgibt.\\\n",
    "`map(func, iterable)` wendet auf alle Elemente die Funktion *func* an\n"
   ]
  },
  {
   "cell_type": "code",
   "execution_count": 21,
   "metadata": {},
   "outputs": [
    {
     "name": "stdout",
     "output_type": "stream",
     "text": [
      "<filter object at 0x7f06927e7fd0>\n",
      "[0, 3, 6, 9]\n",
      "[1, 5]\n",
      "[0, 1, 4, 9, 16, 25, 36, 49, 64, 81]\n",
      "[0, 1, 256, 2187, 4096, 3125, 1296, 343, 64, 9]\n"
     ]
    }
   ],
   "source": [
    "l1 = list(range(10))\n",
    "l2 = [\"a\", 1, \"n\", 5, 2.2]\n",
    "l3 = list(range(10,0,-1))\n",
    "l1_mod3 = filter(lambda x: x % 3 == 0, l1)\n",
    "print(l1_mod3)\n",
    "print(list(l1_mod3))\n",
    "\n",
    "print(list(filter(lambda x: type(x)==int, l2)))\n",
    "\n",
    "print(list(map(lambda x: x**2, l1)))\n",
    "\n",
    "print(list(map(lambda x, y: x**y, l1, l3))) # map with multiple lists and multiple parameters"
   ]
  }
 ],
 "metadata": {
  "kernelspec": {
   "display_name": "Python 3",
   "language": "python",
   "name": "python3"
  },
  "language_info": {
   "codemirror_mode": {
    "name": "ipython",
    "version": 3
   },
   "file_extension": ".py",
   "mimetype": "text/x-python",
   "name": "python",
   "nbconvert_exporter": "python",
   "pygments_lexer": "ipython3",
   "version": "3.10.12"
  },
  "orig_nbformat": 4
 },
 "nbformat": 4,
 "nbformat_minor": 2
}
