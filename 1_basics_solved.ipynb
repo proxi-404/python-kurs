{
 "cells": [
  {
   "cell_type": "markdown",
   "metadata": {},
   "source": [
    "# Lösungen zu 1_basics"
   ]
  },
  {
   "cell_type": "markdown",
   "metadata": {},
   "source": [
    "1. Betrag"
   ]
  },
  {
   "cell_type": "code",
   "execution_count": 19,
   "metadata": {},
   "outputs": [],
   "source": [
    "def abs(x):\n",
    "    if (x >= 0):\n",
    "        return x\n",
    "    else:\n",
    "        return -x"
   ]
  },
  {
   "cell_type": "code",
   "execution_count": 4,
   "metadata": {},
   "outputs": [],
   "source": [
    "assert abs(-3.4) == 3.4\n",
    "assert abs(0) == 0\n",
    "assert abs(2.2) == 2.2"
   ]
  },
  {
   "cell_type": "markdown",
   "metadata": {},
   "source": [
    "2. Maximum"
   ]
  },
  {
   "cell_type": "code",
   "execution_count": 6,
   "metadata": {},
   "outputs": [],
   "source": [
    "def maximum(x, y):\n",
    "    if (x > y):\n",
    "        return x\n",
    "    else:\n",
    "         return y"
   ]
  },
  {
   "cell_type": "code",
   "execution_count": 7,
   "metadata": {},
   "outputs": [],
   "source": [
    "assert (maximum(2, 4) == 4)\n",
    "assert (maximum(-3.1, -4.2) == -3.1)\n",
    "assert (maximum(0, 0) == 0)"
   ]
  },
  {
   "cell_type": "markdown",
   "metadata": {},
   "source": [
    "3."
   ]
  },
  {
   "cell_type": "code",
   "execution_count": 12,
   "metadata": {},
   "outputs": [],
   "source": [
    "def sum_seven(lower, upper):    \n",
    "    i = lower\n",
    "    result = 0\n",
    "    while (i <= upper):\n",
    "        if (i % 7 == 0):\n",
    "            result += 7\n",
    "        i += 1\n",
    "    return result\n"
   ]
  },
  {
   "cell_type": "code",
   "execution_count": 11,
   "metadata": {},
   "outputs": [],
   "source": [
    "assert (sum_seven(1, 10) == 7)\n",
    "assert (sum_seven(-10, 10) == 21)\n",
    "assert (sum_seven(7, 14) == 14)\n",
    "assert (sum_seven(100, 1000) == 896)"
   ]
  },
  {
   "cell_type": "markdown",
   "metadata": {},
   "source": [
    "4. Euklid"
   ]
  },
  {
   "cell_type": "code",
   "execution_count": 14,
   "metadata": {},
   "outputs": [],
   "source": [
    "def gcd(a, b):\n",
    "    while (b != 0):\n",
    "        h = a % b\n",
    "        a = b\n",
    "        b = h\n",
    "    return a"
   ]
  },
  {
   "cell_type": "code",
   "execution_count": 17,
   "metadata": {},
   "outputs": [],
   "source": [
    "assert (gcd(10, 20) == 10)\n",
    "assert (gcd(20, 10) == 10)\n",
    "assert (gcd(-60, 60) == 60)\n",
    "assert (gcd(-30, -20) == -10)"
   ]
  },
  {
   "cell_type": "markdown",
   "metadata": {},
   "source": [
    "5. Collatz"
   ]
  },
  {
   "cell_type": "code",
   "execution_count": 1,
   "metadata": {},
   "outputs": [
    {
     "name": "stdout",
     "output_type": "stream",
     "text": [
      "19\n",
      "58\n",
      "29\n",
      "88\n",
      "44\n",
      "22\n",
      "11\n",
      "34\n",
      "17\n",
      "52\n",
      "26\n",
      "13\n",
      "40\n",
      "20\n",
      "10\n",
      "5\n",
      "16\n",
      "8\n",
      "4\n",
      "2\n",
      "1\n"
     ]
    }
   ],
   "source": [
    "def collatz(n):\n",
    "    last_0 = 0 # last sequence value\n",
    "    last_1 = 0 # second last sequence value\n",
    "    last_2 = 0 # third last sequence value\n",
    "    while (last_2 != 4 or last_1 != 2 or last_0 != 1):\n",
    "        print(round(n))\n",
    "        if (n % 2 == 0):\n",
    "            n = n/2\n",
    "        else:\n",
    "             n = 3*n +1\n",
    "        last_2 = last_1\n",
    "        last_1 = last_0\n",
    "        last_0 = n\n",
    "    print(round(n))\n",
    "collatz(19)"
   ]
  },
  {
   "cell_type": "markdown",
   "metadata": {},
   "source": [
    "6 Fibonacci"
   ]
  },
  {
   "cell_type": "code",
   "execution_count": 36,
   "metadata": {},
   "outputs": [],
   "source": [
    "def fib(n):\n",
    "    if (n == 0): return 0\n",
    "    elif (n == 1): return 1\n",
    "    else:\n",
    "        result = 0\n",
    "        i = 2\n",
    "        last = 1\n",
    "        penultimate = 0\n",
    "        while (i <= n):\n",
    "            result = last + penultimate\n",
    "            penultimate = last\n",
    "            last = result\n",
    "            i += 1\n",
    "    return result"
   ]
  },
  {
   "cell_type": "code",
   "execution_count": 35,
   "metadata": {},
   "outputs": [],
   "source": [
    "assert(fib(0) == 0)\n",
    "assert(fib(1) == 1)\n",
    "assert(fib(10) == 55)\n",
    "assert(fib(30) == 832040)"
   ]
  },
  {
   "cell_type": "markdown",
   "metadata": {},
   "source": [
    "7 Intervallhalbierung"
   ]
  },
  {
   "cell_type": "code",
   "execution_count": 3,
   "metadata": {},
   "outputs": [
    {
     "name": "stdout",
     "output_type": "stream",
     "text": [
      "-0.7034912109375\n"
     ]
    }
   ],
   "source": [
    "import math\n",
    "\n",
    "def my_func(x):\n",
    "    return -x**2 + math.exp(x)\n",
    "\n",
    "def find_zero(func, lower, upper, tolerance):\n",
    "    assert (func(lower) * func(upper) <= 0), \"one the function value of the lower and upper border should have different signs\"\n",
    "    if (func(lower) == 0): return lower\n",
    "    if (func(upper) == 0): return upper\n",
    "    mid = 0.5* (lower + upper)\n",
    "    while(abs(func(mid)) > tolerance):\n",
    "        mid = 0.5* (lower + upper)\n",
    "        if (func(mid) > 0):\n",
    "            upper = mid\n",
    "        else:\n",
    "            lower = mid\n",
    "    return mid\n",
    "                \n",
    "print(find_zero(my_func, -1, 0, 0.0001))"
   ]
  },
  {
   "cell_type": "code",
   "execution_count": 5,
   "metadata": {},
   "outputs": [],
   "source": [
    "assert find_zero(my_func, -1, 0, 0.01) < -0.69\n",
    "assert find_zero(my_func, -1, 0, 0.01) > -0.713"
   ]
  },
  {
   "cell_type": "code",
   "execution_count": null,
   "metadata": {},
   "outputs": [],
   "source": []
  }
 ],
 "metadata": {
  "kernelspec": {
   "display_name": "Python 3",
   "language": "python",
   "name": "python3"
  },
  "language_info": {
   "codemirror_mode": {
    "name": "ipython",
    "version": 3
   },
   "file_extension": ".py",
   "mimetype": "text/x-python",
   "name": "python",
   "nbconvert_exporter": "python",
   "pygments_lexer": "ipython3",
   "version": "3.10.12"
  },
  "orig_nbformat": 4
 },
 "nbformat": 4,
 "nbformat_minor": 2
}
