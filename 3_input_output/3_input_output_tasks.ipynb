{
 "cells": [
  {
   "cell_type": "markdown",
   "metadata": {},
   "source": [
    "# Aufgaben zu Input Output:\n",
    "### 1 Pascalsches Dreieck\n",
    "Berechne die ersten $n$ Zeilen des Pascalschen Dreiecks. Dieses enthält in der $n$-ten Zeile und $k$-ten Spalte den Wert von $\\binom{n}{k}$:\n",
    "\n",
    "$$\n",
    "\\begin{array}{rrrrrrrrrr}\n",
    "  1  \\\\\n",
    "  1 & 1 \\\\  \n",
    "  1 & 2 &  1 \\\\  \n",
    "  1 & 3 &  3 &  1 \\\\  \n",
    "  1 & 4 &  6 &  4 &  1 \\\\ \n",
    "  1 & 5 & 10 & 10 &  5 &  1 \\\\ \n",
    "  1 & 6 & 15 & 20 & 15 &  6 & 1 \\\\ \n",
    "  1 & 7 & 21 & 35 & 35 & 21 & 7 & 1 \\\\  \n",
    "  1 & 8 & 28 & 56 & 70 & 56 &28 & 8 & 1 \\\\\n",
    "  1 & 9 & 36 & 84 &126 &126 &84 &36 & 9 & 1 \\\\\n",
    "\\end{array}\n",
    "$$\n",
    "\n",
    "Die Einträge des Pascalschen Dreiecks sind durch die Binomialkoeffizienten gegeben:\n",
    "\n",
    "$$\n",
    "\\binom{n}{k}=\\frac{n\\cdot(n-1)\\cdots (n-k+1)}{1\\cdot 2\\cdots k}\n",
    "$$"
   ]
  },
  {
   "cell_type": "code",
   "execution_count": 3,
   "metadata": {},
   "outputs": [],
   "source": [
    "# your code"
   ]
  },
  {
   "cell_type": "markdown",
   "metadata": {},
   "source": [
    "### 2 Caesar-Verschlüsselung\n",
    "Bei der Caesar-Verschlüsselung wird jeder Buchstabe im Alphabet um eine feste Position $n$ verschoben. Alles was über das $z [Z]$ hinausgeht, fängt bei $a [A]$ wieder an.\n",
    "\n",
    "Lies die Datei `../files/clear_message.txt` ein und gib testweise deren Inhalt aus. Speichere deren Inhalt mit einer Caesar-Verschlüsselung verschlüsselt in die Datei `../files/encrypted.txt`. Schreibe dazu eine Funktion `caesar_encrypt`, die als Parameter den Dateinamen der Klartextdatei, den Dateinahmen der Zieldatei und die Verschiebung enthält. \n",
    "\n",
    "Tipps:\n",
    "* Da man auf Strings keine Zahlen addieren kann, bietet es sich an, alle Buchstaben mittels `ord()` in eine Zahl zu verwandeln auf diese Zahl, dann $n$ zu addieren und das Ergebnis mit `chr()` zurückzukonvertieren. Die Zuordnung von Zahlen und Buchstaben (und prinzipiell auch anderen Zeichen) erfolgt über die *ASCII-Tabelle* (American Standard Code for Information Interchange). Das große Alphabet startet mit *A* startet bei 65 und das kleine Alphabet mit *a* bei 97.\n",
    "* Um den Text nicht komplett zu \"entstellen\" sollen hier nur Buchstaben verschoben werden. Satzzeichen, Leerzeichen und Sonderzeichen bleiben erhalten.\n",
    "* Der Modulo Operator `%` bietet sich an, um mit Überläufen umzugehen.\n",
    "* Der Test erwartet, dass alle Spezifikationen exakt umgesetzt werden. Es kann also sein, dass die Aufgabe größtenteils richtig gelöst wurde, wegen minimaler Abweichungen zu den Spezifikationen aber nicht alle Tests funktionieren.\n",
    "\n",
    "\n",
    "**Zusatzaufgabe** Wie kann man Dateien wieder entschlüsseln? \n",
    "ASCII:"
   ]
  },
  {
   "cell_type": "code",
   "execution_count": 4,
   "metadata": {},
   "outputs": [
    {
     "name": "stdout",
     "output_type": "stream",
     "text": [
      "0: \u0000, \n",
      "1: \u0001, 2: \u0002, 3: \u0003, 4: \u0004, 5: \u0005, 6: \u0006, 7: \u0007, 8:, 9: \t, 10: \n",
      ", 14: \u000e, 15: \u000f, 16: \u0010, \n",
      "17: \u0011, 18: \u0012, 19: \u0013, 20: \u0014, 21: \u0015, 22: \u0016, 23: \u0017, 24: \u0018, 25: \u0019, 26: \u001a, 27: \u001b, 28: \u001c, 29: \u001d, 30: \u001e, 31: \u001f, 32:  , \n",
      "33: !, 34: \", 35: #, 36: $, 37: %, 38: &, 39: ', 40: (, 41: ), 42: *, 43: +, 44: ,, 45: -, 46: ., 47: /, 48: 0, \n",
      "49: 1, 50: 2, 51: 3, 52: 4, 53: 5, 54: 6, 55: 7, 56: 8, 57: 9, 58: :, 59: ;, 60: <, 61: =, 62: >, 63: ?, 64: @, \n",
      "65: A, 66: B, 67: C, 68: D, 69: E, 70: F, 71: G, 72: H, 73: I, 74: J, 75: K, 76: L, 77: M, 78: N, 79: O, 80: P, \n",
      "81: Q, 82: R, 83: S, 84: T, 85: U, 86: V, 87: W, 88: X, 89: Y, 90: Z, 91: [, 92: \\, 93: ], 94: ^, 95: _, 96: `, \n",
      "97: a, 98: b, 99: c, 100: d, 101: e, 102: f, 103: g, 104: h, 105: i, 106: j, 107: k, 108: l, 109: m, 110: n, 111: o, 112: p, \n",
      "113: q, 114: r, 115: s, 116: t, 117: u, 118: v, 119: w, 120: x, 121: y, 122: z, 123: {, 124: |, 125: }, 126: ~, 127: , 128: , \n",
      "129: , 130: , 131: , 132: , 133: , 134: , 135: , 136: , 137: , 138: , 139: , 140: , 141: , 142: , 143: , 144: , \n",
      "145: , 146: , 147: , 148: , 149: , 150: , 151: , 152: , 153: , 154: , 155: , 156: , 157: , 158: , 159: , 160:  , \n",
      "161: ¡, 162: ¢, 163: £, 164: ¤, 165: ¥, 166: ¦, 167: §, 168: ¨, 169: ©, 170: ª, 171: «, 172: ¬, 173: ­, 174: ®, 175: ¯, 176: °, \n",
      "177: ±, 178: ², 179: ³, 180: ´, 181: µ, 182: ¶, 183: ·, 184: ¸, 185: ¹, 186: º, 187: », 188: ¼, 189: ½, 190: ¾, 191: ¿, 192: À, \n",
      "193: Á, 194: Â, 195: Ã, 196: Ä, 197: Å, 198: Æ, 199: Ç, 200: È, 201: É, 202: Ê, 203: Ë, 204: Ì, 205: Í, 206: Î, 207: Ï, 208: Ð, \n",
      "209: Ñ, 210: Ò, 211: Ó, 212: Ô, 213: Õ, 214: Ö, 215: ×, 216: Ø, 217: Ù, 218: Ú, 219: Û, 220: Ü, 221: Ý, 222: Þ, 223: ß, 224: à, \n",
      "225: á, 226: â, 227: ã, 228: ä, 229: å, 230: æ, 231: ç, 232: è, 233: é, 234: ê, 235: ë, 236: ì, 237: í, 238: î, 239: ï, 240: ð, \n",
      "241: ñ, 242: ò, 243: ó, 244: ô, 245: õ, 246: ö, 247: ÷, 248: ø, 249: ù, 250: ú, 251: û, 252: ü, 253: ý, 254: þ, \n"
     ]
    }
   ],
   "source": [
    "# prints ascii table\n",
    "for i in range(0, 255):\n",
    "    print(f\"{i}: {chr(i)}\", end=\", \")\n",
    "    if(i % 16 == 0):\n",
    "        print()\n",
    "\n",
    "print()"
   ]
  },
  {
   "cell_type": "code",
   "execution_count": 5,
   "metadata": {},
   "outputs": [],
   "source": [
    "# your code"
   ]
  },
  {
   "cell_type": "code",
   "execution_count": null,
   "metadata": {},
   "outputs": [],
   "source": [
    "# test for task 2\n",
    "clear_file = open(\"../files/clear_message.txt\")\n",
    "clear_message = clear_file.read()\n",
    "clear_file.close()\n",
    "encrypted_message_3 = \"\"\"Glh xqhqgolfkh Jhvfklfkwh lvw hlq 1979 huvfklhqhqhu Urpdq yrq Plfkdho Hqgh. Gdv Zhun lvw hlq cxjohlfk päufkhqkdiwhu, skdqwdvwlvfkhu xqg urpdqwlvfkhu Elogxqjvurpdq xqg jhköuw lqczlvfkhq cx ghq qhxhq Nodvvlnhuq ghu Nlqghu- xqg Mxjhqgolwhudwxu.\n",
    "Ghu Jurßwhlo ghu Kdqgoxqj vslhow lq hlqhu Sdudoohozhow, Skdqwdvlhq jhqdqqw, glh gxufk gdv \"Qlfkwv“ chuvwöuw zlug – lpphu juößhuh Whloh ghv Uhlfkhv yhuvfkzlqghq hlqidfk, rkqh gdvv hwzdv gdyrq cxuüfneohlew. Hlqh Duw Udkphqhucäkoxqj ehvwhkw dxv Vhtxhqchq, glh lq ghu Phqvfkhqzhow dqjhvlhghow vlqg. Mhgh glhvhu Zhowhq vwhoow hlqh ghu ehlghq Kdxswshuvrqhq ghv Urpdqv. Edvwldq Edowkdvdu Exa lvw hlq Phqvfkhqmxqjh, ghu cxqäfkvw qxu hlqhq Urpdq üehu gdv Odqg Skdqwdvlhq olhvw, grfk glh Jhvfklfkwh zlug iüu lkq phku xqg phku cxu Zlunolfknhlw. Vfkolhßolfk zlug hu vhoevw hlq Whlo gdyrq, elv hu nxuc gdyruvwhkw, vlfk lq ghu Skdqwdvlhzhow cx yhuolhuhq. Dwuémx klqjhjhq lvw hlq mxqjhu skdqwdvlvfkhu Mäjhu, ghu lp Dxiwudj ghu nudqnhq Khuuvfkhulq ghv Uhlfkhv, ghu Nlqgolfkhq Ndlvhulq, qdfk ghu Xuvdfkh iüu lkuh Nudqnkhlw vxfkw, xp gdgxufk Skdqwdvlhq cx uhwwhq. Hu zlug vsäwhu cx Edvwldqv Iuhxqg xqg kloiw lkp, ghq Zhj cxuüfn qdfk Kdxvh cx ilqghq. \n",
    "\"\"\"\n",
    "expected = [clear_message, clear_message, encrypted_message_3]\n",
    "shifts = [0, 26, 3]\n",
    "for i in range(3):\n",
    "    caesar_encrypt(\"../files/clear_message.txt\", \"../files/encrypted_message.txt\", shifts[i])\n",
    "    file = open(\"../files/encrypted_message.txt\")\n",
    "    content = file.read()\n",
    "    file.close()\n",
    "    assert content == expected[i]"
   ]
  },
  {
   "cell_type": "markdown",
   "metadata": {},
   "source": [
    "### 3 Datentabelle Bohrsches Atommodell\n",
    "Die folgende Aufgabe berechnet physikalische Größen, bedarf aber keinerlei Physikwissen. Ein Ziel der Aufgabe ist es aufzuzeigen, dass es für nahezu jede Anwendung in Python eine Bibliothek gibt, die einem viel Arbeit erspart.\n",
    "\n",
    "Zunächst etwas Kontext:\n",
    "\n",
    "Das Bohrsche Atommodell beschreibt Atome als positive Kerne um die negative Elektronen kreisen. Dabei gibt es aber bestimmte Radien (oder äquivalent formuliert bestimmte Drehimpulse), die \"erlaubt\" sind. Die erlaubten Zustände werden mit einer sogenannten Hauptquantenzahl $n=1, 2, 3, \\dots$ durchgezählt. Zu jeder Hauptquantenzahl lässt sich ein Radius und eine Energie berechnen. Die Energie kann sowohl in der Einheit Joule [J] als auch in der Einheit Elektronenvolt [eV] angegeben werden.\n",
    "\n",
    "Berechne nach folgenden Formeln für die ersten 15 Hauptquantenzahlen Radius und Energie (sowohl in Joule als auch in Elektronenvolt):\n",
    "$$r_n = \\frac{\\epsilon_0*h^2}{\\pi*e^2*m_e}*n^2$$\n",
    "$$E = -\\frac{e^2}{4*\\pi*\\epsilon_0*r} $$\n",
    "Um die Energie von Joule in Elektronenvolt umzurechnen, teilt man den Zahlenwert durch den Zahlenwert der Elementarladung $e$. Verwende dabei die Konstanten aus dem Paket `scipy.constants`. Gib die Ergebnisse anschließend als Tabelle aus. Um die Ausgabe lesbarer zu gestalten, kann jeder Tabellenspalte ein Format (wie bei *fstrings*) übergeben werden: `tabulate(table, headers=, tablefmt=, floatfmt(\"2d\", ...))`"
   ]
  },
  {
   "cell_type": "code",
   "execution_count": 10,
   "metadata": {},
   "outputs": [
    {
     "name": "stdout",
     "output_type": "stream",
     "text": [
      "1.602176634e-19 3.141592653589793 8.8541878128e-12 6.62607015e-34\n"
     ]
    }
   ],
   "source": [
    "from tabulate import tabulate\n",
    "from scipy import constants as c\n",
    "\n",
    "def energy(r):\n",
    "    pass\n",
    "\n",
    "def joule_to_ev(x):\n",
    "    pass\n",
    "\n",
    "def radius(n):\n",
    "    pass\n",
    "\n",
    "print(c.e, c.pi, c.epsilon_0, c.h)"
   ]
  },
  {
   "cell_type": "markdown",
   "metadata": {},
   "source": [
    "## Zusatzaufgaben\n",
    "### Z1 Schreibe mit Hilfe von `string.center(length, char)` eine \"schöne\" Ausgabe des Pascalschen Dreiecks:\n",
    "```\n",
    "                     1                      \n",
    "                   1   1                    \n",
    "                 1   2   1                  \n",
    "               1   3   3   1                \n",
    "             1   4   6   4   1              \n",
    "           1   5   10  10  5   1            \n",
    "         1   6   15  20  15  6   1          \n",
    "       1   7   21  35  35  21  7   1        \n",
    "     1   8   28  56  70  56  28  8   1      \n",
    "   1   9   36  84 126 126  84  36  9   1 \n",
    "```"
   ]
  },
  {
   "cell_type": "code",
   "execution_count": null,
   "metadata": {},
   "outputs": [],
   "source": []
  }
 ],
 "metadata": {
  "kernelspec": {
   "display_name": "Python 3",
   "language": "python",
   "name": "python3"
  },
  "language_info": {
   "codemirror_mode": {
    "name": "ipython",
    "version": 3
   },
   "file_extension": ".py",
   "mimetype": "text/x-python",
   "name": "python",
   "nbconvert_exporter": "python",
   "pygments_lexer": "ipython3",
   "version": "3.10.12"
  },
  "orig_nbformat": 4
 },
 "nbformat": 4,
 "nbformat_minor": 2
}
