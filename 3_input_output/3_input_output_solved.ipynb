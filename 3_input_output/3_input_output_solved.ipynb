{
 "cells": [
  {
   "cell_type": "code",
   "execution_count": 10,
   "metadata": {},
   "outputs": [
    {
     "name": "stdout",
     "output_type": "stream",
     "text": [
      "                     1                      \n",
      "                   1   1                    \n",
      "                 1   2   1                  \n",
      "               1   3   3   1                \n",
      "             1   4   6   4   1              \n",
      "           1   5   10  10  5   1            \n",
      "         1   6   15  20  15  6   1          \n",
      "       1   7   21  35  35  21  7   1        \n",
      "     1   8   28  56  70  56  28  8   1      \n",
      "   1   9   36  84 126 126  84  36  9   1    \n"
     ]
    }
   ],
   "source": [
    "def pascal2(max_num):\n",
    "    result = []\n",
    "    for n in range(max_num):\n",
    "        row = []\n",
    "        for k in range(n+1):\n",
    "            i = 0\n",
    "            tmp = 1\n",
    "            for i in range(k):\n",
    "                tmp = tmp * (n-i)\n",
    "                tmp = tmp // (i+1)\n",
    "            row.append(tmp)\n",
    "        string = \"\"\n",
    "        for i in row:\n",
    "            string = string + str(i).center(4,\" \")\n",
    "        string = string.center((max_num+1)*4, \" \")\n",
    "        print(string)  \n",
    "\n",
    "pascal2(10)"
   ]
  },
  {
   "cell_type": "code",
   "execution_count": 8,
   "metadata": {},
   "outputs": [
    {
     "name": "stdout",
     "output_type": "stream",
     "text": [
      "      1 \n",
      "     1 1 \n",
      "    1 2 1 \n",
      "   1 3 3 1 \n",
      "  1 4 6 4 1 \n"
     ]
    }
   ],
   "source": [
    "# Print Pascal's Triangle in Python\n",
    "from math import factorial\n",
    " \n",
    "# input n\n",
    "n = 5\n",
    "for i in range(n):\n",
    "    for j in range(n-i+1):\n",
    " \n",
    "        # for left spacing\n",
    "        print(end=\" \")\n",
    " \n",
    "    for j in range(i+1):\n",
    " \n",
    "        # nCr = n!/((n-r)!*r!)\n",
    "        print(factorial(i)//(factorial(j)*factorial(i-j)), end=\" \")\n",
    " \n",
    "    # for new line\n",
    "    print()"
   ]
  },
  {
   "cell_type": "markdown",
   "metadata": {},
   "source": [
    "### 2 Caesar Verschlüsselung"
   ]
  },
  {
   "cell_type": "code",
   "execution_count": 25,
   "metadata": {},
   "outputs": [],
   "source": [
    "def caesar_encrypt(path_clear, path_decr, n):\n",
    "    file = open(path_clear)\n",
    "    content = file.read()\n",
    "    file.close()\n",
    "    encrypted = \"\"\n",
    "    for char in content:\n",
    "        if (ord(char) in range(65, 65+27)):\n",
    "            new_ascii = (ord(char)-65+n) % 26 + 65\n",
    "            encrypted += chr(new_ascii)\n",
    "        elif (ord(char) in range(65+32, 65+32+27)):\n",
    "            new_ascii = (ord(char)-65-32+n) % 26 + 65+32\n",
    "            encrypted += chr(new_ascii)\n",
    "        else:\n",
    "            encrypted += char\n",
    "    \n",
    "    file = open(path_decr, \"w\")\n",
    "    file.write(encrypted)\n",
    "\n",
    "# caesar_encrypt(\"../files/clear_message.txt\", \"../files/encrypted_message.txt\", 3)\n",
    "\n",
    "clear_file = open(\"../files/clear_message.txt\")\n",
    "clear_message = clear_file.read()\n",
    "clear_file.close()\n",
    "encrypted_message_3 = \"\"\"Glh xqhqgolfkh Jhvfklfkwh lvw hlq 1979 huvfklhqhqhu Urpdq yrq Plfkdho Hqgh. Gdv Zhun lvw hlq cxjohlfk päufkhqkdiwhu, skdqwdvwlvfkhu xqg urpdqwlvfkhu Elogxqjvurpdq xqg jhköuw lqczlvfkhq cx ghq qhxhq Nodvvlnhuq ghu Nlqghu- xqg Mxjhqgolwhudwxu.\n",
    "Ghu Jurßwhlo ghu Kdqgoxqj vslhow lq hlqhu Sdudoohozhow, Skdqwdvlhq jhqdqqw, glh gxufk gdv \"Qlfkwv“ chuvwöuw zlug – lpphu juößhuh Whloh ghv Uhlfkhv yhuvfkzlqghq hlqidfk, rkqh gdvv hwzdv gdyrq cxuüfneohlew. Hlqh Duw Udkphqhucäkoxqj ehvwhkw dxv Vhtxhqchq, glh lq ghu Phqvfkhqzhow dqjhvlhghow vlqg. Mhgh glhvhu Zhowhq vwhoow hlqh ghu ehlghq Kdxswshuvrqhq ghv Urpdqv. Edvwldq Edowkdvdu Exa lvw hlq Phqvfkhqmxqjh, ghu cxqäfkvw qxu hlqhq Urpdq üehu gdv Odqg Skdqwdvlhq olhvw, grfk glh Jhvfklfkwh zlug iüu lkq phku xqg phku cxu Zlunolfknhlw. Vfkolhßolfk zlug hu vhoevw hlq Whlo gdyrq, elv hu nxuc gdyruvwhkw, vlfk lq ghu Skdqwdvlhzhow cx yhuolhuhq. Dwuémx klqjhjhq lvw hlq mxqjhu skdqwdvlvfkhu Mäjhu, ghu lp Dxiwudj ghu nudqnhq Khuuvfkhulq ghv Uhlfkhv, ghu Nlqgolfkhq Ndlvhulq, qdfk ghu Xuvdfkh iüu lkuh Nudqnkhlw vxfkw, xp gdgxufk Skdqwdvlhq cx uhwwhq. Hu zlug vsäwhu cx Edvwldqv Iuhxqg xqg kloiw lkp, ghq Zhj cxuüfn qdfk Kdxvh cx ilqghq. \n",
    "\"\"\"\n",
    "expected = [clear_message, clear_message, encrypted_message_3]\n",
    "shifts = [0, 26, 3]\n",
    "for i in range(3):\n",
    "    caesar_encrypt(\"../files/clear_message.txt\", \"../files/encrypted_message.txt\", shifts[i])\n",
    "    file = open(\"../files/encrypted_message.txt\")\n",
    "    content = file.read()\n",
    "    file.close()\n",
    "    assert content == expected[i]\n",
    "    "
   ]
  },
  {
   "cell_type": "markdown",
   "metadata": {},
   "source": [
    "### Bohrs Atommodell"
   ]
  },
  {
   "cell_type": "code",
   "execution_count": 1,
   "metadata": {},
   "outputs": [
    {
     "name": "stdout",
     "output_type": "stream",
     "text": [
      "[1, 2, 3, 4, 5, 6, 7, 8, 9, 10, 11, 12, 13, 14, 15]\n",
      "[5.291772109060854e-11, 2.1167088436243417e-10, 4.762594898154769e-10, 8.466835374497367e-10, 1.3229430272652135e-09, 1.9050379592619074e-09, 2.5929683334398188e-09, 3.3867341497989467e-09, 4.286335408339292e-09, 5.291772109060854e-09, 6.403044251963634e-09, 7.62015183704763e-09, 8.943094864312844e-09, 1.0371873333759275e-08, 1.1906487245386923e-08]\n",
      "[-4.3597447221724356e-18, -1.0899361805431089e-18, -4.844160802413818e-19, -2.724840451357772e-19, -1.7438978888689742e-19, -1.2110402006034544e-19, -8.897438208515174e-20, -6.81210112839443e-20, -5.3824008915709074e-20, -4.3597447221724354e-20, -3.603094811712757e-20, -3.027600501508636e-20, -2.5797306048357602e-20, -2.2243595521287934e-20, -1.9376643209655268e-20]\n",
      "[-27.211386245771674, -6.8028465614429185, -3.0234873606412975, -1.7007116403607296, -1.088455449830867, -0.7558718401603244, -0.5553344131790137, -0.4251779100901824, -0.3359430400712552, -0.27211386245771674, -0.22488748963447666, -0.1889679600400811, -0.1610141197974655, -0.13883360329475342, -0.12093949442565188]\n",
      "╒══════════════════╤═══════════╤═════════════╤═══════════════╕\n",
      "│   quantum number │    radius │   enery [J] │   energy [eV] │\n",
      "╞══════════════════╪═══════════╪═════════════╪═══════════════╡\n",
      "│                1 │ 5.292e-11 │  -4.360e-18 │       -27.211 │\n",
      "├──────────────────┼───────────┼─────────────┼───────────────┤\n",
      "│                2 │ 2.117e-10 │  -1.090e-18 │        -6.803 │\n",
      "├──────────────────┼───────────┼─────────────┼───────────────┤\n",
      "│                3 │ 4.763e-10 │  -4.844e-19 │        -3.023 │\n",
      "├──────────────────┼───────────┼─────────────┼───────────────┤\n",
      "│                4 │ 8.467e-10 │  -2.725e-19 │        -1.701 │\n",
      "├──────────────────┼───────────┼─────────────┼───────────────┤\n",
      "│                5 │ 1.323e-09 │  -1.744e-19 │        -1.088 │\n",
      "├──────────────────┼───────────┼─────────────┼───────────────┤\n",
      "│                6 │ 1.905e-09 │  -1.211e-19 │        -0.756 │\n",
      "├──────────────────┼───────────┼─────────────┼───────────────┤\n",
      "│                7 │ 2.593e-09 │  -8.897e-20 │        -0.555 │\n",
      "├──────────────────┼───────────┼─────────────┼───────────────┤\n",
      "│                8 │ 3.387e-09 │  -6.812e-20 │        -0.425 │\n",
      "├──────────────────┼───────────┼─────────────┼───────────────┤\n",
      "│                9 │ 4.286e-09 │  -5.382e-20 │        -0.336 │\n",
      "├──────────────────┼───────────┼─────────────┼───────────────┤\n",
      "│               10 │ 5.292e-09 │  -4.360e-20 │        -0.272 │\n",
      "├──────────────────┼───────────┼─────────────┼───────────────┤\n",
      "│               11 │ 6.403e-09 │  -3.603e-20 │        -0.225 │\n",
      "├──────────────────┼───────────┼─────────────┼───────────────┤\n",
      "│               12 │ 7.620e-09 │  -3.028e-20 │        -0.189 │\n",
      "├──────────────────┼───────────┼─────────────┼───────────────┤\n",
      "│               13 │ 8.943e-09 │  -2.580e-20 │        -0.161 │\n",
      "├──────────────────┼───────────┼─────────────┼───────────────┤\n",
      "│               14 │ 1.037e-08 │  -2.224e-20 │        -0.139 │\n",
      "├──────────────────┼───────────┼─────────────┼───────────────┤\n",
      "│               15 │ 1.191e-08 │  -1.938e-20 │        -0.121 │\n",
      "╘══════════════════╧═══════════╧═════════════╧═══════════════╛\n"
     ]
    }
   ],
   "source": [
    "from tabulate import tabulate\n",
    "from scipy import constants\n",
    "\n",
    "def energy(r):\n",
    "    return -constants.e**2/(4*constants.pi*constants.epsilon_0*r)\n",
    "\n",
    "def joule_to_ev(x):\n",
    "    return x/constants.e\n",
    "\n",
    "def radius(n):\n",
    "    return constants.epsilon_0*constants.h**2/(constants.pi*constants.e**2*constants.m_e)*n**2\n",
    "\n",
    "quantum_numbers = [i for i in range(1,16)]\n",
    "radiuses = [radius(n) for n in quantum_numbers]\n",
    "energies_joule = [energy(r) for r in radiuses]\n",
    "energies_ev = [joule_to_ev(energy) for energy in energies_joule]\n",
    "headings = [\"quantum number\", \"radius\", \"enery [J]\", \"energy [eV]\"]\n",
    "\n",
    "print(quantum_numbers)\n",
    "print(radiuses)\n",
    "print(energies_joule)\n",
    "print(energies_ev)\n",
    "\n",
    "df = [headings]\n",
    "for n, r, e1, e2 in zip(quantum_numbers, radiuses, energies_joule, energies_ev):\n",
    "    df.append([n, r, e1, e2])\n",
    "\n",
    "print(tabulate(df, headers=\"firstrow\", tablefmt=\"fancy_grid\", floatfmt=(\"2d\", \".3e\", \".3e\", \".3f\")))"
   ]
  },
  {
   "cell_type": "code",
   "execution_count": null,
   "metadata": {},
   "outputs": [],
   "source": []
  }
 ],
 "metadata": {
  "kernelspec": {
   "display_name": "Python 3",
   "language": "python",
   "name": "python3"
  },
  "language_info": {
   "codemirror_mode": {
    "name": "ipython",
    "version": 3
   },
   "file_extension": ".py",
   "mimetype": "text/x-python",
   "name": "python",
   "nbconvert_exporter": "python",
   "pygments_lexer": "ipython3",
   "version": "3.10.12"
  },
  "orig_nbformat": 4
 },
 "nbformat": 4,
 "nbformat_minor": 2
}
