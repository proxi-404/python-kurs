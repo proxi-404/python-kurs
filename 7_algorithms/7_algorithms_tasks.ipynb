{
 "cells": [
  {
   "cell_type": "markdown",
   "metadata": {},
   "source": [
    "### 1. Bubble Sort\n",
    "In dieser Aufgabe sollt ihr den Bubble Sort Algorithmus programmieren. \n",
    "Zum Lösen der Aufgabe benötigt ihr die Funktion reversed(), die die Reihenfolge eines Iterators vertauscht.\n",
    "\n",
    "Die Funktion ist bereits vorgegeben:"
   ]
  },
  {
   "cell_type": "code",
   "execution_count": 40,
   "metadata": {},
   "outputs": [],
   "source": [
    "def bubble_sort(l : list):\n",
    "    pass"
   ]
  },
  {
   "cell_type": "markdown",
   "metadata": {},
   "source": [
    "Tipp:\n",
    "<details>\n",
    "<summary>Klicke zum öffnen</summary>\n",
    "In Python kann man folgendermaßen zwei Variablen vertauschen: \n",
    "a, b = b, a\n",
    "</details>"
   ]
  },
  {
   "cell_type": "markdown",
   "metadata": {},
   "source": [
    "### 2. Merge Sort\n",
    "\n",
    "In dieser Aufgabe sollt ihr den Merge-Sort Algorithmus programmieren. Dieser besteht aus zwei Funktionen, einmal der Funktion, die den Divide-Teil des Algorithmus übernimmt und einer, die den Merge-Teil erledigt. Überlegt euch am besten vorher kurz wie die beiden Funktionen grob auszusehen haben. \n",
    "Der Algorithmus eignet sich gut um Rekursion zu üben. In der Aufgabe sind die beiden Funktionen vorgegeben:"
   ]
  },
  {
   "cell_type": "code",
   "execution_count": null,
   "metadata": {},
   "outputs": [],
   "source": [
    "def merge_sort(l : list):\n",
    "    pass\n",
    "\n",
    "\n",
    "def merge(left : list, right : list):\n",
    "    pass"
   ]
  },
  {
   "cell_type": "markdown",
   "metadata": {},
   "source": [
    "### 3. BFS\n",
    "\n",
    "In dieser Aufgabe, sollt ihr den Breath First Search Algorithmus implementieren. Dazu wird verwenden wir ein Dictionary als Graphstruktur. Vorgegeben in dem Code ist der Graph aus dem Beispiel."
   ]
  },
  {
   "cell_type": "code",
   "execution_count": 1,
   "metadata": {},
   "outputs": [],
   "source": [
    "graph = {\n",
    "    'A' : ['B', 'C', 'D'], \n",
    "    'B' : ['A'],\n",
    "    'C' : ['A', 'D', 'E'],\n",
    "    'D' : ['A', 'C', 'F'],\n",
    "    'E' : ['C', 'F'],\n",
    "    'F' : ['D', 'E']\n",
    "}"
   ]
  },
  {
   "cell_type": "code",
   "execution_count": null,
   "metadata": {},
   "outputs": [],
   "source": [
    "def bfs(graph: dict, node: str):\n",
    "    pass"
   ]
  },
  {
   "cell_type": "markdown",
   "metadata": {},
   "source": [
    "Die Reihenfolge sollte sein:\n",
    "```\n",
    "current node: A\n",
    "current node: B\n",
    "current node: C\n",
    "current node: D\n",
    "current node: E\n",
    "current node: F\n",
    "\n",
    "```"
   ]
  },
  {
   "cell_type": "markdown",
   "metadata": {},
   "source": [
    "### 4. DFS \n",
    "\n",
    "In dieser Aufgabe sollt ihr den Depth First Search Algorithmus implementieren. Ihr könnt hier dasselbe dictionary wie aus Aufgabe 3 verwenden. "
   ]
  },
  {
   "cell_type": "code",
   "execution_count": null,
   "metadata": {},
   "outputs": [],
   "source": [
    "\n",
    "def dfs(graph: dict, node: str, visited: set): \n",
    "    pass"
   ]
  },
  {
   "cell_type": "markdown",
   "metadata": {},
   "source": [
    "Die Reihenfolge sollte sein:\n",
    "```\n",
    "current node: A\n",
    "current node: B\n",
    "current node: C\n",
    "current node: D\n",
    "current node: F\n",
    "current node: E\n",
    "```"
   ]
  },
  {
   "cell_type": "markdown",
   "metadata": {},
   "source": [
    "### Für die schnellen:\n",
    "Der Dijkstra Algorithmus ist der bekannteste und weit verbreiteste Algorithmus wenn es darum geht in einem Graphen den kürzesten Weg von einem Punkt zu einem anderen zu finden. Normalerweise bekommen für den Algorithmus Kanten Gewichte, die Angeben wie weit Knoten voneinander entfernt sind. Da das aber schnell kompliziert wird, werden wir wie bisher ohne Gewichte arbeiten bzw. allen Kanten das Gewicht $1$ geben.\n",
    "\n",
    "#### Funktionsweise \n",
    "\n",
    "Ihr findet auch hier ein Schritt für Schritt Beispiel als PDF in dem Ordner.\n",
    "\n",
    "Der Algorithmus lässt sich in Folgende Schritte unterteilen:\n",
    "1. Alle Knoten bekommen die Eigenschaften Distanz und Vorgänger. Der Startknoten bekmmt die Distanz $0$ und alle anderen Knoten $\\infty$\n",
    "2. Solange noch unbesuchte Knoten vorhanden sind, wähle den Knoten mit geringster gesamt Distanz aus und\n",
    "    1. Markiere den Knoten als besucht\n",
    "    2. Berechne die Gesamtdistanz des Pfades über den aktuellen Knoten. Dabei wird die Distanz vom Start bis zum aktuellen Knoten mit der der Nachbarknoten aufaddiert. \n",
    "    3. Wenn die Distanz zu einem Knoten kürzer ist als die bisherige Distanz, aktualisiere die Distanz und speichere den aktuellen Knoten als neuen Vorgänger.\n",
    "\n",
    "Ihr könnt wieder den Graphen von oben nehmen, oder euch einen eigenen erstellen. "
   ]
  },
  {
   "cell_type": "code",
   "execution_count": null,
   "metadata": {},
   "outputs": [],
   "source": [
    "def dijkstra(graph: dict, start_node: str):\n",
    "    pass\n",
    "\n",
    "\n",
    "def min_distance(distances: dict, visited: set) -> str:\n",
    "    pass"
   ]
  }
 ],
 "metadata": {
  "kernelspec": {
   "display_name": "Python 3",
   "language": "python",
   "name": "python3"
  },
  "language_info": {
   "codemirror_mode": {
    "name": "ipython",
    "version": 3
   },
   "file_extension": ".py",
   "mimetype": "text/x-python",
   "name": "python",
   "nbconvert_exporter": "python",
   "pygments_lexer": "ipython3",
   "version": "3.11.5"
  }
 },
 "nbformat": 4,
 "nbformat_minor": 2
}
