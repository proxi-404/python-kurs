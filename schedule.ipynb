{
 "cells": [
  {
   "cell_type": "markdown",
   "metadata": {},
   "source": [
    "# Kursübersicht - essentielle Grundlagen\n",
    "## 1. Kursschiene\n",
    "* Technikcheck - läuft alles Relevante\n",
    "### Einführung \n",
    "1. Was ist Programmieren überhaupt?\n",
    "2. Wie funktioniert unsere Programmierumgebung **Jupyter**?\n",
    "3. Python als Taschenrechner\n",
    "## 2. Kursschiene\n",
    "### Grundlagen\n",
    "1. Grundlagen der Ausgabe mit `print`\n",
    "2. Datentypen (I) `int`, `float`, `string`\n",
    "3. Kontrollstrukturen (I) `if`, `while`\n",
    "4. Einführung in Funktionen\n",
    "5. erste (beinahe sinnvolle) Anwendungen\n",
    "## 3. Kursschiene\n",
    "### komplexe Datenypen\n",
    "1. Listen\n",
    "2. Tuple\n",
    "3. Dictionaries\n",
    "4. Sets\n",
    "5. Nachtrag zu Kontrollstrukturen: `for`\n",
    "## 4. Kursschiene\n",
    "1. Vertiefung `print`\n",
    "2. Dateien einlesen und schreiben\n",
    "3. Funktionen (II): lokale und globale Variablen\n",
    "4. Fehlermeldungen lesen und verstehen\n",
    "5. Zusammenfassung häufigste Fehlerquellen"
   ]
  },
  {
   "cell_type": "markdown",
   "metadata": {},
   "source": [
    "# Kursübersicht - Wahlthemen\n",
    "## kleinere praktische Features\n",
    "* \"*\" und \"**\" zum Entpacken von Listen und Dictionaries\n",
    "* enumerate\n",
    "* lambda Funktionen\n",
    "* try, except, else, finally\n",
    "* raise\n",
    "## Bibliotheken\n",
    "1. Plots und graphische Datenauswertung: `matplotlib`\n",
    "2. graphische Benutzeroberflächen: `tkinter`\n",
    "3. \"kleinere Dinge\"\n",
    "    * Zeitmessung: `time`\n",
    "    * Zufallszahlen: `random`\n",
    "## Algorithmen\n",
    "1. Sortieralgorithmen\n",
    "2. Rekursion\n",
    "## Objektorientierung\n",
    "## Softwareentwicklung\n",
    "1. \"guten\" Code schreiben\n",
    "    * Variablennamen\n",
    "    * Stilkonventionen\n",
    "    * Wartbarkeit\n",
    "    * Zuverlässigkeit\n",
    "    * Lesbarkeit\n",
    "2. Software planen\n",
    "3. Debugging\n",
    "4. Tests\n",
    "## Effizienz?"
   ]
  },
  {
   "cell_type": "markdown",
   "metadata": {},
   "source": []
  }
 ],
 "metadata": {
  "language_info": {
   "name": "python"
  },
  "orig_nbformat": 4
 },
 "nbformat": 4,
 "nbformat_minor": 2
}
