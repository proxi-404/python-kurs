{
 "cells": [
  {
   "cell_type": "markdown",
   "metadata": {},
   "source": [
    "# Objektorientierte Programmierung\n",
    "Man unterscheidet grob zwischen drei sogenannten *Programmierparadigmen*\n",
    "1. imperative Programmierung (bisher)\n",
    "2. objektorientierte Programmierung\n",
    "3. funktionale Programmierung\n",
    "\n",
    "Zentrale Konzepte (und Vorteile) der OOP sind:\n",
    "* Zusammenfassen von Daten und Funktionalitäten zu Objekten\n",
    "* Wiederverwendbarkeit von Code\n",
    "* Zuverlässigkeit und Wartbarkeit durch Kapselung von Daten und Festlegung von Schnittstellen\n",
    "\n",
    "Nahezu alle ojektorientiert geschriebenen Programme könnten auch imperativ formuliert sein. Um die Vorzüge der OOP besser zu verstehen, beginnen wir mit einem einfachen Beispiel, das zunächst imperativ geschrieben und dann objektorientiert werden soll.\n",
    "\n",
    "Betrachte ein Bankkonto. Geforderte Funktionalitäten sind dabei:\n",
    "* Einzahlen von Geld\n",
    "* Auszahlen von Geld\n",
    "* Überweisen von Geld\n",
    "* Speichern von Kundeninformationen\n",
    "\n",
    "Ein imperativer Ansatz könnte z.B. mit dictionaries arbeiten. Ergänze dazu die folgenden Methoden:"
   ]
  },
  {
   "cell_type": "code",
   "execution_count": null,
   "metadata": {},
   "outputs": [],
   "source": [
    "def pay_in(acc, amount):\n",
    "    pass\n",
    "\n",
    "def pay_out(acc, amount):\n",
    "    pass\n",
    "\n",
    "def transfer(transmitter, receiver, amount):\n",
    "    pass\n",
    "\n",
    "account_1 = {\n",
    "    \"name\": \"Thomas\",\n",
    "    \"balance\": 2000\n",
    "}\n",
    "\n",
    "account_2 = {\n",
    "    \"name\": \"Fabian\",\n",
    "    \"balance\": 2000\n",
    "}\n"
   ]
  },
  {
   "cell_type": "markdown",
   "metadata": {},
   "source": [
    "### Objektorientierte Bankkonten\n",
    "Der Objektorientierte Ansatz sähe wie folgt aus: \\\n",
    "Besondere Funktionen sind dabei:\n",
    "* `__init__()`: Konstruktor (wird beim Anlegen eines neuen Objektes aufgerufen)\n",
    "* `__str__()`: Erzeugt eine mittels `str(object)` zugängliche String-Repräsentation des Objektes\n",
    "* `__eq__()`: legt einen Vergleich für den `==` Operator fest\n",
    "* `__hash__()`: definiert hashes (wichtig, um Sets oder Dictionaries aus diesen Objekten zu erzeugen) \n",
    "\n",
    "Der `self` Parameter verweist immer auf das eigene Objekt und muss beim Aufruf nicht explizit übergeben werden."
   ]
  },
  {
   "cell_type": "code",
   "execution_count": null,
   "metadata": {},
   "outputs": [],
   "source": [
    "class Bank_account:\n",
    "    def __init__(self, name, initial_balance):\n",
    "        self.name = name\n",
    "        self.balance = initial_balance\n",
    "    \n",
    "    def pay_in(self, amount):\n",
    "        if (amount < 0):\n",
    "            return False\n",
    "        else:\n",
    "            self.balance += amount\n",
    "            return True\n",
    "\n",
    "    def pay_out(self, amount):\n",
    "        if self.balance >= amount:\n",
    "            self.balance -= amount\n",
    "            return True\n",
    "        else:\n",
    "            return False\n",
    "        \n",
    "    def transfer(self, other, amount):\n",
    "        if amount > self.balance:\n",
    "            return False\n",
    "        else:\n",
    "            self.balance -= amount\n",
    "            other.balance += amount\n",
    "            return True\n",
    "\n",
    "    def __str__(self):\n",
    "        return f\"name: {self.name}, balance: {self.balance}\"\n",
    "    \n",
    "    def __eq__(self, other):\n",
    "        return (self.name == other.name and self.balance == other.balance)\n",
    "    \n",
    "    def __hash__(self) -> int:\n",
    "        return (self.name, self.balance).__hash__()\n",
    "\n",
    "a = Bank_account(\"Thomas\", 2000)\n",
    "a1 = Bank_account(\"Thomas\", 2000)\n",
    "a2 = Bank_account(\"Fabian\", 2000)\n",
    "\n",
    "print(a == a1)\n",
    "\n",
    "print(a1)\n",
    "print(a2)\n",
    "\n",
    "a1.transfer(a2, 100)\n",
    "\n",
    "print(a1)\n",
    "print(a2)\n"
   ]
  },
  {
   "cell_type": "markdown",
   "metadata": {},
   "source": [
    "**Anregung:** Überlege kurz, welche Vorteile das neue Konzept bietet."
   ]
  },
  {
   "cell_type": "code",
   "execution_count": null,
   "metadata": {},
   "outputs": [],
   "source": []
  }
 ],
 "metadata": {
  "kernelspec": {
   "display_name": "Python 3",
   "language": "python",
   "name": "python3"
  },
  "language_info": {
   "codemirror_mode": {
    "name": "ipython",
    "version": 3
   },
   "file_extension": ".py",
   "mimetype": "text/x-python",
   "name": "python",
   "nbconvert_exporter": "python",
   "pygments_lexer": "ipython3",
   "version": "3.10.12"
  },
  "orig_nbformat": 4
 },
 "nbformat": 4,
 "nbformat_minor": 2
}
