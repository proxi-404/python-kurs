{
 "cells": [
  {
   "cell_type": "markdown",
   "metadata": {},
   "source": [
    "# Übungsaufgaben Einführung in die Objektorientierung\n",
    "### 1 Würfel\n",
    "Schreibe ein Klasse *Würfel*, die das Attribut *number* (Zahl zwischen eins und sechs) speichert und über die Funktion *cast* auf eine neue, zufällige Augenzahl setzt. Verwende dafür die Funktion `random.randint(start, stop)`."
   ]
  },
  {
   "cell_type": "code",
   "execution_count": null,
   "metadata": {},
   "outputs": [],
   "source": []
  },
  {
   "cell_type": "markdown",
   "metadata": {},
   "source": [
    "### 2 Vektoren\n",
    "Schreibe eine Klasse 3D-Vektoren `Vec3D`, denen folgende Operationen zur Verfügung stehen:\n",
    "1. Addition: `__add__` $\\vec{v} + \\vec{w} = \\begin{pmatrix} a \\\\ b \\\\ c \\end{pmatrix} + \\begin{pmatrix} d \\\\ e \\\\ f \\end{pmatrix} = \\begin{pmatrix} a+d \\\\ b+e \\\\ c+f \\end{pmatrix}$\n",
    "2. Subtraktion `__sub__`(analog)\n",
    "3. Skalarmultiplikation `scal_mul`: $\\vec{v} + \\vec{w} = \\begin{pmatrix} a \\\\ b \\\\ c \\end{pmatrix} \\cdot \\begin{pmatrix} d \\\\ e \\\\ f \\end{pmatrix} = ad + be + cf$\n",
    "4. sinnvolle Stringrepräsenation `__str__` \\\n",
    "Funktionen, die mit zwei Unterstrichen beginnen und enden, haben in Python eine besondere Bedeutung. Hier überladen sie die Operatoren für Vektoren, sodass Vektoren mit *+* und *-* addiert und subtrahiert werden können.\n",
    "\n",
    "#### Zusatzaufgaben\n",
    "##### 1 Ergänze weitere Features wie z.B.\n",
    "* Skalarmultiplikation $k \\cdot \\begin{pmatrix} a \\\\ b \\\\ c \\end{pmatrix} = \\begin{pmatrix} ka \\\\ kb \\\\ kc \\end{pmatrix}$\n",
    "* Betragsfunktion $abs(\\begin{pmatrix} a \\\\ b \\\\ c \\end{pmatrix}) = \\sqrt{a^2+b^2+c^2}$\n",
    "* Kreuzprodukt\n",
    "* Rundung (`__round__(self, n=0)`)\n",
    "* ...\n",
    "##### 2 Ergänze vorhandene Features\n",
    "* **Kurzsyntax** Ergänze die Klasse so, dass auch Befehle wie `vec1 += vec2` möglich sind. Überschreibe dazu die Methode `__imul__()`, `__iadd__()` ... \n",
    "* **Kommutativität** Aktuell ist es nur möglich einen Vektor mit einem Skalar (in dieser Reihenfolge) zu multiplizieren. Wie sollte die Klasse *float* oder *int* denn auch wissen, wie sie mit einem von uns geschriebenen Vektor Objekt umgehen soll? In Python funktioniert eine Operation wie `5*my_vec`, indem man die Funktionen `__rmul__()` ... überlädt. \n",
    "#### 3 Dokumentation\n",
    "Dokumentiere die Klasse und ergänze weitere sinnvolle Testfälle."
   ]
  },
  {
   "cell_type": "code",
   "execution_count": null,
   "metadata": {},
   "outputs": [],
   "source": [
    "import doctest\n",
    "\n",
    "class Vec3D:\n",
    "    \"\"\"\n",
    "    Vec3D objects represent three dimensional vectors. They support multiplications and divisions with / by scalars (multiplications in both directions),\n",
    "    scalar product, cross product (@) and adding and substracting two vectors\n",
    "\n",
    "    # basics \n",
    "    >>> v1 = Vec3D(1, -2, 3)\n",
    "    >>> v2 = Vec3D(-3, -2, 1)\n",
    "    >>> Vec3D(1, 2, 3) - Vec3D(-3, -2, 1) ==  Vec3D(4, 4, 2)\n",
    "    True\n",
    "\n",
    "    >>> Vec3D(1, 2, 3) + Vec3D(-3, -2, 1) ==  Vec3D(-2, 0, 4)\n",
    "    True\n",
    "\n",
    "    >>> Vec3D(1, 2, 3) * Vec3D(-3, -2, 1) ==  -4\n",
    "    True\n",
    "\n",
    "    >>> Vec3D(2, -3, 5) / 2 == Vec3D(1.0, -1.5, 2.5)\n",
    "    True\n",
    "\n",
    "    >>> Vec3D(1, -2, 3) * 2 == Vec3D(2, -4, 6)\n",
    "    True\n",
    "\n",
    "    # advanced\n",
    "\n",
    "    >>> abs(Vec3D(3, 0, -4))\n",
    "    5.0\n",
    "\n",
    "    >>> Vec3D(1, -2, 3) @ Vec3D(-3, -2, 1) == Vec3D(4, -10, -8)\n",
    "    True\n",
    "\n",
    "    >>> 2 * Vec3D(1, -2, 3) == Vec3D(2, -4, 6)\n",
    "    True\n",
    "\n",
    "\n",
    "    # test exceptions\n",
    "\n",
    "    >>> Vec3D(2, -3, 5) / Vec3D(1, 1, 1)# doctest: +IGNORE_EXCEPTION_DETAIL\n",
    "    Traceback (most recent call last):\n",
    "    ArithmeticError\n",
    "\n",
    "    >>> Vec3D(2, -3, 5) * \"1\"# doctest: +IGNORE_EXCEPTION_DETAIL\n",
    "    Traceback (most recent call last):\n",
    "    ArithmeticError\n",
    "    \"\"\"\n",
    "\n",
    "doctest.testmod()"
   ]
  },
  {
   "cell_type": "markdown",
   "metadata": {},
   "source": [
    "Führe anschließend folgenden Code aus. Entspricht das Ergebnis den Erwartungen???"
   ]
  },
  {
   "cell_type": "code",
   "execution_count": null,
   "metadata": {},
   "outputs": [],
   "source": [
    "v1 = Vec3D(1, 2, 3)\n",
    "v2 = Vec3D(-3, -2, 1)\n",
    "s = {v1, v2}\n",
    "assert(v1 + v2 == Vec3D(-2, 0, 4))\n",
    "assert(v1 - v2 == Vec3D(4, 4, 2))\n",
    "assert(v1 * v2 == -4)"
   ]
  },
  {
   "cell_type": "markdown",
   "metadata": {},
   "source": [
    "### 3 Bank\n",
    "Schreibe eine Klasse Bank, die Bankkonten verwaltet. Die Bank soll dabei Kredite vergeben und Zinsen bezahlen können.\n",
    "* Beim Anlegen einer Bank, wird ein Name und ein Zinssatz übergeben.\n",
    "* Kunden können neu angelegt werden und auch wieder entfernt werden.\n",
    "* Eine Funktion *new_year* zahlt allen Kunden einen Zins von *interest* Prozent aus. \n",
    "* Kredite: Konten können nun überzogen werden, d.h. Überweisungen und Auszahlungen, die den eigenen Kontostand überschreiten können getätigt werden. Ergänze dazu eine neue Funktion `transaction(transmitter, receiver, amount)`.\n",
    "\n",
    "Tipp: Die Klasse `Bank_account` aus dem letzten Notebook kann hier wiederverwendet werden.\n",
    "\n",
    "**Zusatzaufgaben**:\n",
    "* Ergänze alle kritischen Funktionen um Typabfragen. Z.B. sollte ein Vergleich zwischen einer *Bank_account* Instanz und einer Zahl keinen Fehler werfen, sondern *False* ausgeben.\n",
    "* Dokumentiere alle Klassen und Funktionen mit *docstrings*. Das erscheint lästig, sollte man sich aber angewöhnen."
   ]
  },
  {
   "cell_type": "code",
   "execution_count": null,
   "metadata": {},
   "outputs": [],
   "source": [
    "import import_ipynb\n",
    "from introduction_to_oop import Bank_account\n",
    "b = Bank_account(\"x\", 1)\n",
    "print(b)\n",
    "\n",
    "# your code"
   ]
  },
  {
   "cell_type": "code",
   "execution_count": null,
   "metadata": {},
   "outputs": [],
   "source": [
    "# test\n",
    "b = Bank(\"my_bank\", 50)\n",
    "c1 = Bank_account(\"x\", 100)\n",
    "c2 = Bank_account(\"y\", 100)\n",
    "c3 = Bank_account(\"z\", 100)\n",
    "b.add_customer(c1)\n",
    "b.add_customer(c2)\n",
    "b.add_customer(c3)\n",
    "assert b.customers == [c1, c2, c3]\n",
    "b.remove_customer(c3)\n",
    "b.transaction(c1, c2, 200)\n",
    "b.new_year()\n",
    "assert b.customers == [Bank_account(\"x\", -150), Bank_account(\"y\", 450)]"
   ]
  },
  {
   "cell_type": "code",
   "execution_count": null,
   "metadata": {},
   "outputs": [],
   "source": []
  }
 ],
 "metadata": {
  "kernelspec": {
   "display_name": "Python 3",
   "language": "python",
   "name": "python3"
  },
  "language_info": {
   "codemirror_mode": {
    "name": "ipython",
    "version": 3
   },
   "file_extension": ".py",
   "mimetype": "text/x-python",
   "name": "python",
   "nbconvert_exporter": "python",
   "pygments_lexer": "ipython3",
   "version": "3.10.12"
  },
  "orig_nbformat": 4
 },
 "nbformat": 4,
 "nbformat_minor": 2
}
