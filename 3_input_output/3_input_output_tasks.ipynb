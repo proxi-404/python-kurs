{
 "cells": [
  {
   "cell_type": "markdown",
   "metadata": {},
   "source": [
    "# Aufgaben zu Input Output:\n",
    "### 1 Pascalsches Dreieck\n",
    "Berechne die ersten $n$ Zeilen des Pascalschen Dreiecks. Dieses enthält in der $n$-ten Zeile und $k$-ten Spalte den Wert von $\\binom{n}{k}$:\n",
    "\n",
    "$$\n",
    "\\begin{array}{rrrrrrrrrr}\n",
    "  1  \\\\\n",
    "  1 & 1 \\\\  \n",
    "  1 & 2 &  1 \\\\  \n",
    "  1 & 3 &  3 &  1 \\\\  \n",
    "  1 & 4 &  6 &  4 &  1 \\\\ \n",
    "  1 & 5 & 10 & 10 &  5 &  1 \\\\ \n",
    "  1 & 6 & 15 & 20 & 15 &  6 & 1 \\\\ \n",
    "  1 & 7 & 21 & 35 & 35 & 21 & 7 & 1 \\\\  \n",
    "  1 & 8 & 28 & 56 & 70 & 56 &28 & 8 & 1 \\\\\n",
    "  1 & 9 & 36 & 84 &126 &126 &84 &36 & 9 & 1 \\\\\n",
    "\\end{array}\n",
    "$$\n",
    "\n",
    "Die Einträge des Pascalschen Dreiecks sind durch die Binomialkoeffizienten gegeben:\n",
    "\n",
    "$$\n",
    "\\binom{n}{k}=\\frac{n\\cdot(n-1)\\cdots (n-k+1)}{1\\cdot 2\\cdots k}\n",
    "$$"
   ]
  },
  {
   "cell_type": "code",
   "execution_count": 3,
   "metadata": {},
   "outputs": [],
   "source": [
    "# your code"
   ]
  },
  {
   "cell_type": "markdown",
   "metadata": {},
   "source": [
    "### 2 Caesar-Verschlüsselung\n",
    "Lies die Datei \"../files/clear_message.txt\" ein und gib deren Inhalt aus. Speichere deren Inhalt mit einer Caesar-Verschlüsselung verschlüsselt in die Datei \"../files/encrypted.txt\". Bei der Caesar-Verschlüsselung wird jeder Buchstabe im Alphabet um eine feste Position $n$ verschoben werden. Alles was über das $z$ hinausgeht, fängt bei $a$ wieder an.\n",
    "\n",
    "Tipps:\n",
    "* Da man auf Strings keine Zahlen addieren kann, bietet es sich an, alle Buchstaben mittels `ord()` in eine Zahl zu verwandeln auf diese Zahl, dann $n$ zu addieren und das Ergebnis mit `chr()` zurückzukonvertieren. Die Zuordnung von Zahlen und Buchstaben (und prinzipiell auch anderen Zeichen) erfolgt über die *ASCII-Tabelle* (American Standard Code for Information Interchange). Das große Alphabet startet mit *A* startet bei 65 und das kleine Alphabet mit *a* bei 97.\n",
    "* Um den Text nicht komplett zu \"entstellen\" werden idR. nur Buchstaben verschoben. Satzzeichen und Leerzeichen bleiben erhalten.\n",
    "* Der Modulo Operator `%` bietet sich an, um mit Überläufen umzugehen.\n",
    "\n",
    "ASCII:"
   ]
  },
  {
   "cell_type": "code",
   "execution_count": 4,
   "metadata": {},
   "outputs": [
    {
     "name": "stdout",
     "output_type": "stream",
     "text": [
      "0: \u0000, \n",
      "1: \u0001, 2: \u0002, 3: \u0003, 4: \u0004, 5: \u0005, 6: \u0006, 7: \u0007, 8:, 9: \t, 10: \n",
      ", 14: \u000e, 15: \u000f, 16: \u0010, \n",
      "17: \u0011, 18: \u0012, 19: \u0013, 20: \u0014, 21: \u0015, 22: \u0016, 23: \u0017, 24: \u0018, 25: \u0019, 26: \u001a, 27: \u001b, 28: \u001c, 29: \u001d, 30: \u001e, 31: \u001f, 32:  , \n",
      "33: !, 34: \", 35: #, 36: $, 37: %, 38: &, 39: ', 40: (, 41: ), 42: *, 43: +, 44: ,, 45: -, 46: ., 47: /, 48: 0, \n",
      "49: 1, 50: 2, 51: 3, 52: 4, 53: 5, 54: 6, 55: 7, 56: 8, 57: 9, 58: :, 59: ;, 60: <, 61: =, 62: >, 63: ?, 64: @, \n",
      "65: A, 66: B, 67: C, 68: D, 69: E, 70: F, 71: G, 72: H, 73: I, 74: J, 75: K, 76: L, 77: M, 78: N, 79: O, 80: P, \n",
      "81: Q, 82: R, 83: S, 84: T, 85: U, 86: V, 87: W, 88: X, 89: Y, 90: Z, 91: [, 92: \\, 93: ], 94: ^, 95: _, 96: `, \n",
      "97: a, 98: b, 99: c, 100: d, 101: e, 102: f, 103: g, 104: h, 105: i, 106: j, 107: k, 108: l, 109: m, 110: n, 111: o, 112: p, \n",
      "113: q, 114: r, 115: s, 116: t, 117: u, 118: v, 119: w, 120: x, 121: y, 122: z, 123: {, 124: |, 125: }, 126: ~, 127: , 128: , \n",
      "129: , 130: , 131: , 132: , 133: , 134: , 135: , 136: , 137: , 138: , 139: , 140: , 141: , 142: , 143: , 144: , \n",
      "145: , 146: , 147: , 148: , 149: , 150: , 151: , 152: , 153: , 154: , 155: , 156: , 157: , 158: , 159: , 160:  , \n",
      "161: ¡, 162: ¢, 163: £, 164: ¤, 165: ¥, 166: ¦, 167: §, 168: ¨, 169: ©, 170: ª, 171: «, 172: ¬, 173: ­, 174: ®, 175: ¯, 176: °, \n",
      "177: ±, 178: ², 179: ³, 180: ´, 181: µ, 182: ¶, 183: ·, 184: ¸, 185: ¹, 186: º, 187: », 188: ¼, 189: ½, 190: ¾, 191: ¿, 192: À, \n",
      "193: Á, 194: Â, 195: Ã, 196: Ä, 197: Å, 198: Æ, 199: Ç, 200: È, 201: É, 202: Ê, 203: Ë, 204: Ì, 205: Í, 206: Î, 207: Ï, 208: Ð, \n",
      "209: Ñ, 210: Ò, 211: Ó, 212: Ô, 213: Õ, 214: Ö, 215: ×, 216: Ø, 217: Ù, 218: Ú, 219: Û, 220: Ü, 221: Ý, 222: Þ, 223: ß, 224: à, \n",
      "225: á, 226: â, 227: ã, 228: ä, 229: å, 230: æ, 231: ç, 232: è, 233: é, 234: ê, 235: ë, 236: ì, 237: í, 238: î, 239: ï, 240: ð, \n",
      "241: ñ, 242: ò, 243: ó, 244: ô, 245: õ, 246: ö, 247: ÷, 248: ø, 249: ù, 250: ú, 251: û, 252: ü, 253: ý, 254: þ, \n"
     ]
    }
   ],
   "source": [
    "# prints ascii table\n",
    "for i in range(0, 255):\n",
    "    print(f\"{i}: {chr(i)}\", end=\", \")\n",
    "    if(i % 16 == 0):\n",
    "        print()\n",
    "\n",
    "print()"
   ]
  },
  {
   "cell_type": "code",
   "execution_count": 5,
   "metadata": {},
   "outputs": [],
   "source": [
    "# your code"
   ]
  },
  {
   "cell_type": "markdown",
   "metadata": {},
   "source": [
    "## Zusatzaufgaben\n",
    "### Z1 Schreibe mit Hilfe von `string.center(length, char)` eine \"schöne\" Ausgabe des Pascalschen Dreiecks:\n",
    "```\n",
    "                     1                      \n",
    "                   1   1                    \n",
    "                 1   2   1                  \n",
    "               1   3   3   1                \n",
    "             1   4   6   4   1              \n",
    "           1   5   10  10  5   1            \n",
    "         1   6   15  20  15  6   1          \n",
    "       1   7   21  35  35  21  7   1        \n",
    "     1   8   28  56  70  56  28  8   1      \n",
    "   1   9   36  84 126 126  84  36  9   1 \n",
    "```"
   ]
  },
  {
   "cell_type": "code",
   "execution_count": null,
   "metadata": {},
   "outputs": [],
   "source": []
  }
 ],
 "metadata": {
  "kernelspec": {
   "display_name": "Python 3",
   "language": "python",
   "name": "python3"
  },
  "language_info": {
   "codemirror_mode": {
    "name": "ipython",
    "version": 3
   },
   "file_extension": ".py",
   "mimetype": "text/x-python",
   "name": "python",
   "nbconvert_exporter": "python",
   "pygments_lexer": "ipython3",
   "version": "3.10.12"
  },
  "orig_nbformat": 4
 },
 "nbformat": 4,
 "nbformat_minor": 2
}
