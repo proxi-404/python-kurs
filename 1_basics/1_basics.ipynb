{
 "cells": [
  {
   "cell_type": "markdown",
   "metadata": {},
   "source": [
    "# Ausgabe mit print\n",
    "Nahezu alle Programme liefern Ergebnisse, die in irgendeiner Form ausgegeben werden müssen. Der einfachste Weg ist eine Ausgabe auf die *Konsole* mittels `print`. Hierfür gibt es zwei (gängige) Varianten:\n",
    "\n",
    "alt: `print(\"Text immer in Anführungszeichen und Variablen mit Komma getrennt\", variable1, \"mehr text wieder in Anführungszeichen\", variable2)`\n",
    "\n",
    "neu (Formatstrings): `print(f\"Text {variable1} noch mehr Text {variable 2}\")`\n",
    "\n",
    "Formatstrings sind sehr vielsseitig und können auch leichter formatiert werden. Daher sind sie eher zu empfehlen."
   ]
  },
  {
   "cell_type": "code",
   "execution_count": 2,
   "metadata": {},
   "outputs": [
    {
     "name": "stdout",
     "output_type": "stream",
     "text": [
      "a: 5 , b: asdf\n",
      "a: 5, b: asdf\n"
     ]
    }
   ],
   "source": [
    "a = 5\n",
    "b = \"asdf\"\n",
    "print(\"a:\", a, \", b:\", b)\n",
    "print(f\"a: {a}, b: {b}\")"
   ]
  },
  {
   "cell_type": "markdown",
   "metadata": {},
   "source": [
    "# Datentypen\n",
    "Python ist eine sogenannte *schwach typisierte Sprache*, d.h. der *Interpreter* legt den Datentyp automatisch fest, ohne, dass dieser angegeben werden muss. Eine Variable kann außerdem zur Laufzeit den Typ ändern. Es gibt die numerischen Datentypen `int`(Ganzzahl), `float` (Kommazahl) und der Vollständigkeit halber `complex` (komplexe Zahl)."
   ]
  },
  {
   "cell_type": "code",
   "execution_count": 8,
   "metadata": {},
   "outputs": [
    {
     "name": "stdout",
     "output_type": "stream",
     "text": [
      "a: (1+2j), a*j: (-2+1j)\n"
     ]
    }
   ],
   "source": [
    "a = 5 # int\n",
    "a = 5.0 # float\n",
    "a = 1 + 1j # complex number, watch out: a = 1 + j -> error j is not defined\n",
    "a += 1j\n",
    "print(f\"a: {a}, a*j: {a*1j}\")"
   ]
  },
  {
   "cell_type": "markdown",
   "metadata": {},
   "source": [
    "Ein weiterer wichtiger Datentyp ist `string` (Zeichenkette). Dieser wird mit einfachen oder doppelten Anführungszeichen angegeben. In der jeweiligen Umgebung können nur die entsprechend anderen Anführungszeichen benutzt werden."
   ]
  },
  {
   "cell_type": "code",
   "execution_count": 9,
   "metadata": {},
   "outputs": [
    {
     "name": "stdout",
     "output_type": "stream",
     "text": [
      "'have a nice day', said the man\n",
      "\"have a nice day\", said the man\n"
     ]
    }
   ],
   "source": [
    "a = \"'have a nice day', said the man\"\n",
    "b = '\"have a nice day\", said the man'\n",
    "print(a)\n",
    "print(b)"
   ]
  },
  {
   "cell_type": "markdown",
   "metadata": {},
   "source": [
    "![table of datatypes](../images/Datentypen.svg)"
   ]
  },
  {
   "cell_type": "markdown",
   "metadata": {},
   "source": [
    "# Kontrollstrukturen\n",
    "Widmen wir uns nun einer (etwas künstlichen) Aufgabe, die nicht mehr jeder Taschenrechner einfach so für einen erledigen kann:\n",
    "\n",
    "*Bestimme die Summe aller natürlichen Zahlen zwischen 100 und 1000, die durch 7 teilbar sind.*\n",
    "\n",
    "Lösungsansatz (Pseudocode):\n",
    "* setzte *Ergebnis* auf 0 \n",
    "* Starte einen Zähler *i* bei 100 \n",
    "* Prüfe ob *i* durch 7 teilbar ist JA: erhöhre *Ergebnis* um *i* NEIN: tue nichts\n",
    "* erhöhre *i* falls *i* kleiner als 999 ist und gehe zu Schritt 3\n",
    "* gib Ergebnis aus"
   ]
  },
  {
   "cell_type": "markdown",
   "metadata": {},
   "source": [
    "**Selektion:** \n",
    "```python\n",
    "if (condition):\n",
    "    action # indented \n",
    "else:\n",
    "    action # indented\n",
    "```\n",
    "**Schleife**\n",
    "```python\n",
    "while(condition):\n",
    "    action # indented\n",
    "```"
   ]
  },
  {
   "cell_type": "code",
   "execution_count": 2,
   "metadata": {},
   "outputs": [
    {
     "name": "stdout",
     "output_type": "stream",
     "text": [
      "896\n"
     ]
    }
   ],
   "source": [
    "i = 100\n",
    "result = 0\n",
    "while (i < 1000):\n",
    "    if (i % 7 == 0): # two equal signs for condition\n",
    "        result += 7\n",
    "    i += 1\n",
    "print(result)\n"
   ]
  },
  {
   "cell_type": "markdown",
   "metadata": {},
   "source": [
    "# Funktionen\n",
    "Funktionen sind Konstrukte, die analog zu Funktionen in der Mathematik Argumente entgegennehmen und einen Funktionswert zurückgeben.\n",
    "\n",
    "Bsp: $f(x) = x^2+2x+1 \\Rightarrow f(3) = 3^2+2 \\cdot 3 + 1 = 16$\n",
    "\n",
    "Pythonsyntax:\n",
    "```python\n",
    "def funktionsname(parameter_1, parameter_2):\n",
    "    funktions\n",
    "    rumpf\n",
    "    bestehend\n",
    "    aus vielen\n",
    "    Zeilen, die\n",
    "    alle eingerückt\n",
    "    sind\n",
    "    return rückgabewert\n",
    "```"
   ]
  },
  {
   "cell_type": "code",
   "execution_count": 5,
   "metadata": {},
   "outputs": [
    {
     "name": "stdout",
     "output_type": "stream",
     "text": [
      "16\n",
      "16\n",
      "289\n"
     ]
    }
   ],
   "source": [
    "def f(x):\n",
    "    return x**2 + 2*x + 1\n",
    "print(f(3))\n",
    "a = f(3)\n",
    "print(a)\n",
    "b = f(a)\n",
    "print(b)"
   ]
  }
 ],
 "metadata": {
  "kernelspec": {
   "display_name": "Python 3",
   "language": "python",
   "name": "python3"
  },
  "language_info": {
   "codemirror_mode": {
    "name": "ipython",
    "version": 3
   },
   "file_extension": ".py",
   "mimetype": "text/x-python",
   "name": "python",
   "nbconvert_exporter": "python",
   "pygments_lexer": "ipython3",
   "version": "3.10.12"
  },
  "orig_nbformat": 4
 },
 "nbformat": 4,
 "nbformat_minor": 2
}
