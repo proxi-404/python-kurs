{
 "cells": [
  {
   "cell_type": "markdown",
   "metadata": {},
   "source": [
    "# Fehler\n",
    "Jeder Programmierer macht beim Programmieren Fehler. Dabei unterscheidet man mehrere Klassen von Fehlern:\n",
    "### Syntaxfehler\n",
    "Eine für Python-Code vorgeschriebene formale Regel wurde nicht eingehalten. Meist fehlt z.B. einfach nur ein Doppelpunkt oder eine Klammer. Diese Fehler führen dazu, dass das Programm gar nicht erst ausgeführt wird. In der Regel zeigt ein Präcompiler an, wo ein Fehler liegt oder liegen könnte."
   ]
  },
  {
   "cell_type": "code",
   "execution_count": 1,
   "metadata": {},
   "outputs": [
    {
     "ename": "SyntaxError",
     "evalue": "expected ':' (2484611331.py, line 2)",
     "output_type": "error",
     "traceback": [
      "\u001b[0;36m  Cell \u001b[0;32mIn[1], line 2\u001b[0;36m\u001b[0m\n\u001b[0;31m    while a<10\u001b[0m\n\u001b[0m              ^\u001b[0m\n\u001b[0;31mSyntaxError\u001b[0m\u001b[0;31m:\u001b[0m expected ':'\n"
     ]
    }
   ],
   "source": [
    "a = 5\n",
    "while a<10\n",
    "    a += 1\n",
    "print(a)"
   ]
  },
  {
   "cell_type": "markdown",
   "metadata": {},
   "source": [
    "### Laufzeitfehler\n",
    "Laufzeitfehler führen während der Programmausführung zu einem Absturz. Die häufigsten Fehlertypen sind:\n",
    "* Verwendung von Objektverweisen oder Variablen, die noch gar nicht zugewiesen wurden\n",
    "* fehlende Dateien, aus denen das Programm Daten beziehen soll.\n",
    "* Versuch, Datensätze über das Ende (einer Liste oder einer Datei) hinaus zu lesen.\n",
    "* mathematisch nicht definierte Operationen wie Division durch Null oder Logarithmen aus negativen Zahlen\n",
    "* Stack Overflow, dieser tritt typischerweise ein, wenn eine rekursive Funktion zu oft verschachtelt aufgerufen wird; meist liegt eine endlose Rekursion vor, zu der es aufgrund eines Logikfehlers kommt."
   ]
  },
  {
   "cell_type": "code",
   "execution_count": 3,
   "metadata": {},
   "outputs": [
    {
     "ename": "ZeroDivisionError",
     "evalue": "division by zero",
     "output_type": "error",
     "traceback": [
      "\u001b[0;31m---------------------------------------------------------------------------\u001b[0m",
      "\u001b[0;31mZeroDivisionError\u001b[0m                         Traceback (most recent call last)",
      "\u001b[1;32m/home/thomas/Documents/Akademien/Winteraka_2023/python-kurs/4_errors/4_errors.ipynb Cell 4\u001b[0m line \u001b[0;36m1\n\u001b[0;32m----> <a href='vscode-notebook-cell:/home/thomas/Documents/Akademien/Winteraka_2023/python-kurs/4_errors/4_errors.ipynb#W6sZmlsZQ%3D%3D?line=0'>1</a>\u001b[0m \u001b[39m1\u001b[39;49m\u001b[39m/\u001b[39;49m\u001b[39m0\u001b[39;49m\n",
      "\u001b[0;31mZeroDivisionError\u001b[0m: division by zero"
     ]
    }
   ],
   "source": [
    "1/0"
   ]
  },
  {
   "cell_type": "markdown",
   "metadata": {},
   "source": [
    "## logische Fehler\n",
    "Logische Fehler sind Fehler in der logischen Struktur des Programms, die zwar zu einem lauffähigen Programm führen, das aber ein falsches Ergebnis produziert. Sie sind oft deutlich schwerer zu beheben und müssen auch erst einmal erkannt werden."
   ]
  },
  {
   "cell_type": "code",
   "execution_count": 2,
   "metadata": {},
   "outputs": [],
   "source": [
    "# example missing"
   ]
  },
  {
   "cell_type": "markdown",
   "metadata": {},
   "source": [
    "## die häufigsten Python spezifischen Fehler (Zusammenfassung bisheriger Erkenntnisse)\n",
    "* *deep* und *shallow* Kopien bei Listen\n",
    "* Indexfehler (Indizes starten bei 0 und nicht 1)\n",
    "* Zählvariablen bleiben unverändert $\\Rightarrow$ Laufzeitfehler\n",
    "* Prüfen auf exakte Werte bei (rundungsfehlerbehafteten) Fließkommaoperationen\n",
    "\n",
    "## Fehlerbehandlung\n",
    "Am einfachsten wäre es, keine Fehler zu machen. Allerdings ist dies spätestens dann nicht mehr möglich, wenn Dateien eingelesen werden sollen, die vielleicht nicht existieren oder Nutzereingaben weiterverarbeitet werden sollen, die nicht im korrekten Stil oder nach den vereinbarten Konventionen verfasst sind. Um unnötig viele Programmabstürze zu vermeiden, bietet Python Möglichkeiten mit Fehlern \"zu leben\".\n",
    "\n",
    "Ein einfaches Beispiel wäre ein Programm, das den Logarithmus aus einer übergebenen Zahl zurückgibt."
   ]
  },
  {
   "cell_type": "code",
   "execution_count": 7,
   "metadata": {},
   "outputs": [
    {
     "name": "stdout",
     "output_type": "stream",
     "text": [
      "1.6094379124341003\n"
     ]
    }
   ],
   "source": [
    "from math import log\n",
    "\n",
    "a = float(input(\"type in your number\"))\n",
    "print(log(a))"
   ]
  },
  {
   "cell_type": "markdown",
   "metadata": {},
   "source": [
    "Zwei Dinge können hierbei schieflaufen: Der Nutzer gibt eine negative Zahl ein. Dies ließe sich noch leicht mit einer Selektion abfangen. Schlimmer wäre es, wenn der Nutzer keine Zahl, sondern z.B. eine Buchstabenfolge eingibt. Damit würde er das Programm zum Absturz bringen.\n",
    "\n",
    "Python bietet folgende Befehle zur Fehlerbehandlung an: \\\n",
    "`try` versucht eine Block auszuführen \\\n",
    "`except` wertet den Fehlerfall aus \\\n",
    "`else` wird ausgeführt, falls kein Fehler auftritt \\\n",
    "`finally` wird immer ausgeführt \n",
    "Das folgende Beispiel soll dies demonstrieren:"
   ]
  },
  {
   "cell_type": "code",
   "execution_count": 11,
   "metadata": {},
   "outputs": [
    {
     "name": "stdout",
     "output_type": "stream",
     "text": [
      "1.0986122886681098\n",
      "only positive numbers allowed, use a dot for float numbers (no comma)\n",
      "1.6094379124341003\n",
      "only positive numbers allowed, use a dot for float numbers (no comma)\n",
      "only positive numbers allowed, use a dot for float numbers (no comma)\n"
     ]
    }
   ],
   "source": [
    "from math import log\n",
    "again = True\n",
    "while (again):\n",
    "    a = input(\"type in your number\")\n",
    "    try:\n",
    "        a = log(float(a))\n",
    "    except:\n",
    "        print(\"only positive numbers allowed, use a dot for float numbers (no comma)\")\n",
    "    else:\n",
    "        print(a)\n",
    "    finally:\n",
    "        tmp = input(\"do you want to enter a number again (y) or terminate (n)?\")\n",
    "        again = tmp == \"y\"\n"
   ]
  },
  {
   "cell_type": "markdown",
   "metadata": {},
   "source": [
    "Man kann auch spezifischer auf bestimmte Fehlerklassen abfragen. Eine vollständige Liste gibt es hier: [vollständige Liste](https://docs.python.org/3/library/exceptions.html)"
   ]
  },
  {
   "cell_type": "code",
   "execution_count": 14,
   "metadata": {},
   "outputs": [
    {
     "name": "stdout",
     "output_type": "stream",
     "text": [
      "input must be a valid number, use a dot for float numbers (no comma)\n",
      "0.6931471805599453\n",
      "input must be a valid number, use a dot for float numbers (no comma)\n"
     ]
    }
   ],
   "source": [
    "from math import log\n",
    "again = True\n",
    "while (again):\n",
    "    a = input(\"type in your number\")\n",
    "    try:\n",
    "        a = log(float(a))\n",
    "    except ArithmeticError:\n",
    "        print(\"only positive numbers allowed\")\n",
    "    except ValueError:\n",
    "        print(\"input must be a valid number, use a dot for float numbers (no comma)\")\n",
    "    else:\n",
    "        print(a)\n",
    "    finally:\n",
    "        tmp = input(\"do you want to enter a number again (y) or terminate (n)?\")\n",
    "        again = tmp == \"y\""
   ]
  },
  {
   "cell_type": "markdown",
   "metadata": {},
   "source": [
    "Es ist auch möglich selbst Fehler zu werfen:"
   ]
  },
  {
   "cell_type": "code",
   "execution_count": 21,
   "metadata": {},
   "outputs": [
    {
     "ename": "ValueError",
     "evalue": "number required",
     "output_type": "error",
     "traceback": [
      "\u001b[0;31m---------------------------------------------------------------------------\u001b[0m",
      "\u001b[0;31mValueError\u001b[0m                                Traceback (most recent call last)",
      "\u001b[1;32m/home/thomas/Documents/Akademien/Winteraka_2023/python-kurs/4_errors/4_errors.ipynb Cell 14\u001b[0m line \u001b[0;36m3\n\u001b[1;32m      <a href='vscode-notebook-cell:/home/thomas/Documents/Akademien/Winteraka_2023/python-kurs/4_errors/4_errors.ipynb#X15sZmlsZQ%3D%3D?line=1'>2</a>\u001b[0m \u001b[39mtry\u001b[39;00m:\n\u001b[0;32m----> <a href='vscode-notebook-cell:/home/thomas/Documents/Akademien/Winteraka_2023/python-kurs/4_errors/4_errors.ipynb#X15sZmlsZQ%3D%3D?line=2'>3</a>\u001b[0m     tmp \u001b[39m=\u001b[39m \u001b[39mfloat\u001b[39;49m(tmp)\n\u001b[1;32m      <a href='vscode-notebook-cell:/home/thomas/Documents/Akademien/Winteraka_2023/python-kurs/4_errors/4_errors.ipynb#X15sZmlsZQ%3D%3D?line=3'>4</a>\u001b[0m \u001b[39mexcept\u001b[39;00m:\n",
      "\u001b[0;31mValueError\u001b[0m: could not convert string to float: 'a'",
      "\nDuring handling of the above exception, another exception occurred:\n",
      "\u001b[0;31mValueError\u001b[0m                                Traceback (most recent call last)",
      "\u001b[1;32m/home/thomas/Documents/Akademien/Winteraka_2023/python-kurs/4_errors/4_errors.ipynb Cell 14\u001b[0m line \u001b[0;36m5\n\u001b[1;32m      <a href='vscode-notebook-cell:/home/thomas/Documents/Akademien/Winteraka_2023/python-kurs/4_errors/4_errors.ipynb#X15sZmlsZQ%3D%3D?line=2'>3</a>\u001b[0m     tmp \u001b[39m=\u001b[39m \u001b[39mfloat\u001b[39m(tmp)\n\u001b[1;32m      <a href='vscode-notebook-cell:/home/thomas/Documents/Akademien/Winteraka_2023/python-kurs/4_errors/4_errors.ipynb#X15sZmlsZQ%3D%3D?line=3'>4</a>\u001b[0m \u001b[39mexcept\u001b[39;00m:\n\u001b[0;32m----> <a href='vscode-notebook-cell:/home/thomas/Documents/Akademien/Winteraka_2023/python-kurs/4_errors/4_errors.ipynb#X15sZmlsZQ%3D%3D?line=4'>5</a>\u001b[0m     \u001b[39mraise\u001b[39;00m \u001b[39mValueError\u001b[39;00m(\u001b[39m\"\u001b[39m\u001b[39mnumber required\u001b[39m\u001b[39m\"\u001b[39m)\n\u001b[1;32m      <a href='vscode-notebook-cell:/home/thomas/Documents/Akademien/Winteraka_2023/python-kurs/4_errors/4_errors.ipynb#X15sZmlsZQ%3D%3D?line=5'>6</a>\u001b[0m \u001b[39mif\u001b[39;00m (tmp \u001b[39m!=\u001b[39m \u001b[39m42\u001b[39m):\n\u001b[1;32m      <a href='vscode-notebook-cell:/home/thomas/Documents/Akademien/Winteraka_2023/python-kurs/4_errors/4_errors.ipynb#X15sZmlsZQ%3D%3D?line=6'>7</a>\u001b[0m     \u001b[39mraise\u001b[39;00m \u001b[39mException\u001b[39;00m(\u001b[39m\"\u001b[39m\u001b[39myour favourite number should be 42!\u001b[39m\u001b[39m\"\u001b[39m)\n",
      "\u001b[0;31mValueError\u001b[0m: number required"
     ]
    }
   ],
   "source": [
    "tmp = input(\"your favourite number\")\n",
    "try:\n",
    "    tmp = float(tmp)\n",
    "except:\n",
    "    raise ValueError(\"number required\")\n",
    "if (tmp != 42):\n",
    "    raise Exception(\"your favourite number should be 42!\")"
   ]
  }
 ],
 "metadata": {
  "kernelspec": {
   "display_name": "Python 3",
   "language": "python",
   "name": "python3"
  },
  "language_info": {
   "codemirror_mode": {
    "name": "ipython",
    "version": 3
   },
   "file_extension": ".py",
   "mimetype": "text/x-python",
   "name": "python",
   "nbconvert_exporter": "python",
   "pygments_lexer": "ipython3",
   "version": "3.10.12"
  },
  "orig_nbformat": 4
 },
 "nbformat": 4,
 "nbformat_minor": 2
}
