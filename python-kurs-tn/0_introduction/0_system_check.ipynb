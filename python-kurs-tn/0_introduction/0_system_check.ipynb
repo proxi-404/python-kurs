{
 "cells": [
  {
   "cell_type": "markdown",
   "metadata": {},
   "source": [
    "# Systemcheck\n",
    "Dies ist ein einfaches Notebook, um zu testen, ob Python und alle Bibliotheken richtig eingerichtet sind. Führe dazu einfach die nächste Zelle aus."
   ]
  },
  {
   "cell_type": "code",
   "execution_count": null,
   "metadata": {},
   "outputs": [],
   "source": [
    "print(\"basic python is working fine, checking additional packages:\")\n",
    "packages = [\"numpy as np\", \"matplotlib.pyplot as plt\", \"random\", \"time\", \"tabulate\", \"copy\", \"tkinter as tk\", \"os\",\n",
    "             \"scipy\", \"pandas\", \"logging\", \"pickle\", \"math\", \"doctest\", \"unittest\", \"import_ipynb\", \"sys\"]\n",
    "success_count = 0\n",
    "for p in packages:\n",
    "    cmd = \"import \" + p\n",
    "    try:\n",
    "        exec(cmd)\n",
    "    except: \n",
    "        print(\"\\U000026A0 could NOT import module\", p)\n",
    "    else:\n",
    "        print(\"\\U0001F44D module\", p, \"successfully imported\")\n",
    "        success_count += 1\n",
    "\n",
    "print(f\"{success_count} of {len(packages)} packages successfully imported\")\n"
   ]
  },
  {
   "cell_type": "code",
   "execution_count": null,
   "metadata": {},
   "outputs": [],
   "source": []
  }
 ],
 "metadata": {
  "kernelspec": {
   "display_name": "Python 3",
   "language": "python",
   "name": "python3"
  },
  "language_info": {
   "codemirror_mode": {
    "name": "ipython",
    "version": 3
   },
   "file_extension": ".py",
   "mimetype": "text/x-python",
   "name": "python",
   "nbconvert_exporter": "python",
   "pygments_lexer": "ipython3",
   "version": "3.10.12"
  },
  "orig_nbformat": 4
 },
 "nbformat": 4,
 "nbformat_minor": 2
}
