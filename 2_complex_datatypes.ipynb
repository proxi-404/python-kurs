{
 "cells": [
  {
   "cell_type": "markdown",
   "metadata": {},
   "source": [
    "# Komplexe Datentypen\n",
    "Wie wir in der letzten Aufgabe gesehen haben, wäre es praktisch, eine Datenstruktur zu haben, in der mehrere Elemente gespeichert werden können. Python bietet vier unterschiedliche Container Typen an, die wir uns nacheinander ansehen.\n",
    "## Listen\n",
    "Listen sind der wahrscheinlich am häufigsten verwendete Container. Listen werden stets mit eckigen Klammern initialisiert. Syntax: \n",
    "```python\n",
    "my_list = [] # empty list\n",
    "my_list = [1, 2, 3]\n",
    "```\n",
    "Alle Einträge erhalten einen **Index** der bei **Null** startet und einen eindeutigen Zugriff auf alle Elemente ermöglicht. Der Zugriff auf einen Index erfolgt wieder mit eckigen Klammern: `my_list[0]` liefert z.B. den Wert 1 zurück.\n",
    "\n",
    "Die wichtigsten Operationen auf Listen sind das Anfügen eines Elementes am Ende mit `append(element)`, das Einfügen an einer beliebigen Stelle mit `insert(index, element)`, das Entfernen (des ersten Eintrages mit dem Wert *value*) mit `remove(value)`, das Entfernen eines Elementes nach Index mit `pop(index)` und das Sortieren mit `sort`.\n",
    "\n",
    "## Tupel\n",
    "Tupel funktionieren völlig analog zu Listen, sind aber unveränderlich und bieten daher einen geringeren Umfang an Operationen. Tupel werden mit runden Klammern initialisiert."
   ]
  },
  {
   "cell_type": "markdown",
   "metadata": {},
   "source": [
    "## Dictionaries\n",
    "Dictionaries funktionieren analog zu Wörter oder Telefonbüchern. Anstelle von ganzzahligen Indizes wie bei Listen, gibt es bei Dicts beliebige **keys**, denen ein **value** zugeordnet wird. Syntax:\n",
    "```python\n",
    "mobile = {\"Fabian\": 123456789, \"Thomas\": 987654321}\n",
    "```\n",
    "Der Zugriff erfolgt wie gewohnt über eckige Klammern, in denen nun aber Strings und keine ganzzahligen Werte als Key bzw. Index stehen. Neue Elemente können ganz einfach über die Syntax `my_dict[\"new key\"] = new_value` hinzugefügt werden."
   ]
  },
  {
   "cell_type": "markdown",
   "metadata": {},
   "source": [
    "## Sets\n",
    "Sets sind Datenstrukturen mit ähnlichen Eigenschaften wie Mengen in der Mathematik. Sie sind Ansammlungen von Elementen ohne Reihenfolge und jedes Element kann nur ein mal vorkommen. Die häufigsten Anwendungen sind das Herausfiltern von Duplikaten aus Listen oder das Bilden von Schnitt (difference) oder Vereinigung (union). Sets werden ähnlich wie Dictionaries mit Mengenklammern initialisiert:\n",
    "`my_set = {1, 3, 6, 7, 7, 3}`"
   ]
  },
  {
   "cell_type": "markdown",
   "metadata": {},
   "source": []
  }
 ],
 "metadata": {
  "language_info": {
   "name": "python"
  },
  "orig_nbformat": 4
 },
 "nbformat": 4,
 "nbformat_minor": 2
}
