{
 "cells": [
  {
   "cell_type": "markdown",
   "metadata": {},
   "source": [
    "# Kursübersicht\n",
    "Die folgende Übersicht soll nur eine ganz grobe Orientierung sein.\n",
    "## 1. Kursschiene\n",
    "* Technikcheck - läuft alles Relevante\n",
    "### Einführung \n",
    "1. Was ist Programmieren überhaupt?\n",
    "2. Wie funktioniert unsere Programmierumgebung **Jupyter**?\n",
    "3. Python als Taschenrechner\n",
    "## 2. Kursschiene\n",
    "### Grundlagen\n",
    "1. Grundlagen der Ausgabe mit `print`\n",
    "2. Datentypen (I) `int`, `float`, `string`\n",
    "3. Kontrollstrukturen (I) `if`, `while`\n",
    "4. Einführung in Funktionen\n",
    "5. erste (beinahe sinnvolle) Anwendungen\n",
    "## 3. Kursschiene\n",
    "### komplexe Datenypen\n",
    "1. Listen\n",
    "2. Tuple\n",
    "3. Dictionaries\n",
    "4. Sets\n",
    "5. Nachtrag zu Kontrollstrukturen: `for`\n",
    "## 4. Kursschiene\n",
    "1. Vertiefung `print`\n",
    "2. Dateien einlesen und schreiben\n",
    "3. Alles rund um Fehler\n",
    "    * Fehlermeldungen lesen und verstehen\n",
    "    * Zusammenfassung häufigste Fehlerquellen\n",
    "    * Fehlerbehandlung mit `try` und `except`\n",
    "\n",
    "## 5. -6. Kursschiene: Wahlthemen\n",
    "1. Rekursion\n",
    "2. Algorithmen\n",
    "3. Objektorientierung\n",
    "4. Spiel programmieren (connect 4)\n",
    "5. Plotten\n",
    "\n",
    "## 7. Kursschiene: Rotationsvorbereitung und Doku\n",
    "\n",
    "## 8. Kursschiene: Rotation\n",
    "\n",
    "\n",
    "## --für die Schnellen:--\n",
    "Unter x_small_usefull_things stehen Themen bereit, die keinen großen Kontext erfordern und die man sich zwischendurch einfach mal anschauen kann."
   ]
  },
  {
   "cell_type": "markdown",
   "metadata": {},
   "source": [
    "# Im Kurs wahrscheinlich nur angerissene Themen / wie könnte es weitergehen\n",
    "## Ereignisbasierte Programmierung\n",
    "graphische Benutzeroberflächen (Guis) z.B. mit `tkinter` oder QT\n",
    "## Softwareentwicklung\n",
    "1. \"guten\" Code schreiben\n",
    "    * Variablennamen\n",
    "    * Stilkonventionen\n",
    "    * Wartbarkeit\n",
    "    * Zuverlässigkeit\n",
    "    * Lesbarkeit\n",
    "2. Software planen\n",
    "3. Debugging\n",
    "4. Tests\n",
    "## Effizienz und Performance?\n",
    "Es gibt unzählige Programmiersprachen mit verschiedenen Vor- und Nachteilen im Hinblick auf Geschwindigkeit, Wartbarkeit, Zuverlässigkeit, Plattformkompatibilität ...\n"
   ]
  },
  {
   "cell_type": "markdown",
   "metadata": {},
   "source": []
  }
 ],
 "metadata": {
  "language_info": {
   "name": "python"
  },
  "orig_nbformat": 4
 },
 "nbformat": 4,
 "nbformat_minor": 2
}
