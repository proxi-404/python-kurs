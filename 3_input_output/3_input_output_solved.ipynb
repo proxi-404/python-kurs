{
 "cells": [
  {
   "cell_type": "code",
   "execution_count": 10,
   "metadata": {},
   "outputs": [
    {
     "name": "stdout",
     "output_type": "stream",
     "text": [
      "                     1                      \n",
      "                   1   1                    \n",
      "                 1   2   1                  \n",
      "               1   3   3   1                \n",
      "             1   4   6   4   1              \n",
      "           1   5   10  10  5   1            \n",
      "         1   6   15  20  15  6   1          \n",
      "       1   7   21  35  35  21  7   1        \n",
      "     1   8   28  56  70  56  28  8   1      \n",
      "   1   9   36  84 126 126  84  36  9   1    \n"
     ]
    }
   ],
   "source": [
    "def pascal2(max_num):\n",
    "    result = []\n",
    "    for n in range(max_num):\n",
    "        row = []\n",
    "        for k in range(n+1):\n",
    "            i = 0\n",
    "            tmp = 1\n",
    "            for i in range(k):\n",
    "                tmp = tmp * (n-i)\n",
    "                tmp = tmp // (i+1)\n",
    "            row.append(tmp)\n",
    "        string = \"\"\n",
    "        for i in row:\n",
    "            string = string + str(i).center(4,\" \")\n",
    "        string = string.center((max_num+1)*4, \" \")\n",
    "        print(string)  \n",
    "\n",
    "pascal2(10)"
   ]
  },
  {
   "cell_type": "code",
   "execution_count": 8,
   "metadata": {},
   "outputs": [
    {
     "name": "stdout",
     "output_type": "stream",
     "text": [
      "      1 \n",
      "     1 1 \n",
      "    1 2 1 \n",
      "   1 3 3 1 \n",
      "  1 4 6 4 1 \n"
     ]
    }
   ],
   "source": [
    "# Print Pascal's Triangle in Python\n",
    "from math import factorial\n",
    " \n",
    "# input n\n",
    "n = 5\n",
    "for i in range(n):\n",
    "    for j in range(n-i+1):\n",
    " \n",
    "        # for left spacing\n",
    "        print(end=\" \")\n",
    " \n",
    "    for j in range(i+1):\n",
    " \n",
    "        # nCr = n!/((n-r)!*r!)\n",
    "        print(factorial(i)//(factorial(j)*factorial(i-j)), end=\" \")\n",
    " \n",
    "    # for new line\n",
    "    print()"
   ]
  },
  {
   "cell_type": "markdown",
   "metadata": {},
   "source": [
    "### 2 Caesar Verschlüsselung"
   ]
  },
  {
   "cell_type": "code",
   "execution_count": 25,
   "metadata": {},
   "outputs": [],
   "source": [
    "def caesar_encrypt(path_clear, path_decr, n):\n",
    "    file = open(path_clear)\n",
    "    content = file.read()\n",
    "    file.close()\n",
    "    encrypted = \"\"\n",
    "    for char in content:\n",
    "        if (ord(char) in range(65, 65+27)):\n",
    "            new_ascii = (ord(char)-65+n) % 26 + 65\n",
    "            encrypted += chr(new_ascii)\n",
    "        elif (ord(char) in range(65+32, 65+32+27)):\n",
    "            new_ascii = (ord(char)-65-32+n) % 26 + 65+32\n",
    "            encrypted += chr(new_ascii)\n",
    "        else:\n",
    "            encrypted += char\n",
    "    \n",
    "    file = open(path_decr, \"w\")\n",
    "    file.write(encrypted)\n",
    "\n",
    "# caesar_encrypt(\"../files/clear_message.txt\", \"../files/encrypted_message.txt\", 3)\n",
    "\n",
    "clear_file = open(\"../files/clear_message.txt\")\n",
    "clear_message = clear_file.read()\n",
    "clear_file.close()\n",
    "encrypted_message_3 = \"\"\"Glh xqhqgolfkh Jhvfklfkwh lvw hlq 1979 huvfklhqhqhu Urpdq yrq Plfkdho Hqgh. Gdv Zhun lvw hlq cxjohlfk päufkhqkdiwhu, skdqwdvwlvfkhu xqg urpdqwlvfkhu Elogxqjvurpdq xqg jhköuw lqczlvfkhq cx ghq qhxhq Nodvvlnhuq ghu Nlqghu- xqg Mxjhqgolwhudwxu.\n",
    "Ghu Jurßwhlo ghu Kdqgoxqj vslhow lq hlqhu Sdudoohozhow, Skdqwdvlhq jhqdqqw, glh gxufk gdv \"Qlfkwv“ chuvwöuw zlug – lpphu juößhuh Whloh ghv Uhlfkhv yhuvfkzlqghq hlqidfk, rkqh gdvv hwzdv gdyrq cxuüfneohlew. Hlqh Duw Udkphqhucäkoxqj ehvwhkw dxv Vhtxhqchq, glh lq ghu Phqvfkhqzhow dqjhvlhghow vlqg. Mhgh glhvhu Zhowhq vwhoow hlqh ghu ehlghq Kdxswshuvrqhq ghv Urpdqv. Edvwldq Edowkdvdu Exa lvw hlq Phqvfkhqmxqjh, ghu cxqäfkvw qxu hlqhq Urpdq üehu gdv Odqg Skdqwdvlhq olhvw, grfk glh Jhvfklfkwh zlug iüu lkq phku xqg phku cxu Zlunolfknhlw. Vfkolhßolfk zlug hu vhoevw hlq Whlo gdyrq, elv hu nxuc gdyruvwhkw, vlfk lq ghu Skdqwdvlhzhow cx yhuolhuhq. Dwuémx klqjhjhq lvw hlq mxqjhu skdqwdvlvfkhu Mäjhu, ghu lp Dxiwudj ghu nudqnhq Khuuvfkhulq ghv Uhlfkhv, ghu Nlqgolfkhq Ndlvhulq, qdfk ghu Xuvdfkh iüu lkuh Nudqnkhlw vxfkw, xp gdgxufk Skdqwdvlhq cx uhwwhq. Hu zlug vsäwhu cx Edvwldqv Iuhxqg xqg kloiw lkp, ghq Zhj cxuüfn qdfk Kdxvh cx ilqghq. \n",
    "\"\"\"\n",
    "expected = [clear_message, clear_message, encrypted_message_3]\n",
    "shifts = [0, 26, 3]\n",
    "for i in range(3):\n",
    "    caesar_encrypt(\"../files/clear_message.txt\", \"../files/encrypted_message.txt\", shifts[i])\n",
    "    file = open(\"../files/encrypted_message.txt\")\n",
    "    content = file.read()\n",
    "    file.close()\n",
    "    assert content == expected[i]\n",
    "    "
   ]
  },
  {
   "cell_type": "code",
   "execution_count": null,
   "metadata": {},
   "outputs": [],
   "source": []
  }
 ],
 "metadata": {
  "kernelspec": {
   "display_name": "Python 3",
   "language": "python",
   "name": "python3"
  },
  "language_info": {
   "codemirror_mode": {
    "name": "ipython",
    "version": 3
   },
   "file_extension": ".py",
   "mimetype": "text/x-python",
   "name": "python",
   "nbconvert_exporter": "python",
   "pygments_lexer": "ipython3",
   "version": "3.10.12"
  },
  "orig_nbformat": 4
 },
 "nbformat": 4,
 "nbformat_minor": 2
}
