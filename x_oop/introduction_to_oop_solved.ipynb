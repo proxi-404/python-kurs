{
 "cells": [
  {
   "cell_type": "markdown",
   "metadata": {},
   "source": [
    "# Musterlösung Einführung in die OOP\n",
    "### 1 Würfel"
   ]
  },
  {
   "cell_type": "code",
   "execution_count": 1,
   "metadata": {},
   "outputs": [],
   "source": [
    "from random import randint\n",
    "\n",
    "class Dice:\n",
    "    def __init__(self):\n",
    "        self.number = randint(1, 6)\n",
    "    \n",
    "    def cast(self):\n",
    "        self.number = randint(1, 6)"
   ]
  },
  {
   "cell_type": "markdown",
   "metadata": {},
   "source": [
    "### 2 Vektoren"
   ]
  },
  {
   "cell_type": "code",
   "execution_count": 9,
   "metadata": {},
   "outputs": [],
   "source": [
    "class Vec3D:\n",
    "    def __init__(self, x, y, z):\n",
    "        self.x = x\n",
    "        self.y = y\n",
    "        self.z = z\n",
    "\n",
    "    def __add__(self, other):\n",
    "        return Vec3D(self.x+other.x, self.y+other.y, self.z+other.z)\n",
    "    \n",
    "    def __mul__(self, other):\n",
    "        return self.x*other.x + self.y*other.y + self.z*other.z\n",
    "    \n",
    "    def scal_mul(self, num):\n",
    "        return Vec3D(self.x*num, self.y*num, self.z*num)\n",
    "\n",
    "    def __sub__(self, other):\n",
    "        return Vec3D(self.x-other.x, self.y-other.y, self.z-other.z)\n",
    "    \n",
    "    def __str__(self):\n",
    "        return f\"Vec3D: x={self.x}, y={self.y}, z={self.z}\"\n",
    "    \n",
    "    def __eq__(self, other):\n",
    "        return self.x == other.x and self.y == other.y and self.z == other.z\n",
    "    \n",
    "    \n",
    "    def __hash__(self):\n",
    "        return (self.x, self.y, self.z).__hash__()\n",
    "    \n",
    "\n",
    "v1 = Vec3D(1, 2, 3)\n",
    "v2 = Vec3D(-3, -2, 1)\n",
    "s = {v1, v2}\n",
    "assert(v1 + v2 == Vec3D(-2, 0, 4))\n",
    "assert(v1 - v2 == Vec3D(4, 4, 2))\n",
    "assert(v1 * v2 == -4)\n",
    "    \n"
   ]
  },
  {
   "cell_type": "markdown",
   "metadata": {},
   "source": [
    "### 3 Bank"
   ]
  },
  {
   "cell_type": "code",
   "execution_count": 3,
   "metadata": {},
   "outputs": [],
   "source": [
    "import import_ipynb\n",
    "from introduction_to_oop import Bank_account\n",
    "\n",
    "class Bank:\n",
    "    def __init__(self, name, interest):\n",
    "        self.name = name\n",
    "        self.interest = interest\n",
    "        self.customers = []\n",
    "\n",
    "    def add_customer(self, bank_account):\n",
    "        self.customers.append(bank_account)\n",
    "\n",
    "    def remove_customer(self, bank_account):\n",
    "        self.customers.remove(bank_account)\n",
    "\n",
    "    def new_year(self):\n",
    "        for c in self.customers:\n",
    "            c.balance *= (1+self.interest*0.01)\n",
    "\n",
    "    def transaction(self, transmitter, receiver, amount):\n",
    "        self.customers[self.customers.index(transmitter)].balance -= amount\n",
    "        self.customers[self.customers.index(receiver)].balance += amount\n",
    "\n",
    "    def __str__(self):\n",
    "        res = f\"name: {self.name}, interest: {self.interest} \\ncustomers:\\n\"\n",
    "        for c in self.customers:\n",
    "            res += \"\\t\"+str(c) + \"\\n\"\n",
    "        return res\n",
    "    \n",
    "\n",
    "b = Bank(\"my_bank\", 50)\n",
    "c1 = Bank_account(\"x\", 100)\n",
    "c2 = Bank_account(\"y\", 100)\n",
    "c3 = Bank_account(\"z\", 100)\n",
    "b.add_customer(c1)\n",
    "b.add_customer(c2)\n",
    "b.add_customer(c3)\n",
    "assert b.customers == [c1, c2, c3]\n",
    "b.remove_customer(c3)\n",
    "b.transaction(c1, c2, 200)\n",
    "b.new_year()\n",
    "assert b.customers == [Bank_account(\"x\", -150), Bank_account(\"y\", 450)]"
   ]
  },
  {
   "cell_type": "code",
   "execution_count": null,
   "metadata": {},
   "outputs": [],
   "source": []
  }
 ],
 "metadata": {
  "kernelspec": {
   "display_name": "Python 3",
   "language": "python",
   "name": "python3"
  },
  "language_info": {
   "codemirror_mode": {
    "name": "ipython",
    "version": 3
   },
   "file_extension": ".py",
   "mimetype": "text/x-python",
   "name": "python",
   "nbconvert_exporter": "python",
   "pygments_lexer": "ipython3",
   "version": "3.10.12"
  },
  "orig_nbformat": 4
 },
 "nbformat": 4,
 "nbformat_minor": 2
}
