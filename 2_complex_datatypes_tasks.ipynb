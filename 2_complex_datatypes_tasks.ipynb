{
 "cells": [
  {
   "cell_type": "markdown",
   "metadata": {},
   "source": [
    "## Aufgaben zu Listen (und Tupeln)\n",
    "### 1. Collatz II\n",
    "Speichere die Ergebnisse von 1_basics, Aufgabe 5 (Collatz Folge) in eine Liste, anstelle sie nur auszugeben. "
   ]
  },
  {
   "cell_type": "code",
   "execution_count": 1,
   "metadata": {},
   "outputs": [],
   "source": [
    "# assert collatz(1) == [1, 4, 2, 1]\n",
    "# assert collatz(10) == [10, 5, 16, 8, 4, 2, 1]\n",
    "# assert collatz(19) == [19, 58, 29, 88, 44, 22, 11, 34, 17, 52, 26, 13, 40, 20, 10, 5, 16, 8, 4, 2, 1]"
   ]
  },
  {
   "cell_type": "markdown",
   "metadata": {},
   "source": [
    "### 2. Fibonacci II\n",
    "Schreibe eine Funktion die die ersten $n$ Fibonacci Zahlen in eine Liste speichert und zurückgibt."
   ]
  },
  {
   "cell_type": "code",
   "execution_count": 2,
   "metadata": {},
   "outputs": [],
   "source": [
    "# assert fib(0) == [0]\n",
    "# assert fib(1) == [0, 1]\n",
    "# assert fib(2) == [0, 1, 1]\n",
    "# assert fib(10) == [0, 1, 1, 2, 3, 5, 8, 13, 21, 34, 55]"
   ]
  },
  {
   "cell_type": "markdown",
   "metadata": {},
   "source": [
    "### 3. Maximum:\n",
    "Schreibe selbst eine Funktion die das größte Listenelement zurückgibt. Schreibe zusätzlich mit Hilfe der build in Funktion `max()` und `assert` Tests."
   ]
  },
  {
   "cell_type": "code",
   "execution_count": 3,
   "metadata": {},
   "outputs": [],
   "source": [
    "# assert maximum([\"a\", \"n\", \"z\", \"o\"]) == \"z\"\n",
    "# assert maximum([-1, 3, -5, 7, -8.1]) == 7"
   ]
  },
  {
   "cell_type": "markdown",
   "metadata": {},
   "source": [
    "### 4. kleinste Abstände: \n",
    "Schreibe eine Funktion, die die beiden Listenelemente zurückgibt, deren Abstand (immer positiv) am kleinsten ist. Gibt es mehrere Möglichkeiten, so sollen die ersten beiden zutreffenden Elemente zurückgegeben werden. Die Rückgabe soll als aufsteigend sortierte Liste der beiden Werte erfolgen."
   ]
  },
  {
   "cell_type": "code",
   "execution_count": 4,
   "metadata": {},
   "outputs": [],
   "source": [
    "# assert least_dist([1, 4, 7.7, 8, 9, 12, 2, 2.1, 13, 2.04, 3]) == [2, 2.04]\n",
    "# assert least_dist([96, 88, 28, 96, 85, 20, 89, 30, 71, 48]) == [88, 89]\n",
    "# assert least_dist([39, 69, 5, 1, 23, 15, 52, 45, 67, 95]) == [67, 69]"
   ]
  },
  {
   "cell_type": "markdown",
   "metadata": {},
   "source": [
    "### 5. verschachtelte Listen:\n",
    "Schreibe eine Funktion, die das große Einmaleins, d.h. die Ergebnisse aller Multiplikationen von $1 \\cdot 1$ bis $m \\cdot n$ in einer Tabelle ausgibt.\n",
    "\n",
    "**Zusatzaufgabe** Schreibe eine Funktion, die die Tabelle \"schön\" ausgibt.\n",
    "**Tipps:** \n",
    "* `print(f\"{variable:4d}\")` gibt eine die Variable variable als ganze Zahl mit exakt 4 Stellen aus und füllt nicht vorhandene Ziffern mit Leerzeichen auf.\n",
    "* `print(\"something\", end=\"a string\")` gibt *something\" aus und beendet den Befehl nicht mit einem Zeilenumbruch, sondern mit *a string*\n",
    "* Versuche erst, die Zahlen formatiert auszugeben und kümmere dich dann um eine Umrandung / Kopfzeile\n",
    "\n",
    "**Beispiel für schöne Ausgabe**\n",
    "```python\n",
    "  *     1    2    3    4    5    6    7 \n",
    "---- ---- ---- ---- ---- ---- ---- ---- \n",
    " 1 |    1    2    3    4    5    6    7 \n",
    " 2 |    2    4    6    8   10   12   14 \n",
    " 3 |    3    6    9   12   15   18   21 \n",
    " 4 |    4    8   12   16   20   24   28 \n",
    " 5 |    5   10   15   20   25   30   35 \n",
    "```"
   ]
  },
  {
   "cell_type": "markdown",
   "metadata": {},
   "source": [
    "## Zusatzaufgaben (ohne Musterlösung)\n",
    "### Risiko\n",
    "Beim Risikospielen würfelt ein Angreifer mit drei Würfeln geben zwei Würfel des Verteidigers. Da fünf faire Würfel zum Einsatz kommen, gibt es $6^5=7776$ gleich wahrscheinliche Würfelereignisse. Laut Wikipedia führen $2890$ davon zu dem Ergebnis $2:0$, $2611$ zu dem Ergebnis $1:1$ und $2275$ zu dem Ergebnis $0:2$.\n",
    "\n",
    "Schreibe ein Python-Programm, das diese Statistik bestätigt.\n",
    "\n",
    "(Beim Risiko werden die Würfel beider Spieler sortiert und jeweils die größten, die zweitgrößten und ggf. die drittgrößten miteinander verglichen. Für jeden der bis zu drei Vergleiche holt derjenige mit der größeren Augenzahl den Punkt. Bei gleicher Augenzahl gewinnt der Verteidiger.)\n",
    "### Levi-Civita-Symbol\n",
    "Schreibe eine Funktion die das Ergebnis von $\\epsilon_{ijk}$ zurückgibt. Hinterlege die 27 Kombinationen dabei in einer $3 \\times 3 \\times 3 Tabelle$. "
   ]
  }
 ],
 "metadata": {
  "kernelspec": {
   "display_name": "Python 3",
   "language": "python",
   "name": "python3"
  },
  "language_info": {
   "codemirror_mode": {
    "name": "ipython",
    "version": 3
   },
   "file_extension": ".py",
   "mimetype": "text/x-python",
   "name": "python",
   "nbconvert_exporter": "python",
   "pygments_lexer": "ipython3",
   "version": "3.10.12"
  },
  "orig_nbformat": 4
 },
 "nbformat": 4,
 "nbformat_minor": 2
}
